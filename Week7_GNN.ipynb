{
  "cells": [
    {
      "cell_type": "markdown",
      "metadata": {
        "id": "QVTufdO8WeB8"
      },
      "source": [
        "# 다양한 Graph Neural Network을 이용해서 분자의 성질을 예측해보자.\n",
        "----\n",
        "이번 시간에는 pytorch_geometric의 다양한 Graph Neural Network layer를 이용해서 분자 물성 예측을 수행해본다.\n",
        "\n",
        "이번 시간에는 더 많은 atom feature와 edge feature를 고려하여 GNN 학습을 수행해본다."
      ]
    },
    {
      "cell_type": "code",
      "execution_count": null,
      "metadata": {
        "id": "pKJCU4YDWsFy"
      },
      "outputs": [],
      "source": [
        "#!pip install -q condacolab\n",
        "#import condacolab\n",
        "#condacolab.install()\n",
        "\n",
        "#import condacolab\n",
        "#condacolab.check()"
      ]
    },
    {
      "cell_type": "markdown",
      "source": [
        "https://www.rdkit.org/docs/GettingStartedInPython.html"
      ],
      "metadata": {
        "id": "kUdyS4OIK3oe"
      }
    },
    {
      "cell_type": "code",
      "execution_count": null,
      "metadata": {
        "colab": {
          "base_uri": "https://localhost:8080/"
        },
        "id": "ITzq8dFuprFO",
        "outputId": "07246be9-8214-42fe-c006-a34b321d53e1"
      },
      "outputs": [
        {
          "output_type": "stream",
          "name": "stdout",
          "text": [
            "Collecting rdkit\n",
            "  Downloading rdkit-2024.3.5-cp310-cp310-manylinux_2_28_x86_64.whl.metadata (3.9 kB)\n",
            "Requirement already satisfied: numpy in /usr/local/lib/python3.10/dist-packages (from rdkit) (1.26.4)\n",
            "Requirement already satisfied: Pillow in /usr/local/lib/python3.10/dist-packages (from rdkit) (10.4.0)\n",
            "Downloading rdkit-2024.3.5-cp310-cp310-manylinux_2_28_x86_64.whl (33.1 MB)\n",
            "\u001b[2K   \u001b[90m━━━━━━━━━━━━━━━━━━━━━━━━━━━━━━━━━━━━━━━━\u001b[0m \u001b[32m33.1/33.1 MB\u001b[0m \u001b[31m20.5 MB/s\u001b[0m eta \u001b[36m0:00:00\u001b[0m\n",
            "\u001b[?25hInstalling collected packages: rdkit\n",
            "Successfully installed rdkit-2024.3.5\n"
          ]
        }
      ],
      "source": [
        "pip install rdkit"
      ]
    },
    {
      "cell_type": "code",
      "execution_count": null,
      "metadata": {
        "colab": {
          "base_uri": "https://localhost:8080/"
        },
        "id": "gUjXPmuKV20b",
        "outputId": "0ea04600-8273-49b0-fdd3-c7b7e61459a2"
      },
      "outputs": [
        {
          "output_type": "stream",
          "name": "stdout",
          "text": [
            "Tue Oct 15 07:52:32 2024       \n",
            "+---------------------------------------------------------------------------------------+\n",
            "| NVIDIA-SMI 535.104.05             Driver Version: 535.104.05   CUDA Version: 12.2     |\n",
            "|-----------------------------------------+----------------------+----------------------+\n",
            "| GPU  Name                 Persistence-M | Bus-Id        Disp.A | Volatile Uncorr. ECC |\n",
            "| Fan  Temp   Perf          Pwr:Usage/Cap |         Memory-Usage | GPU-Util  Compute M. |\n",
            "|                                         |                      |               MIG M. |\n",
            "|=========================================+======================+======================|\n",
            "|   0  Tesla T4                       Off | 00000000:00:04.0 Off |                    0 |\n",
            "| N/A   49C    P8              12W /  70W |      0MiB / 15360MiB |      0%      Default |\n",
            "|                                         |                      |                  N/A |\n",
            "+-----------------------------------------+----------------------+----------------------+\n",
            "                                                                                         \n",
            "+---------------------------------------------------------------------------------------+\n",
            "| Processes:                                                                            |\n",
            "|  GPU   GI   CI        PID   Type   Process name                            GPU Memory |\n",
            "|        ID   ID                                                             Usage      |\n",
            "|=======================================================================================|\n",
            "|  No running processes found                                                           |\n",
            "+---------------------------------------------------------------------------------------+\n"
          ]
        }
      ],
      "source": [
        "gpu_info = !nvidia-smi\n",
        "gpu_info = '\\n'.join(gpu_info)\n",
        "if gpu_info.find('failed') >= 0:\n",
        "  print('Not connected to a GPU')\n",
        "else:\n",
        "  print(gpu_info)"
      ]
    },
    {
      "cell_type": "markdown",
      "metadata": {
        "id": "nTfhjAyk0Lrk"
      },
      "source": [
        "## Installing pytorch geometric\n",
        "----\n",
        "pytorch geometric은 다양한 graph neural network 알고리즘을 미리 구현해놓은 library이다.\n",
        "\n",
        "https://pytorch-geometric.readthedocs.io/en/latest/index.html\n",
        "\n",
        "이를 이용하면 처음부터 pytorch를 이용하여 구현하는 것이 비해서 상대적으로 손쉽게 graph neural network을 구현할 수 있다.\n",
        "\n"
      ]
    },
    {
      "cell_type": "code",
      "source": [
        "pip install torch_geometric"
      ],
      "metadata": {
        "colab": {
          "base_uri": "https://localhost:8080/"
        },
        "id": "Vx8SMbDVaLte",
        "outputId": "e90cbae5-9f13-4cb5-c87d-eadbd241842d"
      },
      "execution_count": null,
      "outputs": [
        {
          "output_type": "stream",
          "name": "stdout",
          "text": [
            "Collecting torch_geometric\n",
            "  Downloading torch_geometric-2.6.1-py3-none-any.whl.metadata (63 kB)\n",
            "\u001b[?25l     \u001b[90m━━━━━━━━━━━━━━━━━━━━━━━━━━━━━━━━━━━━━━━━\u001b[0m \u001b[32m0.0/63.1 kB\u001b[0m \u001b[31m?\u001b[0m eta \u001b[36m-:--:--\u001b[0m\r\u001b[2K     \u001b[90m━━━━━━━━━━━━━━━━━━━━━━━━━━━━━━━━━━━━━━━━\u001b[0m \u001b[32m63.1/63.1 kB\u001b[0m \u001b[31m3.7 MB/s\u001b[0m eta \u001b[36m0:00:00\u001b[0m\n",
            "\u001b[?25hRequirement already satisfied: aiohttp in /usr/local/lib/python3.10/dist-packages (from torch_geometric) (3.10.10)\n",
            "Requirement already satisfied: fsspec in /usr/local/lib/python3.10/dist-packages (from torch_geometric) (2024.6.1)\n",
            "Requirement already satisfied: jinja2 in /usr/local/lib/python3.10/dist-packages (from torch_geometric) (3.1.4)\n",
            "Requirement already satisfied: numpy in /usr/local/lib/python3.10/dist-packages (from torch_geometric) (1.26.4)\n",
            "Requirement already satisfied: psutil>=5.8.0 in /usr/local/lib/python3.10/dist-packages (from torch_geometric) (5.9.5)\n",
            "Requirement already satisfied: pyparsing in /usr/local/lib/python3.10/dist-packages (from torch_geometric) (3.1.4)\n",
            "Requirement already satisfied: requests in /usr/local/lib/python3.10/dist-packages (from torch_geometric) (2.32.3)\n",
            "Requirement already satisfied: tqdm in /usr/local/lib/python3.10/dist-packages (from torch_geometric) (4.66.5)\n",
            "Requirement already satisfied: aiohappyeyeballs>=2.3.0 in /usr/local/lib/python3.10/dist-packages (from aiohttp->torch_geometric) (2.4.3)\n",
            "Requirement already satisfied: aiosignal>=1.1.2 in /usr/local/lib/python3.10/dist-packages (from aiohttp->torch_geometric) (1.3.1)\n",
            "Requirement already satisfied: attrs>=17.3.0 in /usr/local/lib/python3.10/dist-packages (from aiohttp->torch_geometric) (24.2.0)\n",
            "Requirement already satisfied: frozenlist>=1.1.1 in /usr/local/lib/python3.10/dist-packages (from aiohttp->torch_geometric) (1.4.1)\n",
            "Requirement already satisfied: multidict<7.0,>=4.5 in /usr/local/lib/python3.10/dist-packages (from aiohttp->torch_geometric) (6.1.0)\n",
            "Requirement already satisfied: yarl<2.0,>=1.12.0 in /usr/local/lib/python3.10/dist-packages (from aiohttp->torch_geometric) (1.14.0)\n",
            "Requirement already satisfied: async-timeout<5.0,>=4.0 in /usr/local/lib/python3.10/dist-packages (from aiohttp->torch_geometric) (4.0.3)\n",
            "Requirement already satisfied: MarkupSafe>=2.0 in /usr/local/lib/python3.10/dist-packages (from jinja2->torch_geometric) (3.0.1)\n",
            "Requirement already satisfied: charset-normalizer<4,>=2 in /usr/local/lib/python3.10/dist-packages (from requests->torch_geometric) (3.4.0)\n",
            "Requirement already satisfied: idna<4,>=2.5 in /usr/local/lib/python3.10/dist-packages (from requests->torch_geometric) (3.10)\n",
            "Requirement already satisfied: urllib3<3,>=1.21.1 in /usr/local/lib/python3.10/dist-packages (from requests->torch_geometric) (2.2.3)\n",
            "Requirement already satisfied: certifi>=2017.4.17 in /usr/local/lib/python3.10/dist-packages (from requests->torch_geometric) (2024.8.30)\n",
            "Requirement already satisfied: typing-extensions>=4.1.0 in /usr/local/lib/python3.10/dist-packages (from multidict<7.0,>=4.5->aiohttp->torch_geometric) (4.12.2)\n",
            "Requirement already satisfied: propcache>=0.2.0 in /usr/local/lib/python3.10/dist-packages (from yarl<2.0,>=1.12.0->aiohttp->torch_geometric) (0.2.0)\n",
            "Downloading torch_geometric-2.6.1-py3-none-any.whl (1.1 MB)\n",
            "\u001b[2K   \u001b[90m━━━━━━━━━━━━━━━━━━━━━━━━━━━━━━━━━━━━━━━━\u001b[0m \u001b[32m1.1/1.1 MB\u001b[0m \u001b[31m51.4 MB/s\u001b[0m eta \u001b[36m0:00:00\u001b[0m\n",
            "\u001b[?25hInstalling collected packages: torch_geometric\n",
            "Successfully installed torch_geometric-2.6.1\n"
          ]
        }
      ]
    },
    {
      "cell_type": "markdown",
      "metadata": {
        "id": "3LY4ielFzD00"
      },
      "source": [
        "A graph is used to model pairwise relations (edges) between objects (nodes).\n",
        "\n",
        "A single graph in PyG is described by an instance of **`torch_geometric.data.Data`**, which holds the following attributes by default:\n",
        "\n",
        "**`data.x`**: Node feature matrix with shape `[num_nodes, num_node_features]`\n",
        "\n",
        "**`data.edge_index`**: Graph connectivity in COO format with shape `[2, num_edges]` and type `torch.long`\n",
        "\n",
        "**`data.edge_attr`**: Edge feature matrix with shape `[num_edges, num_edge_features]`\n",
        "\n",
        "**`data.y`**: Target to train against (may have arbitrary shape), e.g., node-level targets of shape `[num_nodes, *]` or graph-level targets of shape `[1, *]`\n",
        "\n",
        "**`data.pos`**: Node position matrix with shape `[num_nodes, num_dimensions]`\n",
        "\n",
        "None of these attributes are required. In fact, the `Data` object is not even restricted to these attributes.\n",
        "\n",
        "We can, e.g., extend it by `data.face` to save the connectivity of triangles from a 3D mesh in a tensor with shape `[3, num_faces]` and type torch.long.\n",
        "\n"
      ]
    },
    {
      "cell_type": "markdown",
      "metadata": {
        "id": "ljZ0x8WjZK2t"
      },
      "source": [
        "We show a simple example of an unweighted and undirected graph with three nodes and four edges. Each node contains exactly one feature:"
      ]
    },
    {
      "cell_type": "code",
      "execution_count": null,
      "metadata": {
        "id": "tCgeOZl82u6L",
        "colab": {
          "base_uri": "https://localhost:8080/"
        },
        "outputId": "d7182bc1-98f2-4f89-99a7-76d1d4cc2d92"
      },
      "outputs": [
        {
          "output_type": "execute_result",
          "data": {
            "text/plain": [
              "Data(x=[3, 1], edge_index=[2, 4])"
            ]
          },
          "metadata": {},
          "execution_count": 5
        }
      ],
      "source": [
        "import torch\n",
        "import torch_geometric\n",
        "from torch_geometric.data import Data # basic graph class\n",
        "\n",
        "# edge index:\n",
        "edge_index = torch.tensor([[0, 1, 1, 2],\n",
        "                           [1, 0, 2, 1]], dtype=torch.long)\n",
        "\n",
        "# node features:\n",
        "x = torch.tensor([[-1], [0], [1]], dtype=torch.float)\n",
        "\n",
        "# generate a graph using the Data class\n",
        "data = Data(x=x, edge_index=edge_index)\n",
        "data"
      ]
    },
    {
      "cell_type": "markdown",
      "metadata": {
        "id": "MybMWggI2uIu"
      },
      "source": [
        "위의 코드는 아래의 그림과 같은 그래프를 나타낸다.\n",
        "* 0번, 1번 노드가 연결되어 있음.\n",
        "* 1번, 2번 노드가 연결되어 있음.\n",
        "* 0번 노드의 특징은 [-1]로 표현됨.\n",
        "* 1번 노드의 특징은 [0]으로 표현됨.\n",
        "* 2번 노드의 특징은 [1]로 표현됨."
      ]
    },
    {
      "cell_type": "markdown",
      "metadata": {
        "id": "M5Gps6J82n4_"
      },
      "source": [
        "<img src=\"https://pytorch-geometric.readthedocs.io/en/latest/_images/graph.svg\" width=600>"
      ]
    },
    {
      "cell_type": "markdown",
      "metadata": {
        "id": "dtiO2nhQ5KYf"
      },
      "source": [
        "Note that **`edge_index`**, i.e. the tensor defining the source and target nodes of all edges, is not a list of index tuples.\n",
        "\n",
        "If you want to write your indices in the form of **`[num_edges, 2]`**, you should transpose and call contiguous on it before passing them to the data constructor:"
      ]
    },
    {
      "cell_type": "code",
      "execution_count": null,
      "metadata": {
        "id": "71tS4Qfc2nge",
        "colab": {
          "base_uri": "https://localhost:8080/"
        },
        "outputId": "54023f93-ba37-454f-8b6d-385f4b6c8f32"
      },
      "outputs": [
        {
          "output_type": "execute_result",
          "data": {
            "text/plain": [
              "Data(x=[3, 1], edge_index=[2, 4])"
            ]
          },
          "metadata": {},
          "execution_count": 6
        }
      ],
      "source": [
        "# edge index\n",
        "edge_index = torch.tensor([[0, 1],\n",
        "                           [1, 0],\n",
        "                           [1, 2],\n",
        "                           [2, 1]], dtype=torch.long)\n",
        "\n",
        "# node features\n",
        "x = torch.tensor([[-1], [0], [1]], dtype=torch.float)\n",
        "\n",
        "data = Data(x=x, edge_index=edge_index.t().contiguous())\n",
        "\n",
        "data"
      ]
    },
    {
      "cell_type": "markdown",
      "metadata": {
        "id": "O09_ZwPj1OdI"
      },
      "source": [
        "그래프 신경망을 이용하여 예측을 수행할 때, 크게 3가지 레벨에서 예측을 수행할 수 있다.\n",
        "\n",
        "1. 노드 수준: 목적값 y값의 개수가 각 노드의 개수와 동일함.  \n",
        "2. 연결 수준: 목적값 y값의 개수가 연결의 개수와 동일함.\n",
        "3. 그래프 수준: 하나의 그래프 전체에서 하나의 목적값을 예측함.\n",
        "\n",
        "<img src=\"https://velog.velcdn.com/images%2Fhixkix59%2Fpost%2F4249de11-3726-4e44-a025-8edd47019365%2Fimage.png\" width=600>"
      ]
    },
    {
      "cell_type": "markdown",
      "metadata": {
        "id": "mpRR4e6z5wXr"
      },
      "source": [
        "Note that it is necessary that the elements in `edge_index` only hold indices in the range `{ 0, ..., num_nodes - 1}`. This is needed as we want our final data representation to be as compact as possible, e.g., we want to index the source and destination node features of the first edge `(0, 1)` via `x[0]` and `x[1]`, respectively. You can always check that your final Data objects fulfill these requirements by running [`validate()`](https://pytorch-geometric.readthedocs.io/en/latest/generated/torch_geometric.data.Data.html#torch_geometric.data.Data.validate). If the returned values is `True`, a given graph is valid:"
      ]
    },
    {
      "cell_type": "code",
      "execution_count": null,
      "metadata": {
        "colab": {
          "base_uri": "https://localhost:8080/"
        },
        "id": "0OeRAkdz5wyR",
        "outputId": "6414f6d7-5bab-427f-8b9f-5ce7271f4997"
      },
      "outputs": [
        {
          "output_type": "execute_result",
          "data": {
            "text/plain": [
              "4"
            ]
          },
          "metadata": {},
          "execution_count": 7
        }
      ],
      "source": [
        "data.validate(raise_on_error=True)\n",
        "data.num_nodes\n",
        "data.num_edges"
      ]
    },
    {
      "cell_type": "markdown",
      "source": [
        "## Toxicity prediction using GCN\n",
        "-------\n"
      ],
      "metadata": {
        "id": "Oc3b0pSMNtXd"
      }
    },
    {
      "cell_type": "code",
      "execution_count": null,
      "metadata": {
        "id": "1JEcsvpc_C8K"
      },
      "outputs": [],
      "source": [
        "import rdkit\n",
        "import rdkit.Chem as Chem\n",
        "import numpy as np\n",
        "import rdkit.Chem.AllChem as AllChem\n",
        "import torch\n",
        "import torch_geometric\n",
        "from torch_geometric.data import Data"
      ]
    },
    {
      "cell_type": "code",
      "execution_count": null,
      "metadata": {
        "id": "TSt6TOVG_ZCx"
      },
      "outputs": [],
      "source": [
        "import pandas as pd\n",
        "import joblib"
      ]
    },
    {
      "cell_type": "markdown",
      "metadata": {
        "id": "qu2O_-msLq_F"
      },
      "source": [
        "Pandas를 이용해서 데이터를 불러온다.\n",
        "\n",
        "\n",
        "참고 사이트: https://wikidocs.net/book/3488"
      ]
    },
    {
      "cell_type": "code",
      "source": [
        "!wget -O tox21.csv.gz https://deepchemdata.s3-us-west-1.amazonaws.com/datasets/tox21.csv.gz\n",
        "df = pd.read_csv('tox21.csv.gz')"
      ],
      "metadata": {
        "colab": {
          "base_uri": "https://localhost:8080/"
        },
        "id": "qSznpehxcAYJ",
        "outputId": "05ff6224-db6d-4592-9d21-4e5cb370bd63"
      },
      "execution_count": null,
      "outputs": [
        {
          "output_type": "stream",
          "name": "stdout",
          "text": [
            "--2024-10-15 07:52:46--  https://deepchemdata.s3-us-west-1.amazonaws.com/datasets/tox21.csv.gz\n",
            "Resolving deepchemdata.s3-us-west-1.amazonaws.com (deepchemdata.s3-us-west-1.amazonaws.com)... 3.5.163.195, 52.219.216.10, 3.5.163.14, ...\n",
            "Connecting to deepchemdata.s3-us-west-1.amazonaws.com (deepchemdata.s3-us-west-1.amazonaws.com)|3.5.163.195|:443... connected.\n",
            "HTTP request sent, awaiting response... 200 OK\n",
            "Length: 122925 (120K) [application/x-gzip]\n",
            "Saving to: ‘tox21.csv.gz’\n",
            "\n",
            "tox21.csv.gz        100%[===================>] 120.04K   224KB/s    in 0.5s    \n",
            "\n",
            "2024-10-15 07:52:47 (224 KB/s) - ‘tox21.csv.gz’ saved [122925/122925]\n",
            "\n"
          ]
        }
      ]
    },
    {
      "cell_type": "code",
      "execution_count": null,
      "metadata": {
        "colab": {
          "base_uri": "https://localhost:8080/",
          "height": 441
        },
        "id": "2Eh_UYcALojQ",
        "outputId": "170d8d75-5a18-4a6b-aea3-8b51ed487dd9"
      },
      "outputs": [
        {
          "output_type": "execute_result",
          "data": {
            "text/plain": [
              "      NR-AR  NR-AR-LBD  NR-AhR  NR-Aromatase  NR-ER  NR-ER-LBD  NR-PPAR-gamma  \\\n",
              "0       0.0        0.0     1.0           NaN    NaN        0.0            0.0   \n",
              "1       0.0        0.0     0.0           0.0    0.0        0.0            0.0   \n",
              "2       NaN        NaN     NaN           NaN    NaN        NaN            NaN   \n",
              "3       0.0        0.0     0.0           0.0    0.0        0.0            0.0   \n",
              "4       0.0        0.0     0.0           0.0    0.0        0.0            0.0   \n",
              "...     ...        ...     ...           ...    ...        ...            ...   \n",
              "7826    NaN        NaN     NaN           NaN    NaN        NaN            NaN   \n",
              "7827    1.0        1.0     0.0           0.0    1.0        0.0            NaN   \n",
              "7828    1.0        1.0     0.0           0.0    1.0        1.0            0.0   \n",
              "7829    1.0        1.0     0.0           NaN    1.0        1.0            0.0   \n",
              "7830    0.0        0.0     NaN           0.0    0.0        0.0            0.0   \n",
              "\n",
              "      SR-ARE  SR-ATAD5  SR-HSE  SR-MMP  SR-p53    mol_id  \\\n",
              "0        1.0       0.0     0.0     0.0     0.0   TOX3021   \n",
              "1        NaN       0.0     NaN     0.0     0.0   TOX3020   \n",
              "2        0.0       NaN     0.0     NaN     NaN   TOX3024   \n",
              "3        NaN       0.0     NaN     0.0     0.0   TOX3027   \n",
              "4        0.0       0.0     0.0     0.0     0.0  TOX20800   \n",
              "...      ...       ...     ...     ...     ...       ...   \n",
              "7826     0.0       NaN     0.0     NaN     NaN   TOX2725   \n",
              "7827     NaN       0.0     0.0     NaN     0.0   TOX2370   \n",
              "7828     1.0       0.0     0.0     0.0     0.0   TOX2371   \n",
              "7829     0.0       0.0     0.0     1.0     1.0   TOX2377   \n",
              "7830     0.0       0.0     0.0     1.0     0.0   TOX2724   \n",
              "\n",
              "                                                 smiles  \n",
              "0                          CCOc1ccc2nc(S(N)(=O)=O)sc2c1  \n",
              "1                             CCN1C(=O)NC(c2ccccc2)C1=O  \n",
              "2     CC[C@]1(O)CC[C@H]2[C@@H]3CCC4=CCCC[C@@H]4[C@H]...  \n",
              "3                       CCCN(CC)C(CC)C(=O)Nc1c(C)cccc1C  \n",
              "4                             CC(O)(P(=O)(O)O)P(=O)(O)O  \n",
              "...                                                 ...  \n",
              "7826  CCOc1nc2cccc(C(=O)O)c2n1Cc1ccc(-c2ccccc2-c2nnn...  \n",
              "7827  CC(=O)[C@H]1CC[C@H]2[C@@H]3CCC4=CC(=O)CC[C@]4(...  \n",
              "7828  C[C@]12CC[C@H]3[C@@H](CCC4=CC(=O)CC[C@@]43C)[C...  \n",
              "7829  C[C@]12CC[C@@H]3c4ccc(O)cc4CC[C@H]3[C@@H]1CC[C...  \n",
              "7830            COc1ccc2c(c1OC)CN1CCc3cc4c(cc3C1C2)OCO4  \n",
              "\n",
              "[7831 rows x 14 columns]"
            ],
            "text/html": [
              "\n",
              "  <div id=\"df-923c7b91-fb57-46cf-a1e7-69677d544e56\" class=\"colab-df-container\">\n",
              "    <div>\n",
              "<style scoped>\n",
              "    .dataframe tbody tr th:only-of-type {\n",
              "        vertical-align: middle;\n",
              "    }\n",
              "\n",
              "    .dataframe tbody tr th {\n",
              "        vertical-align: top;\n",
              "    }\n",
              "\n",
              "    .dataframe thead th {\n",
              "        text-align: right;\n",
              "    }\n",
              "</style>\n",
              "<table border=\"1\" class=\"dataframe\">\n",
              "  <thead>\n",
              "    <tr style=\"text-align: right;\">\n",
              "      <th></th>\n",
              "      <th>NR-AR</th>\n",
              "      <th>NR-AR-LBD</th>\n",
              "      <th>NR-AhR</th>\n",
              "      <th>NR-Aromatase</th>\n",
              "      <th>NR-ER</th>\n",
              "      <th>NR-ER-LBD</th>\n",
              "      <th>NR-PPAR-gamma</th>\n",
              "      <th>SR-ARE</th>\n",
              "      <th>SR-ATAD5</th>\n",
              "      <th>SR-HSE</th>\n",
              "      <th>SR-MMP</th>\n",
              "      <th>SR-p53</th>\n",
              "      <th>mol_id</th>\n",
              "      <th>smiles</th>\n",
              "    </tr>\n",
              "  </thead>\n",
              "  <tbody>\n",
              "    <tr>\n",
              "      <th>0</th>\n",
              "      <td>0.0</td>\n",
              "      <td>0.0</td>\n",
              "      <td>1.0</td>\n",
              "      <td>NaN</td>\n",
              "      <td>NaN</td>\n",
              "      <td>0.0</td>\n",
              "      <td>0.0</td>\n",
              "      <td>1.0</td>\n",
              "      <td>0.0</td>\n",
              "      <td>0.0</td>\n",
              "      <td>0.0</td>\n",
              "      <td>0.0</td>\n",
              "      <td>TOX3021</td>\n",
              "      <td>CCOc1ccc2nc(S(N)(=O)=O)sc2c1</td>\n",
              "    </tr>\n",
              "    <tr>\n",
              "      <th>1</th>\n",
              "      <td>0.0</td>\n",
              "      <td>0.0</td>\n",
              "      <td>0.0</td>\n",
              "      <td>0.0</td>\n",
              "      <td>0.0</td>\n",
              "      <td>0.0</td>\n",
              "      <td>0.0</td>\n",
              "      <td>NaN</td>\n",
              "      <td>0.0</td>\n",
              "      <td>NaN</td>\n",
              "      <td>0.0</td>\n",
              "      <td>0.0</td>\n",
              "      <td>TOX3020</td>\n",
              "      <td>CCN1C(=O)NC(c2ccccc2)C1=O</td>\n",
              "    </tr>\n",
              "    <tr>\n",
              "      <th>2</th>\n",
              "      <td>NaN</td>\n",
              "      <td>NaN</td>\n",
              "      <td>NaN</td>\n",
              "      <td>NaN</td>\n",
              "      <td>NaN</td>\n",
              "      <td>NaN</td>\n",
              "      <td>NaN</td>\n",
              "      <td>0.0</td>\n",
              "      <td>NaN</td>\n",
              "      <td>0.0</td>\n",
              "      <td>NaN</td>\n",
              "      <td>NaN</td>\n",
              "      <td>TOX3024</td>\n",
              "      <td>CC[C@]1(O)CC[C@H]2[C@@H]3CCC4=CCCC[C@@H]4[C@H]...</td>\n",
              "    </tr>\n",
              "    <tr>\n",
              "      <th>3</th>\n",
              "      <td>0.0</td>\n",
              "      <td>0.0</td>\n",
              "      <td>0.0</td>\n",
              "      <td>0.0</td>\n",
              "      <td>0.0</td>\n",
              "      <td>0.0</td>\n",
              "      <td>0.0</td>\n",
              "      <td>NaN</td>\n",
              "      <td>0.0</td>\n",
              "      <td>NaN</td>\n",
              "      <td>0.0</td>\n",
              "      <td>0.0</td>\n",
              "      <td>TOX3027</td>\n",
              "      <td>CCCN(CC)C(CC)C(=O)Nc1c(C)cccc1C</td>\n",
              "    </tr>\n",
              "    <tr>\n",
              "      <th>4</th>\n",
              "      <td>0.0</td>\n",
              "      <td>0.0</td>\n",
              "      <td>0.0</td>\n",
              "      <td>0.0</td>\n",
              "      <td>0.0</td>\n",
              "      <td>0.0</td>\n",
              "      <td>0.0</td>\n",
              "      <td>0.0</td>\n",
              "      <td>0.0</td>\n",
              "      <td>0.0</td>\n",
              "      <td>0.0</td>\n",
              "      <td>0.0</td>\n",
              "      <td>TOX20800</td>\n",
              "      <td>CC(O)(P(=O)(O)O)P(=O)(O)O</td>\n",
              "    </tr>\n",
              "    <tr>\n",
              "      <th>...</th>\n",
              "      <td>...</td>\n",
              "      <td>...</td>\n",
              "      <td>...</td>\n",
              "      <td>...</td>\n",
              "      <td>...</td>\n",
              "      <td>...</td>\n",
              "      <td>...</td>\n",
              "      <td>...</td>\n",
              "      <td>...</td>\n",
              "      <td>...</td>\n",
              "      <td>...</td>\n",
              "      <td>...</td>\n",
              "      <td>...</td>\n",
              "      <td>...</td>\n",
              "    </tr>\n",
              "    <tr>\n",
              "      <th>7826</th>\n",
              "      <td>NaN</td>\n",
              "      <td>NaN</td>\n",
              "      <td>NaN</td>\n",
              "      <td>NaN</td>\n",
              "      <td>NaN</td>\n",
              "      <td>NaN</td>\n",
              "      <td>NaN</td>\n",
              "      <td>0.0</td>\n",
              "      <td>NaN</td>\n",
              "      <td>0.0</td>\n",
              "      <td>NaN</td>\n",
              "      <td>NaN</td>\n",
              "      <td>TOX2725</td>\n",
              "      <td>CCOc1nc2cccc(C(=O)O)c2n1Cc1ccc(-c2ccccc2-c2nnn...</td>\n",
              "    </tr>\n",
              "    <tr>\n",
              "      <th>7827</th>\n",
              "      <td>1.0</td>\n",
              "      <td>1.0</td>\n",
              "      <td>0.0</td>\n",
              "      <td>0.0</td>\n",
              "      <td>1.0</td>\n",
              "      <td>0.0</td>\n",
              "      <td>NaN</td>\n",
              "      <td>NaN</td>\n",
              "      <td>0.0</td>\n",
              "      <td>0.0</td>\n",
              "      <td>NaN</td>\n",
              "      <td>0.0</td>\n",
              "      <td>TOX2370</td>\n",
              "      <td>CC(=O)[C@H]1CC[C@H]2[C@@H]3CCC4=CC(=O)CC[C@]4(...</td>\n",
              "    </tr>\n",
              "    <tr>\n",
              "      <th>7828</th>\n",
              "      <td>1.0</td>\n",
              "      <td>1.0</td>\n",
              "      <td>0.0</td>\n",
              "      <td>0.0</td>\n",
              "      <td>1.0</td>\n",
              "      <td>1.0</td>\n",
              "      <td>0.0</td>\n",
              "      <td>1.0</td>\n",
              "      <td>0.0</td>\n",
              "      <td>0.0</td>\n",
              "      <td>0.0</td>\n",
              "      <td>0.0</td>\n",
              "      <td>TOX2371</td>\n",
              "      <td>C[C@]12CC[C@H]3[C@@H](CCC4=CC(=O)CC[C@@]43C)[C...</td>\n",
              "    </tr>\n",
              "    <tr>\n",
              "      <th>7829</th>\n",
              "      <td>1.0</td>\n",
              "      <td>1.0</td>\n",
              "      <td>0.0</td>\n",
              "      <td>NaN</td>\n",
              "      <td>1.0</td>\n",
              "      <td>1.0</td>\n",
              "      <td>0.0</td>\n",
              "      <td>0.0</td>\n",
              "      <td>0.0</td>\n",
              "      <td>0.0</td>\n",
              "      <td>1.0</td>\n",
              "      <td>1.0</td>\n",
              "      <td>TOX2377</td>\n",
              "      <td>C[C@]12CC[C@@H]3c4ccc(O)cc4CC[C@H]3[C@@H]1CC[C...</td>\n",
              "    </tr>\n",
              "    <tr>\n",
              "      <th>7830</th>\n",
              "      <td>0.0</td>\n",
              "      <td>0.0</td>\n",
              "      <td>NaN</td>\n",
              "      <td>0.0</td>\n",
              "      <td>0.0</td>\n",
              "      <td>0.0</td>\n",
              "      <td>0.0</td>\n",
              "      <td>0.0</td>\n",
              "      <td>0.0</td>\n",
              "      <td>0.0</td>\n",
              "      <td>1.0</td>\n",
              "      <td>0.0</td>\n",
              "      <td>TOX2724</td>\n",
              "      <td>COc1ccc2c(c1OC)CN1CCc3cc4c(cc3C1C2)OCO4</td>\n",
              "    </tr>\n",
              "  </tbody>\n",
              "</table>\n",
              "<p>7831 rows × 14 columns</p>\n",
              "</div>\n",
              "    <div class=\"colab-df-buttons\">\n",
              "\n",
              "  <div class=\"colab-df-container\">\n",
              "    <button class=\"colab-df-convert\" onclick=\"convertToInteractive('df-923c7b91-fb57-46cf-a1e7-69677d544e56')\"\n",
              "            title=\"Convert this dataframe to an interactive table.\"\n",
              "            style=\"display:none;\">\n",
              "\n",
              "  <svg xmlns=\"http://www.w3.org/2000/svg\" height=\"24px\" viewBox=\"0 -960 960 960\">\n",
              "    <path d=\"M120-120v-720h720v720H120Zm60-500h600v-160H180v160Zm220 220h160v-160H400v160Zm0 220h160v-160H400v160ZM180-400h160v-160H180v160Zm440 0h160v-160H620v160ZM180-180h160v-160H180v160Zm440 0h160v-160H620v160Z\"/>\n",
              "  </svg>\n",
              "    </button>\n",
              "\n",
              "  <style>\n",
              "    .colab-df-container {\n",
              "      display:flex;\n",
              "      gap: 12px;\n",
              "    }\n",
              "\n",
              "    .colab-df-convert {\n",
              "      background-color: #E8F0FE;\n",
              "      border: none;\n",
              "      border-radius: 50%;\n",
              "      cursor: pointer;\n",
              "      display: none;\n",
              "      fill: #1967D2;\n",
              "      height: 32px;\n",
              "      padding: 0 0 0 0;\n",
              "      width: 32px;\n",
              "    }\n",
              "\n",
              "    .colab-df-convert:hover {\n",
              "      background-color: #E2EBFA;\n",
              "      box-shadow: 0px 1px 2px rgba(60, 64, 67, 0.3), 0px 1px 3px 1px rgba(60, 64, 67, 0.15);\n",
              "      fill: #174EA6;\n",
              "    }\n",
              "\n",
              "    .colab-df-buttons div {\n",
              "      margin-bottom: 4px;\n",
              "    }\n",
              "\n",
              "    [theme=dark] .colab-df-convert {\n",
              "      background-color: #3B4455;\n",
              "      fill: #D2E3FC;\n",
              "    }\n",
              "\n",
              "    [theme=dark] .colab-df-convert:hover {\n",
              "      background-color: #434B5C;\n",
              "      box-shadow: 0px 1px 3px 1px rgba(0, 0, 0, 0.15);\n",
              "      filter: drop-shadow(0px 1px 2px rgba(0, 0, 0, 0.3));\n",
              "      fill: #FFFFFF;\n",
              "    }\n",
              "  </style>\n",
              "\n",
              "    <script>\n",
              "      const buttonEl =\n",
              "        document.querySelector('#df-923c7b91-fb57-46cf-a1e7-69677d544e56 button.colab-df-convert');\n",
              "      buttonEl.style.display =\n",
              "        google.colab.kernel.accessAllowed ? 'block' : 'none';\n",
              "\n",
              "      async function convertToInteractive(key) {\n",
              "        const element = document.querySelector('#df-923c7b91-fb57-46cf-a1e7-69677d544e56');\n",
              "        const dataTable =\n",
              "          await google.colab.kernel.invokeFunction('convertToInteractive',\n",
              "                                                    [key], {});\n",
              "        if (!dataTable) return;\n",
              "\n",
              "        const docLinkHtml = 'Like what you see? Visit the ' +\n",
              "          '<a target=\"_blank\" href=https://colab.research.google.com/notebooks/data_table.ipynb>data table notebook</a>'\n",
              "          + ' to learn more about interactive tables.';\n",
              "        element.innerHTML = '';\n",
              "        dataTable['output_type'] = 'display_data';\n",
              "        await google.colab.output.renderOutput(dataTable, element);\n",
              "        const docLink = document.createElement('div');\n",
              "        docLink.innerHTML = docLinkHtml;\n",
              "        element.appendChild(docLink);\n",
              "      }\n",
              "    </script>\n",
              "  </div>\n",
              "\n",
              "\n",
              "<div id=\"df-8f46fb7d-b804-4a64-8e9c-5410546110ab\">\n",
              "  <button class=\"colab-df-quickchart\" onclick=\"quickchart('df-8f46fb7d-b804-4a64-8e9c-5410546110ab')\"\n",
              "            title=\"Suggest charts\"\n",
              "            style=\"display:none;\">\n",
              "\n",
              "<svg xmlns=\"http://www.w3.org/2000/svg\" height=\"24px\"viewBox=\"0 0 24 24\"\n",
              "     width=\"24px\">\n",
              "    <g>\n",
              "        <path d=\"M19 3H5c-1.1 0-2 .9-2 2v14c0 1.1.9 2 2 2h14c1.1 0 2-.9 2-2V5c0-1.1-.9-2-2-2zM9 17H7v-7h2v7zm4 0h-2V7h2v10zm4 0h-2v-4h2v4z\"/>\n",
              "    </g>\n",
              "</svg>\n",
              "  </button>\n",
              "\n",
              "<style>\n",
              "  .colab-df-quickchart {\n",
              "      --bg-color: #E8F0FE;\n",
              "      --fill-color: #1967D2;\n",
              "      --hover-bg-color: #E2EBFA;\n",
              "      --hover-fill-color: #174EA6;\n",
              "      --disabled-fill-color: #AAA;\n",
              "      --disabled-bg-color: #DDD;\n",
              "  }\n",
              "\n",
              "  [theme=dark] .colab-df-quickchart {\n",
              "      --bg-color: #3B4455;\n",
              "      --fill-color: #D2E3FC;\n",
              "      --hover-bg-color: #434B5C;\n",
              "      --hover-fill-color: #FFFFFF;\n",
              "      --disabled-bg-color: #3B4455;\n",
              "      --disabled-fill-color: #666;\n",
              "  }\n",
              "\n",
              "  .colab-df-quickchart {\n",
              "    background-color: var(--bg-color);\n",
              "    border: none;\n",
              "    border-radius: 50%;\n",
              "    cursor: pointer;\n",
              "    display: none;\n",
              "    fill: var(--fill-color);\n",
              "    height: 32px;\n",
              "    padding: 0;\n",
              "    width: 32px;\n",
              "  }\n",
              "\n",
              "  .colab-df-quickchart:hover {\n",
              "    background-color: var(--hover-bg-color);\n",
              "    box-shadow: 0 1px 2px rgba(60, 64, 67, 0.3), 0 1px 3px 1px rgba(60, 64, 67, 0.15);\n",
              "    fill: var(--button-hover-fill-color);\n",
              "  }\n",
              "\n",
              "  .colab-df-quickchart-complete:disabled,\n",
              "  .colab-df-quickchart-complete:disabled:hover {\n",
              "    background-color: var(--disabled-bg-color);\n",
              "    fill: var(--disabled-fill-color);\n",
              "    box-shadow: none;\n",
              "  }\n",
              "\n",
              "  .colab-df-spinner {\n",
              "    border: 2px solid var(--fill-color);\n",
              "    border-color: transparent;\n",
              "    border-bottom-color: var(--fill-color);\n",
              "    animation:\n",
              "      spin 1s steps(1) infinite;\n",
              "  }\n",
              "\n",
              "  @keyframes spin {\n",
              "    0% {\n",
              "      border-color: transparent;\n",
              "      border-bottom-color: var(--fill-color);\n",
              "      border-left-color: var(--fill-color);\n",
              "    }\n",
              "    20% {\n",
              "      border-color: transparent;\n",
              "      border-left-color: var(--fill-color);\n",
              "      border-top-color: var(--fill-color);\n",
              "    }\n",
              "    30% {\n",
              "      border-color: transparent;\n",
              "      border-left-color: var(--fill-color);\n",
              "      border-top-color: var(--fill-color);\n",
              "      border-right-color: var(--fill-color);\n",
              "    }\n",
              "    40% {\n",
              "      border-color: transparent;\n",
              "      border-right-color: var(--fill-color);\n",
              "      border-top-color: var(--fill-color);\n",
              "    }\n",
              "    60% {\n",
              "      border-color: transparent;\n",
              "      border-right-color: var(--fill-color);\n",
              "    }\n",
              "    80% {\n",
              "      border-color: transparent;\n",
              "      border-right-color: var(--fill-color);\n",
              "      border-bottom-color: var(--fill-color);\n",
              "    }\n",
              "    90% {\n",
              "      border-color: transparent;\n",
              "      border-bottom-color: var(--fill-color);\n",
              "    }\n",
              "  }\n",
              "</style>\n",
              "\n",
              "  <script>\n",
              "    async function quickchart(key) {\n",
              "      const quickchartButtonEl =\n",
              "        document.querySelector('#' + key + ' button');\n",
              "      quickchartButtonEl.disabled = true;  // To prevent multiple clicks.\n",
              "      quickchartButtonEl.classList.add('colab-df-spinner');\n",
              "      try {\n",
              "        const charts = await google.colab.kernel.invokeFunction(\n",
              "            'suggestCharts', [key], {});\n",
              "      } catch (error) {\n",
              "        console.error('Error during call to suggestCharts:', error);\n",
              "      }\n",
              "      quickchartButtonEl.classList.remove('colab-df-spinner');\n",
              "      quickchartButtonEl.classList.add('colab-df-quickchart-complete');\n",
              "    }\n",
              "    (() => {\n",
              "      let quickchartButtonEl =\n",
              "        document.querySelector('#df-8f46fb7d-b804-4a64-8e9c-5410546110ab button');\n",
              "      quickchartButtonEl.style.display =\n",
              "        google.colab.kernel.accessAllowed ? 'block' : 'none';\n",
              "    })();\n",
              "  </script>\n",
              "</div>\n",
              "\n",
              "  <div id=\"id_851af292-2cb5-4930-b6f0-a50b496636ae\">\n",
              "    <style>\n",
              "      .colab-df-generate {\n",
              "        background-color: #E8F0FE;\n",
              "        border: none;\n",
              "        border-radius: 50%;\n",
              "        cursor: pointer;\n",
              "        display: none;\n",
              "        fill: #1967D2;\n",
              "        height: 32px;\n",
              "        padding: 0 0 0 0;\n",
              "        width: 32px;\n",
              "      }\n",
              "\n",
              "      .colab-df-generate:hover {\n",
              "        background-color: #E2EBFA;\n",
              "        box-shadow: 0px 1px 2px rgba(60, 64, 67, 0.3), 0px 1px 3px 1px rgba(60, 64, 67, 0.15);\n",
              "        fill: #174EA6;\n",
              "      }\n",
              "\n",
              "      [theme=dark] .colab-df-generate {\n",
              "        background-color: #3B4455;\n",
              "        fill: #D2E3FC;\n",
              "      }\n",
              "\n",
              "      [theme=dark] .colab-df-generate:hover {\n",
              "        background-color: #434B5C;\n",
              "        box-shadow: 0px 1px 3px 1px rgba(0, 0, 0, 0.15);\n",
              "        filter: drop-shadow(0px 1px 2px rgba(0, 0, 0, 0.3));\n",
              "        fill: #FFFFFF;\n",
              "      }\n",
              "    </style>\n",
              "    <button class=\"colab-df-generate\" onclick=\"generateWithVariable('df')\"\n",
              "            title=\"Generate code using this dataframe.\"\n",
              "            style=\"display:none;\">\n",
              "\n",
              "  <svg xmlns=\"http://www.w3.org/2000/svg\" height=\"24px\"viewBox=\"0 0 24 24\"\n",
              "       width=\"24px\">\n",
              "    <path d=\"M7,19H8.4L18.45,9,17,7.55,7,17.6ZM5,21V16.75L18.45,3.32a2,2,0,0,1,2.83,0l1.4,1.43a1.91,1.91,0,0,1,.58,1.4,1.91,1.91,0,0,1-.58,1.4L9.25,21ZM18.45,9,17,7.55Zm-12,3A5.31,5.31,0,0,0,4.9,8.1,5.31,5.31,0,0,0,1,6.5,5.31,5.31,0,0,0,4.9,4.9,5.31,5.31,0,0,0,6.5,1,5.31,5.31,0,0,0,8.1,4.9,5.31,5.31,0,0,0,12,6.5,5.46,5.46,0,0,0,6.5,12Z\"/>\n",
              "  </svg>\n",
              "    </button>\n",
              "    <script>\n",
              "      (() => {\n",
              "      const buttonEl =\n",
              "        document.querySelector('#id_851af292-2cb5-4930-b6f0-a50b496636ae button.colab-df-generate');\n",
              "      buttonEl.style.display =\n",
              "        google.colab.kernel.accessAllowed ? 'block' : 'none';\n",
              "\n",
              "      buttonEl.onclick = () => {\n",
              "        google.colab.notebook.generateWithVariable('df');\n",
              "      }\n",
              "      })();\n",
              "    </script>\n",
              "  </div>\n",
              "\n",
              "    </div>\n",
              "  </div>\n"
            ],
            "application/vnd.google.colaboratory.intrinsic+json": {
              "type": "dataframe",
              "variable_name": "df",
              "summary": "{\n  \"name\": \"df\",\n  \"rows\": 7831,\n  \"fields\": [\n    {\n      \"column\": \"NR-AR\",\n      \"properties\": {\n        \"dtype\": \"number\",\n        \"std\": 0.20181493357209349,\n        \"min\": 0.0,\n        \"max\": 1.0,\n        \"num_unique_values\": 2,\n        \"samples\": [\n          1.0,\n          0.0\n        ],\n        \"semantic_type\": \"\",\n        \"description\": \"\"\n      }\n    },\n    {\n      \"column\": \"NR-AR-LBD\",\n      \"properties\": {\n        \"dtype\": \"number\",\n        \"std\": 0.1839692424122634,\n        \"min\": 0.0,\n        \"max\": 1.0,\n        \"num_unique_values\": 2,\n        \"samples\": [\n          1.0,\n          0.0\n        ],\n        \"semantic_type\": \"\",\n        \"description\": \"\"\n      }\n    },\n    {\n      \"column\": \"NR-AhR\",\n      \"properties\": {\n        \"dtype\": \"number\",\n        \"std\": 0.32176608332231277,\n        \"min\": 0.0,\n        \"max\": 1.0,\n        \"num_unique_values\": 2,\n        \"samples\": [\n          0.0,\n          1.0\n        ],\n        \"semantic_type\": \"\",\n        \"description\": \"\"\n      }\n    },\n    {\n      \"column\": \"NR-Aromatase\",\n      \"properties\": {\n        \"dtype\": \"number\",\n        \"std\": 0.22111041971352194,\n        \"min\": 0.0,\n        \"max\": 1.0,\n        \"num_unique_values\": 2,\n        \"samples\": [\n          1.0,\n          0.0\n        ],\n        \"semantic_type\": \"\",\n        \"description\": \"\"\n      }\n    },\n    {\n      \"column\": \"NR-ER\",\n      \"properties\": {\n        \"dtype\": \"number\",\n        \"std\": 0.3341700008176237,\n        \"min\": 0.0,\n        \"max\": 1.0,\n        \"num_unique_values\": 2,\n        \"samples\": [\n          1.0,\n          0.0\n        ],\n        \"semantic_type\": \"\",\n        \"description\": \"\"\n      }\n    },\n    {\n      \"column\": \"NR-ER-LBD\",\n      \"properties\": {\n        \"dtype\": \"number\",\n        \"std\": 0.21862736616947392,\n        \"min\": 0.0,\n        \"max\": 1.0,\n        \"num_unique_values\": 2,\n        \"samples\": [\n          1.0,\n          0.0\n        ],\n        \"semantic_type\": \"\",\n        \"description\": \"\"\n      }\n    },\n    {\n      \"column\": \"NR-PPAR-gamma\",\n      \"properties\": {\n        \"dtype\": \"number\",\n        \"std\": 0.16736178563987142,\n        \"min\": 0.0,\n        \"max\": 1.0,\n        \"num_unique_values\": 2,\n        \"samples\": [\n          1.0,\n          0.0\n        ],\n        \"semantic_type\": \"\",\n        \"description\": \"\"\n      }\n    },\n    {\n      \"column\": \"SR-ARE\",\n      \"properties\": {\n        \"dtype\": \"number\",\n        \"std\": 0.3680438817881247,\n        \"min\": 0.0,\n        \"max\": 1.0,\n        \"num_unique_values\": 2,\n        \"samples\": [\n          0.0,\n          1.0\n        ],\n        \"semantic_type\": \"\",\n        \"description\": \"\"\n      }\n    },\n    {\n      \"column\": \"SR-ATAD5\",\n      \"properties\": {\n        \"dtype\": \"number\",\n        \"std\": 0.1895833496609919,\n        \"min\": 0.0,\n        \"max\": 1.0,\n        \"num_unique_values\": 2,\n        \"samples\": [\n          1.0,\n          0.0\n        ],\n        \"semantic_type\": \"\",\n        \"description\": \"\"\n      }\n    },\n    {\n      \"column\": \"SR-HSE\",\n      \"properties\": {\n        \"dtype\": \"number\",\n        \"std\": 0.23285686400270808,\n        \"min\": 0.0,\n        \"max\": 1.0,\n        \"num_unique_values\": 2,\n        \"samples\": [\n          1.0,\n          0.0\n        ],\n        \"semantic_type\": \"\",\n        \"description\": \"\"\n      }\n    },\n    {\n      \"column\": \"SR-MMP\",\n      \"properties\": {\n        \"dtype\": \"number\",\n        \"std\": 0.3647756250886775,\n        \"min\": 0.0,\n        \"max\": 1.0,\n        \"num_unique_values\": 2,\n        \"samples\": [\n          1.0,\n          0.0\n        ],\n        \"semantic_type\": \"\",\n        \"description\": \"\"\n      }\n    },\n    {\n      \"column\": \"SR-p53\",\n      \"properties\": {\n        \"dtype\": \"number\",\n        \"std\": 0.24197923873141075,\n        \"min\": 0.0,\n        \"max\": 1.0,\n        \"num_unique_values\": 2,\n        \"samples\": [\n          1.0,\n          0.0\n        ],\n        \"semantic_type\": \"\",\n        \"description\": \"\"\n      }\n    },\n    {\n      \"column\": \"mol_id\",\n      \"properties\": {\n        \"dtype\": \"string\",\n        \"num_unique_values\": 7831,\n        \"samples\": [\n          \"TOX667\",\n          \"TOX24624\"\n        ],\n        \"semantic_type\": \"\",\n        \"description\": \"\"\n      }\n    },\n    {\n      \"column\": \"smiles\",\n      \"properties\": {\n        \"dtype\": \"string\",\n        \"num_unique_values\": 7831,\n        \"samples\": [\n          \"NCC(=O)O\",\n          \"C=CC(=O)OCCCCCCCC\"\n        ],\n        \"semantic_type\": \"\",\n        \"description\": \"\"\n      }\n    }\n  ]\n}"
            }
          },
          "metadata": {},
          "execution_count": 11
        }
      ],
      "source": [
        "df"
      ]
    },
    {
      "cell_type": "code",
      "source": [
        "df.dropna(axis='index', subset='NR-AR', inplace=True)"
      ],
      "metadata": {
        "id": "ENf7oYmJcUhq"
      },
      "execution_count": null,
      "outputs": []
    },
    {
      "cell_type": "code",
      "source": [
        "df.reset_index(drop=True)"
      ],
      "metadata": {
        "colab": {
          "base_uri": "https://localhost:8080/",
          "height": 458
        },
        "id": "FBhsNO2Fcaqj",
        "outputId": "7b6b765b-2d23-4caf-a01c-76dec0f35639"
      },
      "execution_count": null,
      "outputs": [
        {
          "output_type": "execute_result",
          "data": {
            "text/plain": [
              "      NR-AR  NR-AR-LBD  NR-AhR  NR-Aromatase  NR-ER  NR-ER-LBD  NR-PPAR-gamma  \\\n",
              "0       0.0        0.0     1.0           NaN    NaN        0.0            0.0   \n",
              "1       0.0        0.0     0.0           0.0    0.0        0.0            0.0   \n",
              "2       0.0        0.0     0.0           0.0    0.0        0.0            0.0   \n",
              "3       0.0        0.0     0.0           0.0    0.0        0.0            0.0   \n",
              "4       0.0        0.0     0.0           0.0    0.0        0.0            0.0   \n",
              "...     ...        ...     ...           ...    ...        ...            ...   \n",
              "7260    0.0        0.0     0.0           0.0    NaN        0.0            NaN   \n",
              "7261    1.0        1.0     0.0           0.0    1.0        0.0            NaN   \n",
              "7262    1.0        1.0     0.0           0.0    1.0        1.0            0.0   \n",
              "7263    1.0        1.0     0.0           NaN    1.0        1.0            0.0   \n",
              "7264    0.0        0.0     NaN           0.0    0.0        0.0            0.0   \n",
              "\n",
              "      SR-ARE  SR-ATAD5  SR-HSE  SR-MMP  SR-p53    mol_id  \\\n",
              "0        1.0       0.0     0.0     0.0     0.0   TOX3021   \n",
              "1        NaN       0.0     NaN     0.0     0.0   TOX3020   \n",
              "2        NaN       0.0     NaN     0.0     0.0   TOX3027   \n",
              "3        0.0       0.0     0.0     0.0     0.0  TOX20800   \n",
              "4        NaN       0.0     0.0     0.0     0.0   TOX5110   \n",
              "...      ...       ...     ...     ...     ...       ...   \n",
              "7260     NaN       0.0     0.0     NaN     0.0  TOX25184   \n",
              "7261     NaN       0.0     0.0     NaN     0.0   TOX2370   \n",
              "7262     1.0       0.0     0.0     0.0     0.0   TOX2371   \n",
              "7263     0.0       0.0     0.0     1.0     1.0   TOX2377   \n",
              "7264     0.0       0.0     0.0     1.0     0.0   TOX2724   \n",
              "\n",
              "                                                 smiles  \n",
              "0                          CCOc1ccc2nc(S(N)(=O)=O)sc2c1  \n",
              "1                             CCN1C(=O)NC(c2ccccc2)C1=O  \n",
              "2                       CCCN(CC)C(CC)C(=O)Nc1c(C)cccc1C  \n",
              "3                             CC(O)(P(=O)(O)O)P(=O)(O)O  \n",
              "4                  CC(C)(C)OOC(C)(C)CCC(C)(C)OOC(C)(C)C  \n",
              "...                                                 ...  \n",
              "7260                 CCCNCC(O)COc1ccccc1C(=O)CCc1ccccc1  \n",
              "7261  CC(=O)[C@H]1CC[C@H]2[C@@H]3CCC4=CC(=O)CC[C@]4(...  \n",
              "7262  C[C@]12CC[C@H]3[C@@H](CCC4=CC(=O)CC[C@@]43C)[C...  \n",
              "7263  C[C@]12CC[C@@H]3c4ccc(O)cc4CC[C@H]3[C@@H]1CC[C...  \n",
              "7264            COc1ccc2c(c1OC)CN1CCc3cc4c(cc3C1C2)OCO4  \n",
              "\n",
              "[7265 rows x 14 columns]"
            ],
            "text/html": [
              "\n",
              "  <div id=\"df-ab4ac029-ed45-49a2-841d-23fcadf4d84d\" class=\"colab-df-container\">\n",
              "    <div>\n",
              "<style scoped>\n",
              "    .dataframe tbody tr th:only-of-type {\n",
              "        vertical-align: middle;\n",
              "    }\n",
              "\n",
              "    .dataframe tbody tr th {\n",
              "        vertical-align: top;\n",
              "    }\n",
              "\n",
              "    .dataframe thead th {\n",
              "        text-align: right;\n",
              "    }\n",
              "</style>\n",
              "<table border=\"1\" class=\"dataframe\">\n",
              "  <thead>\n",
              "    <tr style=\"text-align: right;\">\n",
              "      <th></th>\n",
              "      <th>NR-AR</th>\n",
              "      <th>NR-AR-LBD</th>\n",
              "      <th>NR-AhR</th>\n",
              "      <th>NR-Aromatase</th>\n",
              "      <th>NR-ER</th>\n",
              "      <th>NR-ER-LBD</th>\n",
              "      <th>NR-PPAR-gamma</th>\n",
              "      <th>SR-ARE</th>\n",
              "      <th>SR-ATAD5</th>\n",
              "      <th>SR-HSE</th>\n",
              "      <th>SR-MMP</th>\n",
              "      <th>SR-p53</th>\n",
              "      <th>mol_id</th>\n",
              "      <th>smiles</th>\n",
              "    </tr>\n",
              "  </thead>\n",
              "  <tbody>\n",
              "    <tr>\n",
              "      <th>0</th>\n",
              "      <td>0.0</td>\n",
              "      <td>0.0</td>\n",
              "      <td>1.0</td>\n",
              "      <td>NaN</td>\n",
              "      <td>NaN</td>\n",
              "      <td>0.0</td>\n",
              "      <td>0.0</td>\n",
              "      <td>1.0</td>\n",
              "      <td>0.0</td>\n",
              "      <td>0.0</td>\n",
              "      <td>0.0</td>\n",
              "      <td>0.0</td>\n",
              "      <td>TOX3021</td>\n",
              "      <td>CCOc1ccc2nc(S(N)(=O)=O)sc2c1</td>\n",
              "    </tr>\n",
              "    <tr>\n",
              "      <th>1</th>\n",
              "      <td>0.0</td>\n",
              "      <td>0.0</td>\n",
              "      <td>0.0</td>\n",
              "      <td>0.0</td>\n",
              "      <td>0.0</td>\n",
              "      <td>0.0</td>\n",
              "      <td>0.0</td>\n",
              "      <td>NaN</td>\n",
              "      <td>0.0</td>\n",
              "      <td>NaN</td>\n",
              "      <td>0.0</td>\n",
              "      <td>0.0</td>\n",
              "      <td>TOX3020</td>\n",
              "      <td>CCN1C(=O)NC(c2ccccc2)C1=O</td>\n",
              "    </tr>\n",
              "    <tr>\n",
              "      <th>2</th>\n",
              "      <td>0.0</td>\n",
              "      <td>0.0</td>\n",
              "      <td>0.0</td>\n",
              "      <td>0.0</td>\n",
              "      <td>0.0</td>\n",
              "      <td>0.0</td>\n",
              "      <td>0.0</td>\n",
              "      <td>NaN</td>\n",
              "      <td>0.0</td>\n",
              "      <td>NaN</td>\n",
              "      <td>0.0</td>\n",
              "      <td>0.0</td>\n",
              "      <td>TOX3027</td>\n",
              "      <td>CCCN(CC)C(CC)C(=O)Nc1c(C)cccc1C</td>\n",
              "    </tr>\n",
              "    <tr>\n",
              "      <th>3</th>\n",
              "      <td>0.0</td>\n",
              "      <td>0.0</td>\n",
              "      <td>0.0</td>\n",
              "      <td>0.0</td>\n",
              "      <td>0.0</td>\n",
              "      <td>0.0</td>\n",
              "      <td>0.0</td>\n",
              "      <td>0.0</td>\n",
              "      <td>0.0</td>\n",
              "      <td>0.0</td>\n",
              "      <td>0.0</td>\n",
              "      <td>0.0</td>\n",
              "      <td>TOX20800</td>\n",
              "      <td>CC(O)(P(=O)(O)O)P(=O)(O)O</td>\n",
              "    </tr>\n",
              "    <tr>\n",
              "      <th>4</th>\n",
              "      <td>0.0</td>\n",
              "      <td>0.0</td>\n",
              "      <td>0.0</td>\n",
              "      <td>0.0</td>\n",
              "      <td>0.0</td>\n",
              "      <td>0.0</td>\n",
              "      <td>0.0</td>\n",
              "      <td>NaN</td>\n",
              "      <td>0.0</td>\n",
              "      <td>0.0</td>\n",
              "      <td>0.0</td>\n",
              "      <td>0.0</td>\n",
              "      <td>TOX5110</td>\n",
              "      <td>CC(C)(C)OOC(C)(C)CCC(C)(C)OOC(C)(C)C</td>\n",
              "    </tr>\n",
              "    <tr>\n",
              "      <th>...</th>\n",
              "      <td>...</td>\n",
              "      <td>...</td>\n",
              "      <td>...</td>\n",
              "      <td>...</td>\n",
              "      <td>...</td>\n",
              "      <td>...</td>\n",
              "      <td>...</td>\n",
              "      <td>...</td>\n",
              "      <td>...</td>\n",
              "      <td>...</td>\n",
              "      <td>...</td>\n",
              "      <td>...</td>\n",
              "      <td>...</td>\n",
              "      <td>...</td>\n",
              "    </tr>\n",
              "    <tr>\n",
              "      <th>7260</th>\n",
              "      <td>0.0</td>\n",
              "      <td>0.0</td>\n",
              "      <td>0.0</td>\n",
              "      <td>0.0</td>\n",
              "      <td>NaN</td>\n",
              "      <td>0.0</td>\n",
              "      <td>NaN</td>\n",
              "      <td>NaN</td>\n",
              "      <td>0.0</td>\n",
              "      <td>0.0</td>\n",
              "      <td>NaN</td>\n",
              "      <td>0.0</td>\n",
              "      <td>TOX25184</td>\n",
              "      <td>CCCNCC(O)COc1ccccc1C(=O)CCc1ccccc1</td>\n",
              "    </tr>\n",
              "    <tr>\n",
              "      <th>7261</th>\n",
              "      <td>1.0</td>\n",
              "      <td>1.0</td>\n",
              "      <td>0.0</td>\n",
              "      <td>0.0</td>\n",
              "      <td>1.0</td>\n",
              "      <td>0.0</td>\n",
              "      <td>NaN</td>\n",
              "      <td>NaN</td>\n",
              "      <td>0.0</td>\n",
              "      <td>0.0</td>\n",
              "      <td>NaN</td>\n",
              "      <td>0.0</td>\n",
              "      <td>TOX2370</td>\n",
              "      <td>CC(=O)[C@H]1CC[C@H]2[C@@H]3CCC4=CC(=O)CC[C@]4(...</td>\n",
              "    </tr>\n",
              "    <tr>\n",
              "      <th>7262</th>\n",
              "      <td>1.0</td>\n",
              "      <td>1.0</td>\n",
              "      <td>0.0</td>\n",
              "      <td>0.0</td>\n",
              "      <td>1.0</td>\n",
              "      <td>1.0</td>\n",
              "      <td>0.0</td>\n",
              "      <td>1.0</td>\n",
              "      <td>0.0</td>\n",
              "      <td>0.0</td>\n",
              "      <td>0.0</td>\n",
              "      <td>0.0</td>\n",
              "      <td>TOX2371</td>\n",
              "      <td>C[C@]12CC[C@H]3[C@@H](CCC4=CC(=O)CC[C@@]43C)[C...</td>\n",
              "    </tr>\n",
              "    <tr>\n",
              "      <th>7263</th>\n",
              "      <td>1.0</td>\n",
              "      <td>1.0</td>\n",
              "      <td>0.0</td>\n",
              "      <td>NaN</td>\n",
              "      <td>1.0</td>\n",
              "      <td>1.0</td>\n",
              "      <td>0.0</td>\n",
              "      <td>0.0</td>\n",
              "      <td>0.0</td>\n",
              "      <td>0.0</td>\n",
              "      <td>1.0</td>\n",
              "      <td>1.0</td>\n",
              "      <td>TOX2377</td>\n",
              "      <td>C[C@]12CC[C@@H]3c4ccc(O)cc4CC[C@H]3[C@@H]1CC[C...</td>\n",
              "    </tr>\n",
              "    <tr>\n",
              "      <th>7264</th>\n",
              "      <td>0.0</td>\n",
              "      <td>0.0</td>\n",
              "      <td>NaN</td>\n",
              "      <td>0.0</td>\n",
              "      <td>0.0</td>\n",
              "      <td>0.0</td>\n",
              "      <td>0.0</td>\n",
              "      <td>0.0</td>\n",
              "      <td>0.0</td>\n",
              "      <td>0.0</td>\n",
              "      <td>1.0</td>\n",
              "      <td>0.0</td>\n",
              "      <td>TOX2724</td>\n",
              "      <td>COc1ccc2c(c1OC)CN1CCc3cc4c(cc3C1C2)OCO4</td>\n",
              "    </tr>\n",
              "  </tbody>\n",
              "</table>\n",
              "<p>7265 rows × 14 columns</p>\n",
              "</div>\n",
              "    <div class=\"colab-df-buttons\">\n",
              "\n",
              "  <div class=\"colab-df-container\">\n",
              "    <button class=\"colab-df-convert\" onclick=\"convertToInteractive('df-ab4ac029-ed45-49a2-841d-23fcadf4d84d')\"\n",
              "            title=\"Convert this dataframe to an interactive table.\"\n",
              "            style=\"display:none;\">\n",
              "\n",
              "  <svg xmlns=\"http://www.w3.org/2000/svg\" height=\"24px\" viewBox=\"0 -960 960 960\">\n",
              "    <path d=\"M120-120v-720h720v720H120Zm60-500h600v-160H180v160Zm220 220h160v-160H400v160Zm0 220h160v-160H400v160ZM180-400h160v-160H180v160Zm440 0h160v-160H620v160ZM180-180h160v-160H180v160Zm440 0h160v-160H620v160Z\"/>\n",
              "  </svg>\n",
              "    </button>\n",
              "\n",
              "  <style>\n",
              "    .colab-df-container {\n",
              "      display:flex;\n",
              "      gap: 12px;\n",
              "    }\n",
              "\n",
              "    .colab-df-convert {\n",
              "      background-color: #E8F0FE;\n",
              "      border: none;\n",
              "      border-radius: 50%;\n",
              "      cursor: pointer;\n",
              "      display: none;\n",
              "      fill: #1967D2;\n",
              "      height: 32px;\n",
              "      padding: 0 0 0 0;\n",
              "      width: 32px;\n",
              "    }\n",
              "\n",
              "    .colab-df-convert:hover {\n",
              "      background-color: #E2EBFA;\n",
              "      box-shadow: 0px 1px 2px rgba(60, 64, 67, 0.3), 0px 1px 3px 1px rgba(60, 64, 67, 0.15);\n",
              "      fill: #174EA6;\n",
              "    }\n",
              "\n",
              "    .colab-df-buttons div {\n",
              "      margin-bottom: 4px;\n",
              "    }\n",
              "\n",
              "    [theme=dark] .colab-df-convert {\n",
              "      background-color: #3B4455;\n",
              "      fill: #D2E3FC;\n",
              "    }\n",
              "\n",
              "    [theme=dark] .colab-df-convert:hover {\n",
              "      background-color: #434B5C;\n",
              "      box-shadow: 0px 1px 3px 1px rgba(0, 0, 0, 0.15);\n",
              "      filter: drop-shadow(0px 1px 2px rgba(0, 0, 0, 0.3));\n",
              "      fill: #FFFFFF;\n",
              "    }\n",
              "  </style>\n",
              "\n",
              "    <script>\n",
              "      const buttonEl =\n",
              "        document.querySelector('#df-ab4ac029-ed45-49a2-841d-23fcadf4d84d button.colab-df-convert');\n",
              "      buttonEl.style.display =\n",
              "        google.colab.kernel.accessAllowed ? 'block' : 'none';\n",
              "\n",
              "      async function convertToInteractive(key) {\n",
              "        const element = document.querySelector('#df-ab4ac029-ed45-49a2-841d-23fcadf4d84d');\n",
              "        const dataTable =\n",
              "          await google.colab.kernel.invokeFunction('convertToInteractive',\n",
              "                                                    [key], {});\n",
              "        if (!dataTable) return;\n",
              "\n",
              "        const docLinkHtml = 'Like what you see? Visit the ' +\n",
              "          '<a target=\"_blank\" href=https://colab.research.google.com/notebooks/data_table.ipynb>data table notebook</a>'\n",
              "          + ' to learn more about interactive tables.';\n",
              "        element.innerHTML = '';\n",
              "        dataTable['output_type'] = 'display_data';\n",
              "        await google.colab.output.renderOutput(dataTable, element);\n",
              "        const docLink = document.createElement('div');\n",
              "        docLink.innerHTML = docLinkHtml;\n",
              "        element.appendChild(docLink);\n",
              "      }\n",
              "    </script>\n",
              "  </div>\n",
              "\n",
              "\n",
              "<div id=\"df-d23f5acb-a79e-417e-a694-6602ab35dae8\">\n",
              "  <button class=\"colab-df-quickchart\" onclick=\"quickchart('df-d23f5acb-a79e-417e-a694-6602ab35dae8')\"\n",
              "            title=\"Suggest charts\"\n",
              "            style=\"display:none;\">\n",
              "\n",
              "<svg xmlns=\"http://www.w3.org/2000/svg\" height=\"24px\"viewBox=\"0 0 24 24\"\n",
              "     width=\"24px\">\n",
              "    <g>\n",
              "        <path d=\"M19 3H5c-1.1 0-2 .9-2 2v14c0 1.1.9 2 2 2h14c1.1 0 2-.9 2-2V5c0-1.1-.9-2-2-2zM9 17H7v-7h2v7zm4 0h-2V7h2v10zm4 0h-2v-4h2v4z\"/>\n",
              "    </g>\n",
              "</svg>\n",
              "  </button>\n",
              "\n",
              "<style>\n",
              "  .colab-df-quickchart {\n",
              "      --bg-color: #E8F0FE;\n",
              "      --fill-color: #1967D2;\n",
              "      --hover-bg-color: #E2EBFA;\n",
              "      --hover-fill-color: #174EA6;\n",
              "      --disabled-fill-color: #AAA;\n",
              "      --disabled-bg-color: #DDD;\n",
              "  }\n",
              "\n",
              "  [theme=dark] .colab-df-quickchart {\n",
              "      --bg-color: #3B4455;\n",
              "      --fill-color: #D2E3FC;\n",
              "      --hover-bg-color: #434B5C;\n",
              "      --hover-fill-color: #FFFFFF;\n",
              "      --disabled-bg-color: #3B4455;\n",
              "      --disabled-fill-color: #666;\n",
              "  }\n",
              "\n",
              "  .colab-df-quickchart {\n",
              "    background-color: var(--bg-color);\n",
              "    border: none;\n",
              "    border-radius: 50%;\n",
              "    cursor: pointer;\n",
              "    display: none;\n",
              "    fill: var(--fill-color);\n",
              "    height: 32px;\n",
              "    padding: 0;\n",
              "    width: 32px;\n",
              "  }\n",
              "\n",
              "  .colab-df-quickchart:hover {\n",
              "    background-color: var(--hover-bg-color);\n",
              "    box-shadow: 0 1px 2px rgba(60, 64, 67, 0.3), 0 1px 3px 1px rgba(60, 64, 67, 0.15);\n",
              "    fill: var(--button-hover-fill-color);\n",
              "  }\n",
              "\n",
              "  .colab-df-quickchart-complete:disabled,\n",
              "  .colab-df-quickchart-complete:disabled:hover {\n",
              "    background-color: var(--disabled-bg-color);\n",
              "    fill: var(--disabled-fill-color);\n",
              "    box-shadow: none;\n",
              "  }\n",
              "\n",
              "  .colab-df-spinner {\n",
              "    border: 2px solid var(--fill-color);\n",
              "    border-color: transparent;\n",
              "    border-bottom-color: var(--fill-color);\n",
              "    animation:\n",
              "      spin 1s steps(1) infinite;\n",
              "  }\n",
              "\n",
              "  @keyframes spin {\n",
              "    0% {\n",
              "      border-color: transparent;\n",
              "      border-bottom-color: var(--fill-color);\n",
              "      border-left-color: var(--fill-color);\n",
              "    }\n",
              "    20% {\n",
              "      border-color: transparent;\n",
              "      border-left-color: var(--fill-color);\n",
              "      border-top-color: var(--fill-color);\n",
              "    }\n",
              "    30% {\n",
              "      border-color: transparent;\n",
              "      border-left-color: var(--fill-color);\n",
              "      border-top-color: var(--fill-color);\n",
              "      border-right-color: var(--fill-color);\n",
              "    }\n",
              "    40% {\n",
              "      border-color: transparent;\n",
              "      border-right-color: var(--fill-color);\n",
              "      border-top-color: var(--fill-color);\n",
              "    }\n",
              "    60% {\n",
              "      border-color: transparent;\n",
              "      border-right-color: var(--fill-color);\n",
              "    }\n",
              "    80% {\n",
              "      border-color: transparent;\n",
              "      border-right-color: var(--fill-color);\n",
              "      border-bottom-color: var(--fill-color);\n",
              "    }\n",
              "    90% {\n",
              "      border-color: transparent;\n",
              "      border-bottom-color: var(--fill-color);\n",
              "    }\n",
              "  }\n",
              "</style>\n",
              "\n",
              "  <script>\n",
              "    async function quickchart(key) {\n",
              "      const quickchartButtonEl =\n",
              "        document.querySelector('#' + key + ' button');\n",
              "      quickchartButtonEl.disabled = true;  // To prevent multiple clicks.\n",
              "      quickchartButtonEl.classList.add('colab-df-spinner');\n",
              "      try {\n",
              "        const charts = await google.colab.kernel.invokeFunction(\n",
              "            'suggestCharts', [key], {});\n",
              "      } catch (error) {\n",
              "        console.error('Error during call to suggestCharts:', error);\n",
              "      }\n",
              "      quickchartButtonEl.classList.remove('colab-df-spinner');\n",
              "      quickchartButtonEl.classList.add('colab-df-quickchart-complete');\n",
              "    }\n",
              "    (() => {\n",
              "      let quickchartButtonEl =\n",
              "        document.querySelector('#df-d23f5acb-a79e-417e-a694-6602ab35dae8 button');\n",
              "      quickchartButtonEl.style.display =\n",
              "        google.colab.kernel.accessAllowed ? 'block' : 'none';\n",
              "    })();\n",
              "  </script>\n",
              "</div>\n",
              "\n",
              "    </div>\n",
              "  </div>\n"
            ],
            "application/vnd.google.colaboratory.intrinsic+json": {
              "type": "dataframe",
              "summary": "{\n  \"name\": \"df\",\n  \"rows\": 7265,\n  \"fields\": [\n    {\n      \"column\": \"NR-AR\",\n      \"properties\": {\n        \"dtype\": \"number\",\n        \"std\": 0.20181493357209349,\n        \"min\": 0.0,\n        \"max\": 1.0,\n        \"num_unique_values\": 2,\n        \"samples\": [\n          1.0,\n          0.0\n        ],\n        \"semantic_type\": \"\",\n        \"description\": \"\"\n      }\n    },\n    {\n      \"column\": \"NR-AR-LBD\",\n      \"properties\": {\n        \"dtype\": \"number\",\n        \"std\": 0.18377647348660942,\n        \"min\": 0.0,\n        \"max\": 1.0,\n        \"num_unique_values\": 2,\n        \"samples\": [\n          1.0,\n          0.0\n        ],\n        \"semantic_type\": \"\",\n        \"description\": \"\"\n      }\n    },\n    {\n      \"column\": \"NR-AhR\",\n      \"properties\": {\n        \"dtype\": \"number\",\n        \"std\": 0.3212938398475335,\n        \"min\": 0.0,\n        \"max\": 1.0,\n        \"num_unique_values\": 2,\n        \"samples\": [\n          0.0,\n          1.0\n        ],\n        \"semantic_type\": \"\",\n        \"description\": \"\"\n      }\n    },\n    {\n      \"column\": \"NR-Aromatase\",\n      \"properties\": {\n        \"dtype\": \"number\",\n        \"std\": 0.22038329591504685,\n        \"min\": 0.0,\n        \"max\": 1.0,\n        \"num_unique_values\": 2,\n        \"samples\": [\n          1.0,\n          0.0\n        ],\n        \"semantic_type\": \"\",\n        \"description\": \"\"\n      }\n    },\n    {\n      \"column\": \"NR-ER\",\n      \"properties\": {\n        \"dtype\": \"number\",\n        \"std\": 0.3332555969452525,\n        \"min\": 0.0,\n        \"max\": 1.0,\n        \"num_unique_values\": 2,\n        \"samples\": [\n          1.0,\n          0.0\n        ],\n        \"semantic_type\": \"\",\n        \"description\": \"\"\n      }\n    },\n    {\n      \"column\": \"NR-ER-LBD\",\n      \"properties\": {\n        \"dtype\": \"number\",\n        \"std\": 0.2187431111729615,\n        \"min\": 0.0,\n        \"max\": 1.0,\n        \"num_unique_values\": 2,\n        \"samples\": [\n          1.0,\n          0.0\n        ],\n        \"semantic_type\": \"\",\n        \"description\": \"\"\n      }\n    },\n    {\n      \"column\": \"NR-PPAR-gamma\",\n      \"properties\": {\n        \"dtype\": \"number\",\n        \"std\": 0.16772770049391983,\n        \"min\": 0.0,\n        \"max\": 1.0,\n        \"num_unique_values\": 2,\n        \"samples\": [\n          1.0,\n          0.0\n        ],\n        \"semantic_type\": \"\",\n        \"description\": \"\"\n      }\n    },\n    {\n      \"column\": \"SR-ARE\",\n      \"properties\": {\n        \"dtype\": \"number\",\n        \"std\": 0.3699735224599843,\n        \"min\": 0.0,\n        \"max\": 1.0,\n        \"num_unique_values\": 2,\n        \"samples\": [\n          0.0,\n          1.0\n        ],\n        \"semantic_type\": \"\",\n        \"description\": \"\"\n      }\n    },\n    {\n      \"column\": \"SR-ATAD5\",\n      \"properties\": {\n        \"dtype\": \"number\",\n        \"std\": 0.18743925160665248,\n        \"min\": 0.0,\n        \"max\": 1.0,\n        \"num_unique_values\": 2,\n        \"samples\": [\n          1.0,\n          0.0\n        ],\n        \"semantic_type\": \"\",\n        \"description\": \"\"\n      }\n    },\n    {\n      \"column\": \"SR-HSE\",\n      \"properties\": {\n        \"dtype\": \"number\",\n        \"std\": 0.235963612439854,\n        \"min\": 0.0,\n        \"max\": 1.0,\n        \"num_unique_values\": 2,\n        \"samples\": [\n          1.0,\n          0.0\n        ],\n        \"semantic_type\": \"\",\n        \"description\": \"\"\n      }\n    },\n    {\n      \"column\": \"SR-MMP\",\n      \"properties\": {\n        \"dtype\": \"number\",\n        \"std\": 0.36301517619947204,\n        \"min\": 0.0,\n        \"max\": 1.0,\n        \"num_unique_values\": 2,\n        \"samples\": [\n          1.0,\n          0.0\n        ],\n        \"semantic_type\": \"\",\n        \"description\": \"\"\n      }\n    },\n    {\n      \"column\": \"SR-p53\",\n      \"properties\": {\n        \"dtype\": \"number\",\n        \"std\": 0.24112785035501447,\n        \"min\": 0.0,\n        \"max\": 1.0,\n        \"num_unique_values\": 2,\n        \"samples\": [\n          1.0,\n          0.0\n        ],\n        \"semantic_type\": \"\",\n        \"description\": \"\"\n      }\n    },\n    {\n      \"column\": \"mol_id\",\n      \"properties\": {\n        \"dtype\": \"string\",\n        \"num_unique_values\": 7265,\n        \"samples\": [\n          \"TOX25807\",\n          \"TOX27823\"\n        ],\n        \"semantic_type\": \"\",\n        \"description\": \"\"\n      }\n    },\n    {\n      \"column\": \"smiles\",\n      \"properties\": {\n        \"dtype\": \"string\",\n        \"num_unique_values\": 7265,\n        \"samples\": [\n          \"Cc1ccc(S(=O)(=O)N[C@@H](CCCCN)C(=O)CCl)cc1\",\n          \"[2H]C([2H])([2H])[C@H](N)Cc1ccccc1.[2H]C([2H])([2H])[C@H](N)Cc1ccccc1\"\n        ],\n        \"semantic_type\": \"\",\n        \"description\": \"\"\n      }\n    }\n  ]\n}"
            }
          },
          "metadata": {},
          "execution_count": 13
        }
      ]
    },
    {
      "cell_type": "markdown",
      "metadata": {
        "id": "s3Xi0mbOM-ae"
      },
      "source": [
        "## 분자를 그래프로 나타내기\n",
        "\n",
        "----\n",
        "이번 예측에서는 H, B, C, N, O, F, P, S, Cl 만으로 이루어진 분자들만 고려하도록 하겠습니다.\n",
        "\n",
        "이를 위해서 간단히 분자가 H, B, C, N, O, F, P, S, Cl만으로 구성되어 있는지를 확인하는 함수를 정의하겠습니다."
      ]
    },
    {
      "cell_type": "code",
      "execution_count": null,
      "metadata": {
        "id": "9m0HWI_UhXSd"
      },
      "outputs": [],
      "source": [
        "def check_atoms(mol):\n",
        "  \"\"\"\n",
        "  This function checks whether all atoms are valid\n",
        "  \"\"\"\n",
        "  valid_atoms = ('B', 'C', 'N', 'O', 'F', 'P', 'S', 'Cl')\n",
        "  flag = True\n",
        "  for atm in mol.GetAtoms(): # 분자 안에 존재하는 모든 atom에 대해서 loop을 수행.\n",
        "    if atm.GetSymbol() not in valid_atoms:\n",
        "      flag = False\n",
        "      break\n",
        "  return flag"
      ]
    },
    {
      "cell_type": "code",
      "execution_count": null,
      "metadata": {
        "colab": {
          "base_uri": "https://localhost:8080/"
        },
        "id": "ZE-Z2Sd2Lp8v",
        "outputId": "abed11b2-aa9f-4568-9757-ab5b3b4a276c"
      },
      "outputs": [
        {
          "output_type": "stream",
          "name": "stderr",
          "text": [
            "0it [00:00, ?it/s][07:52:47] WARNING: not removing hydrogen atom without neighbors\n",
            "7265it [00:01, 3927.45it/s]\n"
          ]
        }
      ],
      "source": [
        "from tqdm import tqdm\n",
        "objective = []\n",
        "for smi, score in tqdm(zip(df[\"smiles\"], df[\"NR-AR\"])):\n",
        "  mol = Chem.MolFromSmiles(smi)\n",
        "  if check_atoms(mol): # 모든 atom들이 원하는 atom들로만 구성되어 있을 때.\n",
        "    objective.append((mol, score))\n",
        "  else:\n",
        "    continue"
      ]
    },
    {
      "cell_type": "code",
      "source": [
        "print(len(objective))"
      ],
      "metadata": {
        "colab": {
          "base_uri": "https://localhost:8080/"
        },
        "id": "O3xAhjvSOKpI",
        "outputId": "fdd090f2-0b1e-4fb5-bc49-59e979e3c8d9"
      },
      "execution_count": null,
      "outputs": [
        {
          "output_type": "stream",
          "name": "stdout",
          "text": [
            "6788\n"
          ]
        }
      ]
    },
    {
      "cell_type": "markdown",
      "metadata": {
        "id": "AISEXEVxmwsq"
      },
      "source": [
        "### Converting molecules to graphs using RDKit\n",
        "\n",
        "----\n",
        "\n",
        "분자를 그래프로 변환하여 나타낸다. 가능한 모든 atom / bond feature들을 뽑아낸다.\n",
        "\n",
        "ref: https://pubs.acs.org/doi/abs/10.1021/acs.jmedchem.9b00959\n",
        "https://www.rdkit.org/docs/source/rdkit.Chem.rdchem.html#rdkit.Chem.rdchem.HybridizationType"
      ]
    },
    {
      "cell_type": "code",
      "execution_count": null,
      "metadata": {
        "id": "ldrSiv5_M5b4"
      },
      "outputs": [],
      "source": [
        "def convert_mol_to_graph(mol, use_pos = False):\n",
        "\n",
        "    #mol2 = Chem.AddHs(mol)   # 수소 붙임.\n",
        "    mol2 = Chem.RemoveHs(mol) # 그래프를 간단히 하기 위해 수소 제거.\n",
        "\n",
        "    n_bonds = len(mol2.GetBonds()) # 분자의 공유 결합 개수\n",
        "    n_atoms = len(mol2.GetAtoms()) # 분자의 원자 개수\n",
        "\n",
        "    edge_index = []\n",
        "    edge_attr = []\n",
        "    edge_weight = []\n",
        "\n",
        "    # Edge attribute calculation\n",
        "    for edge_idx in range(n_bonds): # 전체 공유 결합에 대해서 loop을 돌린다.\n",
        "        bond = mol2.GetBondWithIdx(edge_idx) # 각 공유 결합에 대해서 시작 atom과 끝 atom의 인덱스를 확인.\n",
        "        edge_index.append([bond.GetBeginAtomIdx(), bond.GetEndAtomIdx()])\n",
        "        edge_index.append([bond.GetEndAtomIdx(), bond.GetBeginAtomIdx()]) # undirected graph를 만들기 위해서 순서를 바꿔서 edge를 2번 넣어준다.\n",
        "\n",
        "        # BondType (4-dimensional one-hot)\n",
        "        btype = bond.GetBondType() # 공유 결합의 종류.\n",
        "        if btype == Chem.rdchem.BondType.SINGLE:\n",
        "            bond_one_hot = [1, 0, 0, 0]\n",
        "            edge_weight.extend([1.0, 1.0])\n",
        "        elif btype == Chem.rdchem.BondType.AROMATIC:\n",
        "            bond_one_hot = [0, 1, 0, 0]\n",
        "            edge_weight.extend([1.5, 1.5])\n",
        "        elif btype == Chem.rdchem.BondType.DOUBLE:\n",
        "            bond_one_hot = [0, 0, 1, 0]\n",
        "            edge_weight.extend([2.0, 2.0])\n",
        "        elif btype == Chem.rdchem.BondType.TRIPLE:\n",
        "            bond_one_hot = [0, 0, 0, 1]\n",
        "            edge_weight.extend([3.0, 3.0])\n",
        "\n",
        "        # BondStereo (6-dimensional one-hot)\n",
        "        stype = bond.GetStereo()\n",
        "        if stype == Chem.rdchem.BondStereo.STEREOANY:\n",
        "          stereo_one_hot = [1, 0, 0, 0, 0, 0]\n",
        "        elif stype == Chem.rdchem.BondStereo.STEREOCIS:\n",
        "          stereo_one_hot = [0, 1, 0, 0, 0, 0]\n",
        "        elif stype == Chem.rdchem.BondStereo.STEREOE:\n",
        "          stereo_one_hot = [0, 0, 1, 0, 0, 0]\n",
        "        elif stype == Chem.rdchem.BondStereo.STEREONONE:\n",
        "          stereo_one_hot = [0, 0, 0, 1, 0, 0]\n",
        "        elif stype == Chem.rdchem.BondStereo.STEREOTRANS:\n",
        "          stereo_one_hot = [0, 0, 0, 0, 1, 0]\n",
        "        elif stype == Chem.rdchem.BondStereo.STEREOZ:\n",
        "          stereo_one_hot = [0, 0, 0, 0, 0, 1]\n",
        "\n",
        "        # Is this bond included in a ring?\n",
        "        if bond.IsInRing():\n",
        "          ring_bond = 1\n",
        "        else:\n",
        "          ring_bond = 0\n",
        "\n",
        "        # Is this bond a conjugated bond?\n",
        "        if bond.GetIsConjugated():\n",
        "          conjugate = 1\n",
        "        else:\n",
        "          conjugate = 0\n",
        "\n",
        "        # In total 12-dimensional edge attribute\n",
        "        # bond-type (4-dim), bondstereo (6-dim), (ring, conjugate)\n",
        "        # Can you image more?\n",
        "        attr = bond_one_hot + stereo_one_hot + [ring_bond, conjugate] # 12 차원의 공유 결합 속성.\n",
        "\n",
        "        # 분자는 undirected graph이므로 edge가 두 번 정의된다.\n",
        "        # 그러므로 동일한 attribute를 두 번 넣어주어야 한다.\n",
        "        edge_attr.append(attr)\n",
        "        edge_attr.append(attr)\n",
        "    ## edge 속성 계산 완료\n",
        "\n",
        "    ## node 속성 계산\n",
        "    # RDKit으로 계산할 수 있는 Atom의 속성은 아래 링크에서 확인할 수 있다.\n",
        "    # https://www.rdkit.org/docs/source/rdkit.Chem.rdchem.html#rdkit.Chem.rdchem.Atom\n",
        "    #\n",
        "    #.        0.   1.   2.   3.   4.   5.   6.   7.   8.\n",
        "    #        'H', 'B', 'C', 'N', 'O', 'F', 'P', 'S', 'Cl'\n",
        "    valid_atoms = {'H': 0, 'B':1, 'C':2, 'N':3, 'O':4, 'F':5, 'P':6, 'S':7, 'Cl':8}\n",
        "    node_attr = []\n",
        "    for atm_id in range(n_atoms):\n",
        "        # Select an atom.\n",
        "        atm = mol2.GetAtomWithIdx(atm_id)\n",
        "\n",
        "        # Atom symbol check (9-dim)\n",
        "        sym = atm.GetSymbol()\n",
        "        atm_one_hot = [0] * len(valid_atoms) # 0이 9개 들어있는 리스트를 만든다.\n",
        "        idx = valid_atoms[sym] # sym에 해당하는 원소 기호가 몇 번째에 있는지?\n",
        "        atm_one_hot[idx] = 1   # 해당되는 원소의 위치만 1로 바꾼다.\n",
        "\n",
        "        # Check hybridization (7-dim)\n",
        "        hybrid = atm.GetHybridization()\n",
        "        hybrid_one_hot = [0] * 7 # [0, 0, 0, 0, 0, 0, 0]\n",
        "        if hybrid == Chem.HybridizationType.SP3:\n",
        "          hybrid_one_hot[0] = 1\n",
        "        elif hybrid == Chem.HybridizationType.SP2:\n",
        "          hybrid_one_hot[1] = 1\n",
        "        elif hybrid == Chem.HybridizationType.SP:\n",
        "          hybrid_one_hot[2] = 1\n",
        "        elif hybrid == Chem.HybridizationType.S:\n",
        "          hybrid_one_hot[3] = 1\n",
        "        elif hybrid == Chem.HybridizationType.SP3D:\n",
        "          hybrid_one_hot[4] = 1\n",
        "        elif hybrid == Chem.HybridizationType.SP3D2:\n",
        "          hybrid_one_hot[5] = 1\n",
        "        else: # hybridization이 제대로 정의되지 않은 나머지의 모든 경우.\n",
        "          hybrid_one_hot[6] = 1\n",
        "\n",
        "        # aromatic 인지 아닌지?  (True/False)\n",
        "        if atm.GetIsAromatic():\n",
        "          arom = 1\n",
        "        else:\n",
        "          arom = 0\n",
        "\n",
        "        # ring 안에 존재하는지 아닌지? (True/False)\n",
        "        if atm.IsInRing():\n",
        "          ring_flag = 1\n",
        "        else:\n",
        "          ring_flag = 0\n",
        "\n",
        "        # Degree (공유 결합의 개수)  (6-dim, one-hot)\n",
        "        # 0, 1, 2, 3, 4, >=5\n",
        "        degree_one_hot = [0, 0, 0, 0, 0, 0]\n",
        "        degree = atm.GetTotalDegree()\n",
        "        if degree >= 5: # 5개 이상의 공유 결합을 가지는 원자.\n",
        "          degree_one_hot[5]=1\n",
        "        else:\n",
        "          degree_one_hot[degree]=1\n",
        "\n",
        "        # Number of hydrogens (5-dim, one-hot)\n",
        "        # 결합되어 있는 수소의 개수.\n",
        "        # 0, 1, 2, 3, >=4\n",
        "        num_h = atm.GetTotalNumHs()\n",
        "        hydrogen_one_hot = [0, 0, 0, 0, 0]\n",
        "        if num_h >= 4:\n",
        "          hydrogen_one_hot[4] = 1\n",
        "        else:\n",
        "          hydrogen_one_hot[num_h] = 1\n",
        "\n",
        "        # Chirality (4-dim, one-hot)\n",
        "        chiral = atm.GetChiralTag()\n",
        "        if chiral == Chem.rdchem.ChiralType.CHI_OTHER:\n",
        "          chiral_one_hot = [1, 0, 0, 0]\n",
        "        # Counter-clock-wise (반시계)\n",
        "        elif chiral == Chem.rdchem.ChiralType.CHI_TETRAHEDRAL_CCW:\n",
        "          chiral_one_hot = [0, 1, 0, 0]\n",
        "        # Clockwise (시계방향)\n",
        "        elif chiral == Chem.rdchem.ChiralType.CHI_TETRAHEDRAL_CW:\n",
        "          chiral_one_hot = [0, 0, 1, 0]\n",
        "        # Chirality 정의되지 않음.\n",
        "        elif chiral == Chem.rdchem.ChiralType.CHI_UNSPECIFIED:\n",
        "          chiral_one_hot = [0, 0, 0, 1]\n",
        "\n",
        "        # 원자 특성 계산 [원자 symbol one-hot, 공유 결합 개수, 전체 valence의 개수 (explicit + implicit), is an atom aromatic (True/False)? ]\n",
        "        # 더 추가 가능!\n",
        "        # in total 25-dim.\n",
        "        # 9-dim, 7-dim, 6-dim, 5-dim, 4-dim, 4-dim = 35-dim\n",
        "        attr = atm_one_hot + hybrid_one_hot + \\\n",
        "                degree_one_hot + hydrogen_one_hot + \\\n",
        "                chiral_one_hot + \\\n",
        "                [arom, ring_flag, atm.GetFormalCharge(), atm.GetNumRadicalElectrons()]\n",
        "\n",
        "        #print(atm_id, attr)\n",
        "        node_attr.append(attr)\n",
        "    ## node 속성 계산 완료\n",
        "\n",
        "    # PyTorch Tensor로 변환.\n",
        "    edge_attr = torch.tensor(edge_attr, dtype = torch.float)\n",
        "    node_attr = torch.tensor(node_attr, dtype = torch.float)\n",
        "    edge_index = torch.tensor(edge_index, dtype = torch.long)\n",
        "    edge_index = edge_index.t().contiguous()\n",
        "    edge_weight = torch.tensor(edge_weight, dtype = torch.float)\n",
        "\n",
        "    if use_pos: # 만일 3D 좌표 정보를 사용한다면\n",
        "        val = AllChem.EmbedMolecule(mol2)\n",
        "        if val !=0:\n",
        "          print(f\"Error while generating 3D: {Chem.MolToSmiles(mol)}\")\n",
        "          return None\n",
        "\n",
        "        pos_list = [] # this is optional\n",
        "        for atm_id in range(n_atoms):\n",
        "          # Get Atomic Position.\n",
        "          atm_pos = mol2.GetConformer(0).GetAtomPosition(atm_id)\n",
        "          crd = [atm_pos.x, atm_pos.y, atm_pos.z]\n",
        "          pos_list.append(crd)\n",
        "\n",
        "        pos = torch.tensor(pos_list, dtype=torch.float)\n",
        "    else:\n",
        "      pos = None\n",
        "    #print(edge_attr.shape)\n",
        "    #print(node_attr.shape)\n",
        "    #print(edge_index.shape)\n",
        "\n",
        "    return edge_index, node_attr, edge_attr, pos, edge_weight"
      ]
    },
    {
      "cell_type": "code",
      "execution_count": null,
      "metadata": {
        "id": "zPxz0CfRN7eJ"
      },
      "outputs": [],
      "source": [
        "edge_index, x, edge_attr, pos, edge_weight = convert_mol_to_graph(objective[0][0])"
      ]
    },
    {
      "cell_type": "code",
      "execution_count": null,
      "metadata": {
        "id": "7WXAJHXfN_KN"
      },
      "outputs": [],
      "source": [
        "d0 = Data(x = x, edge_index = edge_index, edge_attr = edge_attr, pos = pos, edge_weight = edge_weight)"
      ]
    },
    {
      "cell_type": "code",
      "execution_count": null,
      "metadata": {
        "colab": {
          "base_uri": "https://localhost:8080/"
        },
        "id": "qjB0qFQ1OACB",
        "outputId": "7228cd1b-3a2a-4c69-edc7-17d387866280"
      },
      "outputs": [
        {
          "output_type": "stream",
          "name": "stdout",
          "text": [
            "Data(x=[16, 35], edge_index=[2, 34], edge_attr=[34, 12], edge_weight=[34])\n"
          ]
        }
      ],
      "source": [
        "print(d0)"
      ]
    },
    {
      "cell_type": "code",
      "execution_count": null,
      "metadata": {
        "colab": {
          "base_uri": "https://localhost:8080/"
        },
        "id": "6AiumXHxQB-T",
        "outputId": "618a529c-90b0-4626-fd7e-5a66ae75514d"
      },
      "outputs": [
        {
          "output_type": "execute_result",
          "data": {
            "text/plain": [
              "16"
            ]
          },
          "metadata": {},
          "execution_count": 20
        }
      ],
      "source": [
        "d0.num_nodes"
      ]
    },
    {
      "cell_type": "markdown",
      "metadata": {
        "id": "03hUcODVQNEH"
      },
      "source": [
        "## 이제 분자들을 하나씩 PyG의 Data type으로 변환해봅시다.\n",
        "----"
      ]
    },
    {
      "cell_type": "code",
      "execution_count": null,
      "metadata": {
        "colab": {
          "base_uri": "https://localhost:8080/"
        },
        "id": "WMwmrBurQFRy",
        "outputId": "6221507c-2ffc-4493-8aa7-ee60eae96e3c"
      },
      "outputs": [
        {
          "output_type": "stream",
          "name": "stderr",
          "text": [
            "100%|██████████| 6788/6788 [00:06<00:00, 1094.94it/s]\n"
          ]
        }
      ],
      "source": [
        "data_list = []\n",
        "for mol, score in tqdm(objective):\n",
        "    result = convert_mol_to_graph(mol)\n",
        "    if result is None:\n",
        "        continue\n",
        "\n",
        "    # Extract node and edge informations\n",
        "    edge_index, node_attr, edge_attr, pos, edge_weight = result\n",
        "    y = torch.tensor([[score]], dtype = torch.float)\n",
        "\n",
        "    dtmp = Data(x = node_attr, pos = pos, edge_index = edge_index, edge_attr = edge_attr, edge_weight = edge_weight, y = y)\n",
        "\n",
        "    data_list.append(dtmp)"
      ]
    },
    {
      "cell_type": "markdown",
      "source": [
        "분자들이 graph로 변환 되었다~!"
      ],
      "metadata": {
        "id": "KKpji_UcQ17Q"
      }
    },
    {
      "cell_type": "code",
      "execution_count": null,
      "metadata": {
        "id": "khQE97QrQhnH"
      },
      "outputs": [],
      "source": [
        "from torch_geometric.loader import DataLoader"
      ]
    },
    {
      "cell_type": "code",
      "execution_count": null,
      "metadata": {
        "id": "5nfbfpzhRMLe"
      },
      "outputs": [],
      "source": [
        "import random\n",
        "random.seed(12345)\n",
        "random.shuffle(data_list)"
      ]
    },
    {
      "cell_type": "code",
      "execution_count": null,
      "metadata": {
        "colab": {
          "base_uri": "https://localhost:8080/"
        },
        "id": "gmkDMowPRN8B",
        "outputId": "595d7818-1639-4472-ce41-e4630ec360c1"
      },
      "outputs": [
        {
          "output_type": "stream",
          "name": "stdout",
          "text": [
            "Number of training set: 5430\n",
            "Number of Validaation set: 678\n",
            "Number of test set: 680\n"
          ]
        }
      ],
      "source": [
        "n_data = len(data_list)\n",
        "n_train = int(n_data*0.8)\n",
        "n_test = int(n_data*0.1)\n",
        "\n",
        "train_set, val_set, test_set = data_list[0:n_train], data_list[n_train:n_train+n_test], data_list[n_train+n_test:]\n",
        "print(f\"Number of training set: {len(train_set)}\")\n",
        "print(f\"Number of Validaation set: {len(val_set)}\")\n",
        "print(f\"Number of test set: {len(test_set)}\")"
      ]
    },
    {
      "cell_type": "code",
      "execution_count": null,
      "metadata": {
        "id": "LkroKFKlRTHA"
      },
      "outputs": [],
      "source": [
        "train_loader = DataLoader(train_set, batch_size=100, shuffle=True, drop_last = False)\n",
        "test_loader = DataLoader(test_set, batch_size=100, shuffle=True, drop_last = False)\n",
        "val_loader = DataLoader(val_set, batch_size=100, shuffle=False, drop_last = False)"
      ]
    },
    {
      "cell_type": "code",
      "execution_count": null,
      "metadata": {
        "colab": {
          "base_uri": "https://localhost:8080/"
        },
        "id": "J8S6uUQgRWN-",
        "outputId": "d3c284ed-39db-4e5d-c7ba-7a6aecdb1556"
      },
      "outputs": [
        {
          "output_type": "stream",
          "name": "stdout",
          "text": [
            "<torch_geometric.loader.dataloader.DataLoader object at 0x7c1c9645e800>\n"
          ]
        }
      ],
      "source": [
        "print(train_loader)"
      ]
    },
    {
      "cell_type": "code",
      "execution_count": null,
      "metadata": {
        "colab": {
          "base_uri": "https://localhost:8080/"
        },
        "id": "mpJhkv8zRXi5",
        "outputId": "f268e342-cd69-4b28-fe2f-65f19580b475"
      },
      "outputs": [
        {
          "output_type": "stream",
          "name": "stdout",
          "text": [
            "5430\n",
            "680\n",
            "678\n"
          ]
        }
      ],
      "source": [
        "print(len(train_loader.dataset))\n",
        "print(len(test_loader.dataset))\n",
        "print(len(val_loader.dataset))"
      ]
    },
    {
      "cell_type": "code",
      "execution_count": null,
      "metadata": {
        "colab": {
          "base_uri": "https://localhost:8080/"
        },
        "id": "IeUuZYsSRdhs",
        "outputId": "0aa5df08-f462-495d-ab02-f06a3e76ed95"
      },
      "outputs": [
        {
          "output_type": "stream",
          "name": "stdout",
          "text": [
            "DataBatch(x=[2037, 35], edge_index=[2, 4294], edge_attr=[4294, 12], y=[100, 1], edge_weight=[4294], batch=[2037], ptr=[101])\n",
            "tensor([ 0,  0,  0,  ..., 99, 99, 99])\n",
            "100\n",
            "35\n"
          ]
        }
      ],
      "source": [
        "for batch in train_loader:\n",
        "    print(batch)\n",
        "    print(batch.batch)\n",
        "    print(batch.num_graphs)\n",
        "    print(batch.num_node_features)\n",
        "    break"
      ]
    },
    {
      "cell_type": "code",
      "execution_count": null,
      "metadata": {
        "colab": {
          "base_uri": "https://localhost:8080/"
        },
        "id": "gAtjfAlsRjvO",
        "outputId": "3e672e3b-3ce3-401a-b9c3-35c691c06814"
      },
      "outputs": [
        {
          "output_type": "stream",
          "name": "stdout",
          "text": [
            "<bound method BaseData.keys of Data(x=[23, 35], edge_index=[2, 44], edge_attr=[44, 12], y=[1, 1], edge_weight=[44])>\n"
          ]
        }
      ],
      "source": [
        "data = data_list[0]\n",
        "print(data.keys)"
      ]
    },
    {
      "cell_type": "code",
      "execution_count": null,
      "metadata": {
        "colab": {
          "base_uri": "https://localhost:8080/"
        },
        "id": "OICO8WvkRpb9",
        "outputId": "366b6268-c1d6-4a94-c4bb-7e087943d5e8"
      },
      "outputs": [
        {
          "output_type": "execute_result",
          "data": {
            "text/plain": [
              "35"
            ]
          },
          "metadata": {},
          "execution_count": 30
        }
      ],
      "source": [
        "data.num_node_features"
      ]
    },
    {
      "cell_type": "markdown",
      "metadata": {
        "id": "AAxu-eQ4RtMD"
      },
      "source": [
        "## 실제로 Graph Convolutional Network을 정의해봅시다.\n",
        "\n",
        "----\n",
        "\n",
        "Convolution 3층과 마지막 1차원의 출력을 내어놓는 네트워크 입니다.\n"
      ]
    },
    {
      "cell_type": "code",
      "execution_count": null,
      "metadata": {
        "id": "qfXIFtQ3RrZ9"
      },
      "outputs": [],
      "source": [
        "import torch\n",
        "from torch.nn import Linear\n",
        "import torch.nn.functional as F\n",
        "from torch_geometric.nn import GCNConv\n",
        "from torch_geometric.nn import global_mean_pool\n",
        "\n",
        "class myGCN(torch.nn.Module):\n",
        "    def __init__(self, in_channel=35, hidden_layer_size=70):\n",
        "        super().__init__()\n",
        "        self.conv1 = GCNConv(in_channel, hidden_layer_size) # 가장 기본적인 graph convolution model, https://pytorch-geometric.readthedocs.io/en/latest/modules/nn.html#torch_geometric.nn.conv.GCNConv\n",
        "        self.conv2 = GCNConv(hidden_layer_size, hidden_layer_size)\n",
        "        self.conv3 = GCNConv(hidden_layer_size, hidden_layer_size)\n",
        "        #self.conv4 = GCNConv(hidden_layer_size, hidden_layer_size)\n",
        "        #self.conv5 = GCNConv(hidden_layer_size, hidden_layer_size)\n",
        "        self.lin1 = Linear(hidden_layer_size, int(hidden_layer_size/2))\n",
        "        self.lin2 = Linear(int(hidden_layer_size/2), 1)\n",
        "\n",
        "    def forward(self, data):\n",
        "        x, edge_index, batch, edge_weight = data.x, data.edge_index, data.batch, data.edge_weight\n",
        "\n",
        "        x = self.conv1(x, edge_index)\n",
        "        x = F.gelu(x)\n",
        "        x = F.dropout(x, training=self.training)\n",
        "\n",
        "        x = self.conv2(x, edge_index)\n",
        "        x = F.gelu(x)\n",
        "        x = F.dropout(x, training=self.training)\n",
        "\n",
        "        x = self.conv3(x, edge_index)\n",
        "        x = F.gelu(x)\n",
        "\n",
        "        #x = self.conv4(x, edge_index)\n",
        "        #x = F.elu(x)\n",
        "\n",
        "        #x = self.conv5(x, edge_index)\n",
        "        #x = F.elu(x)\n",
        "\n",
        "        # READOUT\n",
        "        x = global_mean_pool(x, batch) # 전체의 node feature의 평균 값을 취한다. # [batch_size, hidden_channels]\n",
        "\n",
        "        x = self.lin1(x) # 70 dim -> 35-dim\n",
        "        x = F.elu(x)\n",
        "        x = self.lin2(x) # 35 dim -> 1-dim\n",
        "\n",
        "        return x"
      ]
    },
    {
      "cell_type": "code",
      "execution_count": null,
      "metadata": {
        "id": "kPaFnpDWR5MU"
      },
      "outputs": [],
      "source": [
        "from prettytable import PrettyTable\n",
        "\n",
        "def count_parameters(model):\n",
        "    table = PrettyTable([\"Modules\", \"Parameters\"])\n",
        "    total_params = 0\n",
        "    for name, parameter in model.named_parameters():\n",
        "        if not parameter.requires_grad: continue\n",
        "        param = parameter.numel()\n",
        "        table.add_row([name, param])\n",
        "        total_params+=param\n",
        "    print(table)\n",
        "    print(f\"Total Trainable Params: {total_params}\")\n",
        "    return total_params"
      ]
    },
    {
      "cell_type": "code",
      "execution_count": null,
      "metadata": {
        "colab": {
          "base_uri": "https://localhost:8080/"
        },
        "id": "RyZnbTYbR67r",
        "outputId": "6501562c-b18d-42ef-df62-9c3061e33e9d"
      },
      "outputs": [
        {
          "output_type": "stream",
          "name": "stdout",
          "text": [
            "cuda\n"
          ]
        },
        {
          "output_type": "execute_result",
          "data": {
            "text/plain": [
              "myGCN(\n",
              "  (conv1): GCNConv(35, 70)\n",
              "  (conv2): GCNConv(70, 70)\n",
              "  (conv3): GCNConv(70, 70)\n",
              "  (lin1): Linear(in_features=70, out_features=35, bias=True)\n",
              "  (lin2): Linear(in_features=35, out_features=1, bias=True)\n",
              ")"
            ]
          },
          "metadata": {},
          "execution_count": 33
        }
      ],
      "source": [
        "if torch.cuda.is_available():\n",
        "    device = torch.device('cuda')\n",
        "else:\n",
        "    device = torch.device('cpu')\n",
        "print(device)\n",
        "model = myGCN(in_channel = 35, hidden_layer_size = 70)\n",
        "model.to(device)"
      ]
    },
    {
      "cell_type": "code",
      "execution_count": null,
      "metadata": {
        "colab": {
          "base_uri": "https://localhost:8080/"
        },
        "id": "OMVjBclQR8wV",
        "outputId": "5b3367f9-7a09-473a-ecf9-4ff155bb6e5c"
      },
      "outputs": [
        {
          "output_type": "stream",
          "name": "stdout",
          "text": [
            "myGCN(\n",
            "  (conv1): GCNConv(35, 70)\n",
            "  (conv2): GCNConv(70, 70)\n",
            "  (conv3): GCNConv(70, 70)\n",
            "  (lin1): Linear(in_features=70, out_features=35, bias=True)\n",
            "  (lin2): Linear(in_features=35, out_features=1, bias=True)\n",
            ")\n"
          ]
        }
      ],
      "source": [
        "print(model)"
      ]
    },
    {
      "cell_type": "code",
      "execution_count": null,
      "metadata": {
        "colab": {
          "base_uri": "https://localhost:8080/"
        },
        "id": "_bGwTOGjR-km",
        "outputId": "ad4e752e-f7e4-4feb-e263-dd3df0294977"
      },
      "outputs": [
        {
          "output_type": "stream",
          "name": "stdout",
          "text": [
            "+------------------+------------+\n",
            "|     Modules      | Parameters |\n",
            "+------------------+------------+\n",
            "|    conv1.bias    |     70     |\n",
            "| conv1.lin.weight |    2450    |\n",
            "|    conv2.bias    |     70     |\n",
            "| conv2.lin.weight |    4900    |\n",
            "|    conv3.bias    |     70     |\n",
            "| conv3.lin.weight |    4900    |\n",
            "|   lin1.weight    |    2450    |\n",
            "|    lin1.bias     |     35     |\n",
            "|   lin2.weight    |     35     |\n",
            "|    lin2.bias     |     1      |\n",
            "+------------------+------------+\n",
            "Total Trainable Params: 14981\n"
          ]
        },
        {
          "output_type": "execute_result",
          "data": {
            "text/plain": [
              "14981"
            ]
          },
          "metadata": {},
          "execution_count": 35
        }
      ],
      "source": [
        "count_parameters(model)"
      ]
    },
    {
      "cell_type": "code",
      "execution_count": null,
      "metadata": {
        "id": "jdxQRGeASAlS"
      },
      "outputs": [],
      "source": [
        "optimizer = torch.optim.Adam(model.parameters(), lr=0.001)\n",
        "\n",
        "#criterion = torch.nn.MSELoss()\n",
        "criterion = torch.nn.BCEWithLogitsLoss()"
      ]
    },
    {
      "cell_type": "code",
      "execution_count": null,
      "metadata": {
        "id": "oTLL222uULzC"
      },
      "outputs": [],
      "source": [
        "import sys"
      ]
    },
    {
      "cell_type": "code",
      "execution_count": null,
      "metadata": {
        "id": "ioypdNnpSCGG"
      },
      "outputs": [],
      "source": [
        "def train():\n",
        "\n",
        "    model.train()\n",
        "\n",
        "    train_loss = 0.0\n",
        "    for idx, batch in enumerate(train_loader):\n",
        "      # Make predictions\n",
        "      out = model(batch.to(device))\n",
        "\n",
        "      # calculate loss value\n",
        "      loss = criterion(out, batch.y)\n",
        "\n",
        "      # perform backpropagation\n",
        "      loss.backward()\n",
        "\n",
        "      # update parameters\n",
        "      optimizer.step()  # Update parameters based on gradients.\n",
        "\n",
        "      # reset gradients\n",
        "      optimizer.zero_grad()  # Clear gradients.\n",
        "\n",
        "      train_loss += loss.item()\n",
        "      if idx % 10 == 0:\n",
        "        print(f\"Batch index: {idx:5d}\\tLoss: {loss:.5f} \\t train_loss: {train_loss:.5f}\")\n",
        "\n",
        "    train_loss /= len(train_loader.dataset)\n",
        "    print(f\"Train Loss: {train_loss:.5f}\")"
      ]
    },
    {
      "cell_type": "markdown",
      "source": [
        "## Define test function\n",
        "------\n"
      ],
      "metadata": {
        "id": "zRy4QGHSoWWw"
      }
    },
    {
      "cell_type": "markdown",
      "source": [
        "use torchmetrics"
      ],
      "metadata": {
        "id": "KJM6eYop88bw"
      }
    },
    {
      "cell_type": "code",
      "source": [
        "pip install torchmetrics"
      ],
      "metadata": {
        "colab": {
          "base_uri": "https://localhost:8080/"
        },
        "id": "QFi80pCKeCaT",
        "outputId": "bfe4b7c0-fff1-4880-d2f0-398e25eba044"
      },
      "execution_count": null,
      "outputs": [
        {
          "output_type": "stream",
          "name": "stdout",
          "text": [
            "Collecting torchmetrics\n",
            "  Downloading torchmetrics-1.4.3-py3-none-any.whl.metadata (19 kB)\n",
            "Requirement already satisfied: numpy>1.20.0 in /usr/local/lib/python3.10/dist-packages (from torchmetrics) (1.26.4)\n",
            "Requirement already satisfied: packaging>17.1 in /usr/local/lib/python3.10/dist-packages (from torchmetrics) (24.1)\n",
            "Requirement already satisfied: torch>=1.10.0 in /usr/local/lib/python3.10/dist-packages (from torchmetrics) (2.4.1+cu121)\n",
            "Collecting lightning-utilities>=0.8.0 (from torchmetrics)\n",
            "  Downloading lightning_utilities-0.11.7-py3-none-any.whl.metadata (5.2 kB)\n",
            "Requirement already satisfied: setuptools in /usr/local/lib/python3.10/dist-packages (from lightning-utilities>=0.8.0->torchmetrics) (71.0.4)\n",
            "Requirement already satisfied: typing-extensions in /usr/local/lib/python3.10/dist-packages (from lightning-utilities>=0.8.0->torchmetrics) (4.12.2)\n",
            "Requirement already satisfied: filelock in /usr/local/lib/python3.10/dist-packages (from torch>=1.10.0->torchmetrics) (3.16.1)\n",
            "Requirement already satisfied: sympy in /usr/local/lib/python3.10/dist-packages (from torch>=1.10.0->torchmetrics) (1.13.3)\n",
            "Requirement already satisfied: networkx in /usr/local/lib/python3.10/dist-packages (from torch>=1.10.0->torchmetrics) (3.4)\n",
            "Requirement already satisfied: jinja2 in /usr/local/lib/python3.10/dist-packages (from torch>=1.10.0->torchmetrics) (3.1.4)\n",
            "Requirement already satisfied: fsspec in /usr/local/lib/python3.10/dist-packages (from torch>=1.10.0->torchmetrics) (2024.6.1)\n",
            "Requirement already satisfied: MarkupSafe>=2.0 in /usr/local/lib/python3.10/dist-packages (from jinja2->torch>=1.10.0->torchmetrics) (3.0.1)\n",
            "Requirement already satisfied: mpmath<1.4,>=1.1.0 in /usr/local/lib/python3.10/dist-packages (from sympy->torch>=1.10.0->torchmetrics) (1.3.0)\n",
            "Downloading torchmetrics-1.4.3-py3-none-any.whl (869 kB)\n",
            "\u001b[2K   \u001b[90m━━━━━━━━━━━━━━━━━━━━━━━━━━━━━━━━━━━━━━━━\u001b[0m \u001b[32m869.5/869.5 kB\u001b[0m \u001b[31m43.1 MB/s\u001b[0m eta \u001b[36m0:00:00\u001b[0m\n",
            "\u001b[?25hDownloading lightning_utilities-0.11.7-py3-none-any.whl (26 kB)\n",
            "Installing collected packages: lightning-utilities, torchmetrics\n",
            "Successfully installed lightning-utilities-0.11.7 torchmetrics-1.4.3\n"
          ]
        }
      ]
    },
    {
      "cell_type": "code",
      "source": [
        "from torchmetrics.classification import Accuracy\n",
        "from torchmetrics.classification import BinaryAccuracy\n",
        "#from torcheval.metrics.functional import binary_accuracy"
      ],
      "metadata": {
        "id": "BeMH3kAQeBIc"
      },
      "execution_count": null,
      "outputs": []
    },
    {
      "cell_type": "code",
      "source": [
        "print(len(train_loader.dataset))"
      ],
      "metadata": {
        "colab": {
          "base_uri": "https://localhost:8080/"
        },
        "id": "hlR7VHhjoqeQ",
        "outputId": "2e9719d7-341e-40e3-8353-4c64a8f367f1"
      },
      "execution_count": null,
      "outputs": [
        {
          "output_type": "stream",
          "name": "stdout",
          "text": [
            "5430\n"
          ]
        }
      ]
    },
    {
      "cell_type": "markdown",
      "source": [
        "### Test function to evaluate accuracy and loss values.\n",
        "-------\n"
      ],
      "metadata": {
        "id": "LWkV7N-fweD-"
      }
    },
    {
      "cell_type": "code",
      "execution_count": null,
      "metadata": {
        "id": "NC7SFNEuSJg4"
      },
      "outputs": [],
      "source": [
        "# initialize metric\n",
        "metric = BinaryAccuracy().to(device)\n",
        "\n",
        "def test(loader):\n",
        "    model.eval()\n",
        "\n",
        "    out_all = []\n",
        "    true = []\n",
        "    loss_val = 0.0\n",
        "\n",
        "    for data in loader:  # Iterate in batches over the training/test dataset.\n",
        "        out = model(data.to(device))\n",
        "        loss = criterion(out, data.y.to(device))\n",
        "        loss_val += loss.item() # sum over batches\n",
        "\n",
        "        # calculate accuracy of this batch\n",
        "        acc_tmp = metric(out.to(device), data.y.to(device))\n",
        "\n",
        "        # save all labels\n",
        "        true += data.y.flatten().tolist()\n",
        "\n",
        "        # save all predicted values\n",
        "        out_all += F.sigmoid(out).flatten().tolist()\n",
        "\n",
        "    # metric on all batches using custom accumulation\n",
        "    acc = metric.compute()\n",
        "    metric.reset()\n",
        "    # print(f\"\\tAccuracy: {acc.cpu():.3f}\")\n",
        "\n",
        "    loss_val /= len(loader.dataset)\n",
        "    # print(f\"\\tLoss: {loss_val:.5f}\\n\")\n",
        "\n",
        "    return acc.cpu(), out_all, true, loss_val  # Derive ratio of correct predictions."
      ]
    },
    {
      "cell_type": "code",
      "execution_count": null,
      "metadata": {
        "colab": {
          "base_uri": "https://localhost:8080/"
        },
        "id": "7yUd6XmNSOEP",
        "outputId": "310d0754-de7f-46c6-c490-ed7461360e10"
      },
      "outputs": [
        {
          "output_type": "stream",
          "name": "stdout",
          "text": [
            "====================================================================================================\n",
            "Epoch:  1\n",
            "Batch index:     0\tLoss: 0.63290 \t train_loss: 0.63290\n",
            "Batch index:    10\tLoss: 0.52469 \t train_loss: 6.40001\n",
            "Batch index:    20\tLoss: 0.36018 \t train_loss: 10.52283\n",
            "Batch index:    30\tLoss: 0.13435 \t train_loss: 12.68483\n",
            "Batch index:    40\tLoss: 0.17107 \t train_loss: 14.83009\n",
            "Batch index:    50\tLoss: 0.11378 \t train_loss: 16.90343\n",
            "Train Loss: 0.00324\n",
            "----------------------------------------------------------------------------------------------------\n",
            "End of Epoch: 001, Train Acc: 0.9536, Val Acc: 0.9705, Train loss: 0.00187, Val loss: 0.00143\n",
            "----------------------------------------------------------------------------------------------------\n",
            "====================================================================================================\n",
            "Epoch:  2\n",
            "Batch index:     0\tLoss: 0.23067 \t train_loss: 0.23067\n",
            "Batch index:    10\tLoss: 0.07861 \t train_loss: 1.92185\n",
            "Batch index:    20\tLoss: 0.38509 \t train_loss: 4.00496\n",
            "Batch index:    30\tLoss: 0.13914 \t train_loss: 5.77777\n",
            "Batch index:    40\tLoss: 0.10411 \t train_loss: 7.60848\n",
            "Batch index:    50\tLoss: 0.12584 \t train_loss: 9.26958\n",
            "Train Loss: 0.00185\n",
            "----------------------------------------------------------------------------------------------------\n",
            "End of Epoch: 002, Train Acc: 0.9536, Val Acc: 0.9705, Train loss: 0.00174, Val loss: 0.00133\n",
            "----------------------------------------------------------------------------------------------------\n",
            "====================================================================================================\n",
            "Epoch:  3\n",
            "Batch index:     0\tLoss: 0.19695 \t train_loss: 0.19695\n",
            "Batch index:    10\tLoss: 0.09131 \t train_loss: 1.68546\n",
            "Batch index:    20\tLoss: 0.17534 \t train_loss: 3.29061\n",
            "Batch index:    30\tLoss: 0.15867 \t train_loss: 5.06665\n",
            "Batch index:    40\tLoss: 0.12047 \t train_loss: 6.72267\n",
            "Batch index:    50\tLoss: 0.18062 \t train_loss: 8.35015\n",
            "Train Loss: 0.00165\n",
            "----------------------------------------------------------------------------------------------------\n",
            "End of Epoch: 003, Train Acc: 0.9534, Val Acc: 0.9705, Train loss: 0.00155, Val loss: 0.00128\n",
            "----------------------------------------------------------------------------------------------------\n",
            "====================================================================================================\n",
            "Epoch:  4\n",
            "Batch index:     0\tLoss: 0.18612 \t train_loss: 0.18612\n",
            "Batch index:    10\tLoss: 0.15275 \t train_loss: 1.64635\n",
            "Batch index:    20\tLoss: 0.05540 \t train_loss: 3.00596\n",
            "Batch index:    30\tLoss: 0.21027 \t train_loss: 4.29050\n",
            "Batch index:    40\tLoss: 0.09606 \t train_loss: 5.70477\n",
            "Batch index:    50\tLoss: 0.18210 \t train_loss: 7.45083\n",
            "Train Loss: 0.00149\n",
            "----------------------------------------------------------------------------------------------------\n",
            "End of Epoch: 004, Train Acc: 0.9584, Val Acc: 0.9661, Train loss: 0.00143, Val loss: 0.00134\n",
            "----------------------------------------------------------------------------------------------------\n",
            "====================================================================================================\n",
            "Epoch:  5\n",
            "Batch index:     0\tLoss: 0.16988 \t train_loss: 0.16988\n",
            "Batch index:    10\tLoss: 0.12902 \t train_loss: 1.72092\n",
            "Batch index:    20\tLoss: 0.11803 \t train_loss: 3.16065\n",
            "Batch index:    30\tLoss: 0.18983 \t train_loss: 4.45961\n",
            "Batch index:    40\tLoss: 0.10147 \t train_loss: 5.78120\n",
            "Batch index:    50\tLoss: 0.17894 \t train_loss: 7.07671\n",
            "Train Loss: 0.00141\n",
            "----------------------------------------------------------------------------------------------------\n",
            "End of Epoch: 005, Train Acc: 0.9580, Val Acc: 0.9661, Train loss: 0.00137, Val loss: 0.00121\n",
            "----------------------------------------------------------------------------------------------------\n",
            "====================================================================================================\n",
            "Epoch:  6\n",
            "Batch index:     0\tLoss: 0.08013 \t train_loss: 0.08013\n",
            "Batch index:    10\tLoss: 0.08291 \t train_loss: 1.21974\n",
            "Batch index:    20\tLoss: 0.11419 \t train_loss: 2.51806\n",
            "Batch index:    30\tLoss: 0.11524 \t train_loss: 4.00257\n",
            "Batch index:    40\tLoss: 0.09839 \t train_loss: 5.45611\n",
            "Batch index:    50\tLoss: 0.03576 \t train_loss: 6.63664\n",
            "Train Loss: 0.00139\n",
            "----------------------------------------------------------------------------------------------------\n",
            "End of Epoch: 006, Train Acc: 0.9643, Val Acc: 0.9676, Train loss: 0.00132, Val loss: 0.00122\n",
            "----------------------------------------------------------------------------------------------------\n",
            "====================================================================================================\n",
            "Epoch:  7\n",
            "Batch index:     0\tLoss: 0.10354 \t train_loss: 0.10354\n",
            "Batch index:    10\tLoss: 0.14796 \t train_loss: 1.43185\n",
            "Batch index:    20\tLoss: 0.11628 \t train_loss: 2.81745\n",
            "Batch index:    30\tLoss: 0.15754 \t train_loss: 4.32966\n",
            "Batch index:    40\tLoss: 0.12496 \t train_loss: 5.59684\n",
            "Batch index:    50\tLoss: 0.13159 \t train_loss: 6.85240\n",
            "Train Loss: 0.00134\n",
            "----------------------------------------------------------------------------------------------------\n",
            "End of Epoch: 007, Train Acc: 0.9659, Val Acc: 0.9705, Train loss: 0.00131, Val loss: 0.00131\n",
            "----------------------------------------------------------------------------------------------------\n",
            "====================================================================================================\n",
            "Epoch:  8\n",
            "Batch index:     0\tLoss: 0.12352 \t train_loss: 0.12352\n",
            "Batch index:    10\tLoss: 0.15828 \t train_loss: 1.77686\n",
            "Batch index:    20\tLoss: 0.03822 \t train_loss: 2.92230\n",
            "Batch index:    30\tLoss: 0.13039 \t train_loss: 4.44462\n",
            "Batch index:    40\tLoss: 0.06770 \t train_loss: 5.78486\n",
            "Batch index:    50\tLoss: 0.12816 \t train_loss: 6.67380\n",
            "Train Loss: 0.00137\n",
            "----------------------------------------------------------------------------------------------------\n",
            "End of Epoch: 008, Train Acc: 0.9593, Val Acc: 0.9646, Train loss: 0.00139, Val loss: 0.00121\n",
            "----------------------------------------------------------------------------------------------------\n",
            "====================================================================================================\n",
            "Epoch:  9\n",
            "Batch index:     0\tLoss: 0.12681 \t train_loss: 0.12681\n",
            "Batch index:    10\tLoss: 0.09094 \t train_loss: 1.21152\n",
            "Batch index:    20\tLoss: 0.10533 \t train_loss: 2.46612\n",
            "Batch index:    30\tLoss: 0.12216 \t train_loss: 4.08318\n",
            "Batch index:    40\tLoss: 0.11931 \t train_loss: 5.35256\n",
            "Batch index:    50\tLoss: 0.13468 \t train_loss: 6.67719\n",
            "Train Loss: 0.00135\n",
            "----------------------------------------------------------------------------------------------------\n",
            "End of Epoch: 009, Train Acc: 0.9663, Val Acc: 0.9705, Train loss: 0.00129, Val loss: 0.00129\n",
            "----------------------------------------------------------------------------------------------------\n",
            "====================================================================================================\n",
            "Epoch:  10\n",
            "Batch index:     0\tLoss: 0.07072 \t train_loss: 0.07072\n",
            "Batch index:    10\tLoss: 0.16753 \t train_loss: 1.30131\n",
            "Batch index:    20\tLoss: 0.07633 \t train_loss: 2.64660\n",
            "Batch index:    30\tLoss: 0.09699 \t train_loss: 3.76448\n",
            "Batch index:    40\tLoss: 0.10022 \t train_loss: 5.35888\n",
            "Batch index:    50\tLoss: 0.06697 \t train_loss: 6.65341\n",
            "Train Loss: 0.00131\n",
            "----------------------------------------------------------------------------------------------------\n",
            "End of Epoch: 010, Train Acc: 0.9573, Val Acc: 0.9646, Train loss: 0.00136, Val loss: 0.00118\n",
            "----------------------------------------------------------------------------------------------------\n",
            "====================================================================================================\n",
            "Epoch:  11\n",
            "Batch index:     0\tLoss: 0.22373 \t train_loss: 0.22373\n",
            "Batch index:    10\tLoss: 0.13098 \t train_loss: 1.88405\n",
            "Batch index:    20\tLoss: 0.09955 \t train_loss: 3.12128\n",
            "Batch index:    30\tLoss: 0.13119 \t train_loss: 4.16686\n",
            "Batch index:    40\tLoss: 0.17692 \t train_loss: 5.54331\n",
            "Batch index:    50\tLoss: 0.09378 \t train_loss: 6.72461\n",
            "Train Loss: 0.00131\n",
            "----------------------------------------------------------------------------------------------------\n",
            "End of Epoch: 011, Train Acc: 0.9670, Val Acc: 0.9676, Train loss: 0.00128, Val loss: 0.00118\n",
            "----------------------------------------------------------------------------------------------------\n",
            "====================================================================================================\n",
            "Epoch:  12\n",
            "Batch index:     0\tLoss: 0.14410 \t train_loss: 0.14410\n",
            "Batch index:    10\tLoss: 0.06805 \t train_loss: 1.30386\n",
            "Batch index:    20\tLoss: 0.22014 \t train_loss: 2.83988\n",
            "Batch index:    30\tLoss: 0.19529 \t train_loss: 4.16117\n",
            "Batch index:    40\tLoss: 0.17546 \t train_loss: 5.77884\n",
            "Batch index:    50\tLoss: 0.07584 \t train_loss: 6.76607\n",
            "Train Loss: 0.00133\n",
            "----------------------------------------------------------------------------------------------------\n",
            "End of Epoch: 012, Train Acc: 0.9669, Val Acc: 0.9676, Train loss: 0.00129, Val loss: 0.00118\n",
            "----------------------------------------------------------------------------------------------------\n",
            "====================================================================================================\n",
            "Epoch:  13\n",
            "Batch index:     0\tLoss: 0.22391 \t train_loss: 0.22391\n",
            "Batch index:    10\tLoss: 0.03474 \t train_loss: 1.24001\n",
            "Batch index:    20\tLoss: 0.11873 \t train_loss: 2.57614\n",
            "Batch index:    30\tLoss: 0.11161 \t train_loss: 3.89467\n",
            "Batch index:    40\tLoss: 0.11159 \t train_loss: 5.14602\n",
            "Batch index:    50\tLoss: 0.21408 \t train_loss: 6.48368\n",
            "Train Loss: 0.00131\n",
            "----------------------------------------------------------------------------------------------------\n",
            "End of Epoch: 013, Train Acc: 0.9678, Val Acc: 0.9720, Train loss: 0.00127, Val loss: 0.00123\n",
            "----------------------------------------------------------------------------------------------------\n",
            "====================================================================================================\n",
            "Epoch:  14\n",
            "Batch index:     0\tLoss: 0.03808 \t train_loss: 0.03808\n",
            "Batch index:    10\tLoss: 0.16359 \t train_loss: 1.33118\n",
            "Batch index:    20\tLoss: 0.17403 \t train_loss: 2.87076\n",
            "Batch index:    30\tLoss: 0.10770 \t train_loss: 4.00929\n",
            "Batch index:    40\tLoss: 0.11712 \t train_loss: 5.25020\n",
            "Batch index:    50\tLoss: 0.20049 \t train_loss: 6.58402\n",
            "Train Loss: 0.00131\n",
            "----------------------------------------------------------------------------------------------------\n",
            "End of Epoch: 014, Train Acc: 0.9602, Val Acc: 0.9661, Train loss: 0.00134, Val loss: 0.00117\n",
            "----------------------------------------------------------------------------------------------------\n",
            "====================================================================================================\n",
            "Epoch:  15\n",
            "Batch index:     0\tLoss: 0.08710 \t train_loss: 0.08710\n",
            "Batch index:    10\tLoss: 0.08561 \t train_loss: 1.29577\n",
            "Batch index:    20\tLoss: 0.07353 \t train_loss: 2.46077\n",
            "Batch index:    30\tLoss: 0.16554 \t train_loss: 3.81792\n",
            "Batch index:    40\tLoss: 0.18777 \t train_loss: 5.19757\n",
            "Batch index:    50\tLoss: 0.24210 \t train_loss: 6.54430\n",
            "Train Loss: 0.00128\n",
            "----------------------------------------------------------------------------------------------------\n",
            "End of Epoch: 015, Train Acc: 0.9681, Val Acc: 0.9690, Train loss: 0.00126, Val loss: 0.00117\n",
            "----------------------------------------------------------------------------------------------------\n",
            "====================================================================================================\n",
            "Epoch:  16\n",
            "Batch index:     0\tLoss: 0.15801 \t train_loss: 0.15801\n",
            "Batch index:    10\tLoss: 0.21306 \t train_loss: 1.56031\n",
            "Batch index:    20\tLoss: 0.17031 \t train_loss: 2.95650\n",
            "Batch index:    30\tLoss: 0.17520 \t train_loss: 4.24561\n",
            "Batch index:    40\tLoss: 0.14694 \t train_loss: 5.36306\n",
            "Batch index:    50\tLoss: 0.19966 \t train_loss: 6.50471\n",
            "Train Loss: 0.00128\n",
            "----------------------------------------------------------------------------------------------------\n",
            "End of Epoch: 016, Train Acc: 0.9685, Val Acc: 0.9735, Train loss: 0.00124, Val loss: 0.00121\n",
            "----------------------------------------------------------------------------------------------------\n",
            "====================================================================================================\n",
            "Epoch:  17\n",
            "Batch index:     0\tLoss: 0.13982 \t train_loss: 0.13982\n",
            "Batch index:    10\tLoss: 0.06342 \t train_loss: 1.46784\n",
            "Batch index:    20\tLoss: 0.20476 \t train_loss: 2.84925\n",
            "Batch index:    30\tLoss: 0.12416 \t train_loss: 4.09558\n",
            "Batch index:    40\tLoss: 0.19085 \t train_loss: 5.06372\n",
            "Batch index:    50\tLoss: 0.07803 \t train_loss: 6.30130\n",
            "Train Loss: 0.00130\n",
            "----------------------------------------------------------------------------------------------------\n",
            "End of Epoch: 017, Train Acc: 0.9661, Val Acc: 0.9661, Train loss: 0.00133, Val loss: 0.00136\n",
            "----------------------------------------------------------------------------------------------------\n",
            "====================================================================================================\n",
            "Epoch:  18\n",
            "Batch index:     0\tLoss: 0.04775 \t train_loss: 0.04775\n",
            "Batch index:    10\tLoss: 0.10264 \t train_loss: 1.37646\n",
            "Batch index:    20\tLoss: 0.06223 \t train_loss: 2.63502\n",
            "Batch index:    30\tLoss: 0.12746 \t train_loss: 4.07046\n",
            "Batch index:    40\tLoss: 0.20414 \t train_loss: 5.22072\n",
            "Batch index:    50\tLoss: 0.19044 \t train_loss: 6.52767\n",
            "Train Loss: 0.00129\n",
            "----------------------------------------------------------------------------------------------------\n",
            "End of Epoch: 018, Train Acc: 0.9678, Val Acc: 0.9720, Train loss: 0.00124, Val loss: 0.00122\n",
            "----------------------------------------------------------------------------------------------------\n",
            "====================================================================================================\n",
            "Epoch:  19\n",
            "Batch index:     0\tLoss: 0.18721 \t train_loss: 0.18721\n",
            "Batch index:    10\tLoss: 0.18706 \t train_loss: 1.22695\n",
            "Batch index:    20\tLoss: 0.07430 \t train_loss: 2.46496\n",
            "Batch index:    30\tLoss: 0.34020 \t train_loss: 4.07516\n",
            "Batch index:    40\tLoss: 0.11907 \t train_loss: 5.14141\n",
            "Batch index:    50\tLoss: 0.09645 \t train_loss: 6.36726\n",
            "Train Loss: 0.00129\n",
            "----------------------------------------------------------------------------------------------------\n",
            "End of Epoch: 019, Train Acc: 0.9681, Val Acc: 0.9705, Train loss: 0.00125, Val loss: 0.00117\n",
            "----------------------------------------------------------------------------------------------------\n"
          ]
        }
      ],
      "source": [
        "train_acc_list = []\n",
        "val_acc_list = []\n",
        "test_acc_list = []\n",
        "\n",
        "train_loss_list = []\n",
        "val_loss_list = []\n",
        "\n",
        "n_epoch = 20\n",
        "\n",
        "for epoch in range(n_epoch):\n",
        "    print(\"=\"*100)\n",
        "    print(\"Epoch: \", epoch)\n",
        "\n",
        "    train()\n",
        "\n",
        "    train_acc, out_tmp, true_tmp, train_loss = test(train_loader)\n",
        "    train_acc_list.append(train_acc)\n",
        "    train_loss_list.append(train_loss)\n",
        "\n",
        "    val_acc, val_pred, val_true, val_loss = test(val_loader)\n",
        "    val_acc_list.append(val_acc)\n",
        "    val_loss_list.append(val_loss)\n",
        "\n",
        "    print(\"-\"*100)\n",
        "    print(f'End of Epoch: {epoch:03d}, Train Acc: {train_acc:.4f}, Val Acc: {val_acc:.4f}, Train loss: {train_loss:.5f}, Val loss: {val_loss:.5f}')\n",
        "    print(\"-\"*100)\n"
      ]
    },
    {
      "cell_type": "code",
      "source": [
        "#---------------------\n",
        "# Test on the final test set.\n",
        "print(\"\\nFinal test results on test set\")\n",
        "test_acc, out_all, true_all, test_loss = test(test_loader)\n",
        "test_acc_list.append(test_acc)\n",
        "\n",
        "print(f\"Test set accuracy: {test_acc:.5f}\")\n",
        "print(f\"test set loss: {test_loss:.5f}\")"
      ],
      "metadata": {
        "colab": {
          "base_uri": "https://localhost:8080/"
        },
        "id": "dBdVlWdB-PKC",
        "outputId": "2ba8bb76-e95c-4426-e27e-7db488e56e85"
      },
      "execution_count": null,
      "outputs": [
        {
          "output_type": "stream",
          "name": "stdout",
          "text": [
            "\n",
            "Final test results on test set\n",
            "Test set accuracy: 0.96765\n",
            "test set loss: 0.00139\n"
          ]
        }
      ]
    },
    {
      "cell_type": "markdown",
      "metadata": {
        "id": "qzGk-JT1DoqK"
      },
      "source": [
        "## Loss 값의 변화를 plot 해보자.\n",
        "----\n"
      ]
    },
    {
      "cell_type": "code",
      "execution_count": null,
      "metadata": {
        "id": "c5aJXsG9HVsh"
      },
      "outputs": [],
      "source": [
        "import matplotlib.pyplot as plt\n",
        "\n",
        "def draw_acc_change(train_loss, val_loss, test_loss=None):\n",
        "  plt.figure(figsize=(8,8)) # 빈 그림을 정의\n",
        "  plt.plot(train_loss, color = 'r', label = 'Train accuracy') # training loss\n",
        "  plt.plot(val_loss, color = 'b', label = 'Val accuracy') # validation set loss\n",
        "  if test_loss is not None:\n",
        "    plt.plot(test_loss, color = 'g',  label = 'Test accuracy') # test set loss\n",
        "  plt.xlabel(\"Epoch\")\n",
        "  plt.ylabel(\"Accuracy\")\n",
        "\n",
        "  #plt.ylim(0, 1.1)\n",
        "  plt.legend(loc='best') # label을 표시 하겠다."
      ]
    },
    {
      "cell_type": "code",
      "execution_count": null,
      "metadata": {
        "colab": {
          "base_uri": "https://localhost:8080/",
          "height": 696
        },
        "id": "psMen_oJH3mx",
        "outputId": "2d1beb2a-80e4-468c-ac5b-09f55f6dd580"
      },
      "outputs": [
        {
          "output_type": "display_data",
          "data": {
            "text/plain": [
              "<Figure size 800x800 with 1 Axes>"
            ],
            "image/png": "[encoded data removed]"
          },
          "metadata": {}
        }
      ],
      "source": [
        "draw_acc_change(train_acc_list, val_acc_list)"
      ]
    },
    {
      "cell_type": "code",
      "source": [
        "def draw_loss_change(train_loss, val_loss, test_loss=None):\n",
        "  plt.figure(figsize=(8,8)) # 빈 그림을 정의\n",
        "  plt.plot(train_loss, color = 'r', label = 'Train loss') # training loss\n",
        "  plt.plot(val_loss, color = 'b', label = 'Val loss') # validation set loss\n",
        "  if test_loss is not None:\n",
        "    plt.plot(test_loss, color = 'g',  label = 'Test loss') # test set loss\n",
        "  plt.xlabel(\"Epoch\")\n",
        "  plt.ylabel(\"Loss\")\n",
        "  #plt.ylim(0, 1.1)\n",
        "  plt.legend(loc='best') # label을 표시 하겠다."
      ],
      "metadata": {
        "id": "VRZt4npIqzwO"
      },
      "execution_count": null,
      "outputs": []
    },
    {
      "cell_type": "code",
      "source": [
        "draw_loss_change(train_loss_list, val_loss_list)"
      ],
      "metadata": {
        "colab": {
          "base_uri": "https://localhost:8080/",
          "height": 699
        },
        "id": "XokeZ9LZqSIT",
        "outputId": "d52a589a-a640-48df-9502-82a2cdf53c2b"
      },
      "execution_count": null,
      "outputs": [
        {
          "output_type": "display_data",
          "data": {
            "text/plain": [
              "<Figure size 800x800 with 1 Axes>"
            ],
            "image/png": "[encoded data removed]"
          },
          "metadata": {}
        }
      ]
    },
    {
      "cell_type": "code",
      "source": [
        "import sklearn\n",
        "from sklearn.metrics import f1_score, roc_auc_score\n",
        "\n",
        "f1 = f1_score(true_all, [1 if x>= 0.5 else 0 for x in out_all])\n",
        "auc = roc_auc_score(true_all, out_all)\n",
        "\n",
        "print(f\"F1-score: {f1:.4f}\")\n",
        "print(f\"ROC_AUC: {auc:.4f}\")"
      ],
      "metadata": {
        "colab": {
          "base_uri": "https://localhost:8080/"
        },
        "id": "sMNnNtTT-LiN",
        "outputId": "86a701ae-55d5-40da-f98f-6001aa3164e4"
      },
      "execution_count": null,
      "outputs": [
        {
          "output_type": "stream",
          "name": "stdout",
          "text": [
            "F1-score: 0.4737\n",
            "ROC_AUC: 0.7948\n"
          ]
        }
      ]
    },
    {
      "cell_type": "code",
      "source": [
        "import matplotlib.pyplot as plt\n",
        "from sklearn.datasets import make_classification\n",
        "from sklearn.metrics import confusion_matrix, ConfusionMatrixDisplay\n",
        "from sklearn.model_selection import train_test_split\n",
        "from sklearn.svm import SVC\n",
        "\n",
        "out_binary = [1 if x >= 0.5 else 0 for x in out_all]\n",
        "cm = confusion_matrix(true_all, out_binary, labels=(0,1))\n",
        "disp = ConfusionMatrixDisplay(confusion_matrix=cm, display_labels=(0,1))\n",
        "disp.plot()"
      ],
      "metadata": {
        "colab": {
          "base_uri": "https://localhost:8080/",
          "height": 467
        },
        "id": "78r7CioJ0Wy6",
        "outputId": "09cd57c2-ca7e-4a49-d2f6-417956d8d968"
      },
      "execution_count": null,
      "outputs": [
        {
          "output_type": "execute_result",
          "data": {
            "text/plain": [
              "<sklearn.metrics._plot.confusion_matrix.ConfusionMatrixDisplay at 0x7c1c6ecd3010>"
            ]
          },
          "metadata": {},
          "execution_count": 50
        },
        {
          "output_type": "display_data",
          "data": {
            "text/plain": [
              "<Figure size 640x480 with 2 Axes>"
            ],
            "image/png": "[encoded data removed]"
          },
          "metadata": {}
        }
      ]
    },
    {
      "cell_type": "code",
      "source": [
        "from sklearn.metrics import RocCurveDisplay\n",
        "\n",
        "display = RocCurveDisplay.from_predictions(\n",
        "    true_all,\n",
        "    out_all,\n",
        "    name=f\"Toxicity\",\n",
        "    color=\"darkorange\",\n",
        "    plot_chance_level=True,\n",
        ")\n",
        "_ = display.ax_.set(\n",
        "    xlabel=\"False Positive Rate\",\n",
        "    ylabel=\"True Positive Rate\",\n",
        "    title=\"One-vs-Rest ROC curves:\\n Toxic vs Non-toxic\",\n",
        ")"
      ],
      "metadata": {
        "colab": {
          "base_uri": "https://localhost:8080/",
          "height": 493
        },
        "id": "unp97xpz1ygF",
        "outputId": "20a7a3c3-99d3-462f-f4fd-33fabeb24740"
      },
      "execution_count": null,
      "outputs": [
        {
          "output_type": "display_data",
          "data": {
            "text/plain": [
              "<Figure size 640x480 with 1 Axes>"
            ],
            "image/png": "[encoded data removed]"
          },
          "metadata": {}
        }
      ]
    },
    {
      "cell_type": "code",
      "source": [
        "from sklearn.metrics import PrecisionRecallDisplay"
      ],
      "metadata": {
        "id": "vLFIgYLO3Qb-"
      },
      "execution_count": null,
      "outputs": []
    },
    {
      "cell_type": "code",
      "source": [
        "display = PrecisionRecallDisplay.from_predictions(\n",
        "    true_all,\n",
        "    out_all,\n",
        "    name = \"Toxicity\",\n",
        "    plot_chance_level=True,\n",
        ")\n",
        "\n",
        "_ = display.ax_.set(\n",
        "    title=\"Toxicity prediction PR-curve\", )\n"
      ],
      "metadata": {
        "colab": {
          "base_uri": "https://localhost:8080/",
          "height": 472
        },
        "id": "LrJRHaBE2T2H",
        "outputId": "0eb88873-49d3-4852-daf0-570ce2ab7ffd"
      },
      "execution_count": null,
      "outputs": [
        {
          "output_type": "display_data",
          "data": {
            "text/plain": [
              "<Figure size 640x480 with 1 Axes>"
            ],
            "image/png": "[encoded data removed]"
          },
          "metadata": {}
        }
      ]
    },
    {
      "cell_type": "markdown",
      "metadata": {
        "id": "aY-m7OdKCkeM"
      },
      "source": [
        "# GCN layer에 edge weight 정보를 넣으면 더 좋아질까?\n",
        "-----\n",
        "\n",
        "* Single bond 는 가중치 1\n",
        "* Double bond 는 가중치 2\n",
        "* Triple bond 는 가중치 3\n",
        "* Aromatic은 가중치 1.5\n",
        "\n",
        "이런식으로 edge_weight를 정의하였음.\n"
      ]
    },
    {
      "cell_type": "code",
      "execution_count": null,
      "metadata": {
        "id": "LXLroQqkc9cu"
      },
      "outputs": [],
      "source": [
        "import torch\n",
        "from torch.nn import Linear\n",
        "import torch.nn.functional as F\n",
        "from torch_geometric.nn import GCNConv\n",
        "from torch_geometric.nn import global_mean_pool\n",
        "\n",
        "class mymodel2(torch.nn.Module):\n",
        "    def __init__(self):\n",
        "        super().__init__()\n",
        "        n_feat = 35\n",
        "        self.conv1 = GCNConv(n_feat, n_feat*2) # 가장 기본적인 graph convolution model, https://pytorch-geometric.readthedocs.io/en/latest/modules/nn.html#torch_geometric.nn.conv.GCNConv\n",
        "        self.conv2 = GCNConv(n_feat*2, n_feat*2)\n",
        "        self.conv3 = GCNConv(n_feat*2, n_feat*2)\n",
        "        #self.conv4 = GCNConv(n_feat*2, n_feat*2)\n",
        "        #self.conv5 = GCNConv(n_feat*2, n_feat*2)\n",
        "        self.lin1 = Linear(n_feat*2, n_feat)\n",
        "        self.lin2 = Linear(n_feat, 1)\n",
        "\n",
        "    def forward(self, data):\n",
        "        x, edge_index, batch, edge_weight = data.x, data.edge_index, data.batch, data.edge_weight\n",
        "\n",
        "        x = self.conv1(x, edge_index, edge_weight) # 이번에는 edge_weight를 고려해서 학습한다, edge_weight는 optional한 정보.\n",
        "        x = F.gelu(x)\n",
        "        x = F.dropout(x, training=self.training)\n",
        "\n",
        "        x = self.conv2(x, edge_index, edge_weight)\n",
        "        x = F.gelu(x)\n",
        "        x = F.dropout(x, training=self.training)\n",
        "\n",
        "        x = self.conv3(x, edge_index, edge_weight)\n",
        "        x = F.gelu(x)\n",
        "\n",
        "        #x = self.conv4(x, edge_index, edge_weight)\n",
        "        #x = F.elu(x)\n",
        "        #x = self.conv5(x, edge_index, edge_weight)\n",
        "        #x = F.elu(x)\n",
        "\n",
        "        x = global_mean_pool(x, batch) # 전체의 node feature의 평균 값을 취한다. # [batch_size, hidden_channels]\n",
        "        x = self.lin1(x)\n",
        "        x = F.leaky_relu(x)\n",
        "        x = self.lin2(x)\n",
        "\n",
        "        return x"
      ]
    },
    {
      "cell_type": "code",
      "execution_count": null,
      "metadata": {
        "id": "VEN4-q5QfS7P",
        "colab": {
          "base_uri": "https://localhost:8080/"
        },
        "outputId": "a184b64d-776a-4aa4-ae20-6f5a1e630724"
      },
      "outputs": [
        {
          "output_type": "stream",
          "name": "stdout",
          "text": [
            "cuda\n"
          ]
        },
        {
          "output_type": "execute_result",
          "data": {
            "text/plain": [
              "mymodel2(\n",
              "  (conv1): GCNConv(35, 70)\n",
              "  (conv2): GCNConv(70, 70)\n",
              "  (conv3): GCNConv(70, 70)\n",
              "  (lin1): Linear(in_features=70, out_features=35, bias=True)\n",
              "  (lin2): Linear(in_features=35, out_features=1, bias=True)\n",
              ")"
            ]
          },
          "metadata": {},
          "execution_count": 55
        }
      ],
      "source": [
        "if torch.cuda.is_available():\n",
        "    device = torch.device('cuda')\n",
        "else:\n",
        "    device = torch.device('cpu')\n",
        "\n",
        "print(device)\n",
        "model = mymodel2()\n",
        "model.to(device)"
      ]
    },
    {
      "cell_type": "code",
      "execution_count": null,
      "metadata": {
        "id": "KfJIFnM1hzrx"
      },
      "outputs": [],
      "source": [
        "optimizer = torch.optim.Adam(model.parameters(), lr=0.001)\n",
        "#criterion = torch.nn.MSELoss()\n",
        "criterion = torch.nn.BCEWithLogitsLoss()"
      ]
    },
    {
      "cell_type": "code",
      "execution_count": null,
      "metadata": {
        "id": "EziQZmWHh5Ot",
        "colab": {
          "base_uri": "https://localhost:8080/"
        },
        "outputId": "dce1b6fd-213f-4f4c-8f03-d7ad493a28a1"
      },
      "outputs": [
        {
          "output_type": "stream",
          "name": "stdout",
          "text": [
            "====================================================================================================\n",
            "Epoch:  1\n",
            "Batch index:     0\tLoss: 0.75971 \t train_loss: 0.75971\n",
            "Batch index:    10\tLoss: 0.69309 \t train_loss: 7.99186\n",
            "Batch index:    20\tLoss: 0.54640 \t train_loss: 14.25441\n",
            "Batch index:    30\tLoss: 0.31206 \t train_loss: 18.26166\n",
            "Batch index:    40\tLoss: 0.15367 \t train_loss: 20.27474\n",
            "Batch index:    50\tLoss: 0.10049 \t train_loss: 22.26946\n",
            "Train Loss: 0.00423\n",
            "----------------------------------------------------------------------------------------------------\n",
            "Epoch: 001, Train Acc: 0.9536, Val Acc: 0.9705, Train Loss: 0.0019, Val Loss: 0.0014\n",
            "====================================================================================================\n",
            "Epoch:  2\n",
            "Batch index:     0\tLoss: 0.15868 \t train_loss: 0.15868\n",
            "Batch index:    10\tLoss: 0.26605 \t train_loss: 2.13243\n",
            "Batch index:    20\tLoss: 0.13101 \t train_loss: 4.01297\n",
            "Batch index:    30\tLoss: 0.16446 \t train_loss: 5.83591\n",
            "Batch index:    40\tLoss: 0.12139 \t train_loss: 7.32278\n",
            "Batch index:    50\tLoss: 0.23562 \t train_loss: 9.24657\n",
            "Train Loss: 0.00182\n",
            "----------------------------------------------------------------------------------------------------\n",
            "Epoch: 002, Train Acc: 0.9536, Val Acc: 0.9705, Train Loss: 0.0017, Val Loss: 0.0014\n",
            "====================================================================================================\n",
            "Epoch:  3\n",
            "Batch index:     0\tLoss: 0.23920 \t train_loss: 0.23920\n",
            "Batch index:    10\tLoss: 0.15365 \t train_loss: 2.01254\n",
            "Batch index:    20\tLoss: 0.20662 \t train_loss: 3.63077\n",
            "Batch index:    30\tLoss: 0.12291 \t train_loss: 4.95171\n",
            "Batch index:    40\tLoss: 0.10801 \t train_loss: 6.53560\n",
            "Batch index:    50\tLoss: 0.17366 \t train_loss: 8.26997\n",
            "Train Loss: 0.00170\n",
            "----------------------------------------------------------------------------------------------------\n",
            "Epoch: 003, Train Acc: 0.9536, Val Acc: 0.9705, Train Loss: 0.0016, Val Loss: 0.0014\n",
            "====================================================================================================\n",
            "Epoch:  4\n",
            "Batch index:     0\tLoss: 0.12126 \t train_loss: 0.12126\n",
            "Batch index:    10\tLoss: 0.23147 \t train_loss: 1.81169\n",
            "Batch index:    20\tLoss: 0.14028 \t train_loss: 3.51300\n",
            "Batch index:    30\tLoss: 0.11183 \t train_loss: 5.05983\n",
            "Batch index:    40\tLoss: 0.13175 \t train_loss: 6.39099\n",
            "Batch index:    50\tLoss: 0.24740 \t train_loss: 7.86123\n",
            "Train Loss: 0.00155\n",
            "----------------------------------------------------------------------------------------------------\n",
            "Epoch: 004, Train Acc: 0.9540, Val Acc: 0.9690, Train Loss: 0.0015, Val Loss: 0.0013\n",
            "====================================================================================================\n",
            "Epoch:  5\n",
            "Batch index:     0\tLoss: 0.15179 \t train_loss: 0.15179\n",
            "Batch index:    10\tLoss: 0.15492 \t train_loss: 1.58255\n",
            "Batch index:    20\tLoss: 0.15672 \t train_loss: 3.22122\n",
            "Batch index:    30\tLoss: 0.18746 \t train_loss: 4.87639\n",
            "Batch index:    40\tLoss: 0.10863 \t train_loss: 6.31543\n",
            "Batch index:    50\tLoss: 0.08419 \t train_loss: 7.53166\n",
            "Train Loss: 0.00149\n",
            "----------------------------------------------------------------------------------------------------\n",
            "Epoch: 005, Train Acc: 0.9552, Val Acc: 0.9661, Train Loss: 0.0014, Val Loss: 0.0013\n",
            "====================================================================================================\n",
            "Epoch:  6\n",
            "Batch index:     0\tLoss: 0.10934 \t train_loss: 0.10934\n",
            "Batch index:    10\tLoss: 0.13582 \t train_loss: 1.72555\n",
            "Batch index:    20\tLoss: 0.15403 \t train_loss: 3.07029\n",
            "Batch index:    30\tLoss: 0.12533 \t train_loss: 4.07227\n",
            "Batch index:    40\tLoss: 0.08201 \t train_loss: 5.53091\n",
            "Batch index:    50\tLoss: 0.13231 \t train_loss: 7.15896\n",
            "Train Loss: 0.00142\n",
            "----------------------------------------------------------------------------------------------------\n",
            "Epoch: 006, Train Acc: 0.9621, Val Acc: 0.9661, Train Loss: 0.0014, Val Loss: 0.0013\n",
            "====================================================================================================\n",
            "Epoch:  7\n",
            "Batch index:     0\tLoss: 0.17347 \t train_loss: 0.17347\n",
            "Batch index:    10\tLoss: 0.12154 \t train_loss: 1.54729\n",
            "Batch index:    20\tLoss: 0.10929 \t train_loss: 3.02304\n",
            "Batch index:    30\tLoss: 0.12520 \t train_loss: 4.18909\n",
            "Batch index:    40\tLoss: 0.14230 \t train_loss: 5.48848\n",
            "Batch index:    50\tLoss: 0.19333 \t train_loss: 6.82061\n",
            "Train Loss: 0.00142\n",
            "----------------------------------------------------------------------------------------------------\n",
            "Epoch: 007, Train Acc: 0.9648, Val Acc: 0.9705, Train Loss: 0.0013, Val Loss: 0.0013\n",
            "====================================================================================================\n",
            "Epoch:  8\n",
            "Batch index:     0\tLoss: 0.20727 \t train_loss: 0.20727\n",
            "Batch index:    10\tLoss: 0.09687 \t train_loss: 1.70794\n",
            "Batch index:    20\tLoss: 0.13342 \t train_loss: 2.93114\n",
            "Batch index:    30\tLoss: 0.12501 \t train_loss: 4.22063\n",
            "Batch index:    40\tLoss: 0.08333 \t train_loss: 5.41875\n",
            "Batch index:    50\tLoss: 0.11394 \t train_loss: 6.80281\n",
            "Train Loss: 0.00135\n",
            "----------------------------------------------------------------------------------------------------\n",
            "Epoch: 008, Train Acc: 0.9656, Val Acc: 0.9705, Train Loss: 0.0013, Val Loss: 0.0012\n",
            "====================================================================================================\n",
            "Epoch:  9\n",
            "Batch index:     0\tLoss: 0.07105 \t train_loss: 0.07105\n",
            "Batch index:    10\tLoss: 0.25351 \t train_loss: 1.41124\n",
            "Batch index:    20\tLoss: 0.10260 \t train_loss: 2.83814\n",
            "Batch index:    30\tLoss: 0.12495 \t train_loss: 4.20417\n",
            "Batch index:    40\tLoss: 0.03759 \t train_loss: 5.30601\n",
            "Batch index:    50\tLoss: 0.09537 \t train_loss: 6.70457\n",
            "Train Loss: 0.00133\n",
            "----------------------------------------------------------------------------------------------------\n",
            "Epoch: 009, Train Acc: 0.9641, Val Acc: 0.9646, Train Loss: 0.0013, Val Loss: 0.0013\n",
            "====================================================================================================\n",
            "Epoch:  10\n",
            "Batch index:     0\tLoss: 0.15448 \t train_loss: 0.15448\n",
            "Batch index:    10\tLoss: 0.11016 \t train_loss: 1.39827\n",
            "Batch index:    20\tLoss: 0.13656 \t train_loss: 3.12767\n",
            "Batch index:    30\tLoss: 0.07584 \t train_loss: 4.12426\n",
            "Batch index:    40\tLoss: 0.06741 \t train_loss: 5.54635\n",
            "Batch index:    50\tLoss: 0.13517 \t train_loss: 6.60189\n",
            "Train Loss: 0.00136\n",
            "----------------------------------------------------------------------------------------------------\n",
            "Epoch: 010, Train Acc: 0.9672, Val Acc: 0.9735, Train Loss: 0.0013, Val Loss: 0.0012\n",
            "====================================================================================================\n",
            "Epoch:  11\n",
            "Batch index:     0\tLoss: 0.12430 \t train_loss: 0.12430\n",
            "Batch index:    10\tLoss: 0.14659 \t train_loss: 1.50288\n",
            "Batch index:    20\tLoss: 0.23890 \t train_loss: 2.88375\n",
            "Batch index:    30\tLoss: 0.15830 \t train_loss: 3.92172\n",
            "Batch index:    40\tLoss: 0.12844 \t train_loss: 5.31057\n",
            "Batch index:    50\tLoss: 0.21442 \t train_loss: 6.75113\n",
            "Train Loss: 0.00130\n",
            "----------------------------------------------------------------------------------------------------\n",
            "Epoch: 011, Train Acc: 0.9672, Val Acc: 0.9705, Train Loss: 0.0013, Val Loss: 0.0012\n",
            "====================================================================================================\n",
            "Epoch:  12\n",
            "Batch index:     0\tLoss: 0.05825 \t train_loss: 0.05825\n",
            "Batch index:    10\tLoss: 0.20691 \t train_loss: 1.51144\n",
            "Batch index:    20\tLoss: 0.05897 \t train_loss: 2.73040\n",
            "Batch index:    30\tLoss: 0.17008 \t train_loss: 4.07098\n",
            "Batch index:    40\tLoss: 0.05021 \t train_loss: 5.19888\n",
            "Batch index:    50\tLoss: 0.10868 \t train_loss: 6.56824\n",
            "Train Loss: 0.00132\n",
            "----------------------------------------------------------------------------------------------------\n",
            "Epoch: 012, Train Acc: 0.9669, Val Acc: 0.9705, Train Loss: 0.0013, Val Loss: 0.0012\n",
            "====================================================================================================\n",
            "Epoch:  13\n",
            "Batch index:     0\tLoss: 0.30438 \t train_loss: 0.30438\n",
            "Batch index:    10\tLoss: 0.19683 \t train_loss: 1.64041\n",
            "Batch index:    20\tLoss: 0.11295 \t train_loss: 2.60781\n",
            "Batch index:    30\tLoss: 0.10220 \t train_loss: 3.82758\n",
            "Batch index:    40\tLoss: 0.18241 \t train_loss: 5.25046\n",
            "Batch index:    50\tLoss: 0.07239 \t train_loss: 6.37151\n",
            "Train Loss: 0.00130\n",
            "----------------------------------------------------------------------------------------------------\n",
            "Epoch: 013, Train Acc: 0.9656, Val Acc: 0.9676, Train Loss: 0.0013, Val Loss: 0.0012\n",
            "====================================================================================================\n",
            "Epoch:  14\n",
            "Batch index:     0\tLoss: 0.11031 \t train_loss: 0.11031\n",
            "Batch index:    10\tLoss: 0.19398 \t train_loss: 1.61852\n",
            "Batch index:    20\tLoss: 0.13350 \t train_loss: 2.82094\n",
            "Batch index:    30\tLoss: 0.15067 \t train_loss: 4.32589\n",
            "Batch index:    40\tLoss: 0.13126 \t train_loss: 5.67324\n",
            "Batch index:    50\tLoss: 0.05290 \t train_loss: 6.76193\n",
            "Train Loss: 0.00131\n",
            "----------------------------------------------------------------------------------------------------\n",
            "Epoch: 014, Train Acc: 0.9674, Val Acc: 0.9735, Train Loss: 0.0013, Val Loss: 0.0012\n",
            "====================================================================================================\n",
            "Epoch:  15\n",
            "Batch index:     0\tLoss: 0.03622 \t train_loss: 0.03622\n",
            "Batch index:    10\tLoss: 0.13045 \t train_loss: 1.41189\n",
            "Batch index:    20\tLoss: 0.03823 \t train_loss: 2.85043\n",
            "Batch index:    30\tLoss: 0.03011 \t train_loss: 4.13214\n",
            "Batch index:    40\tLoss: 0.10989 \t train_loss: 5.42006\n",
            "Batch index:    50\tLoss: 0.12810 \t train_loss: 6.60567\n",
            "Train Loss: 0.00130\n",
            "----------------------------------------------------------------------------------------------------\n",
            "Epoch: 015, Train Acc: 0.9680, Val Acc: 0.9735, Train Loss: 0.0013, Val Loss: 0.0012\n",
            "====================================================================================================\n",
            "Epoch:  16\n",
            "Batch index:     0\tLoss: 0.13857 \t train_loss: 0.13857\n",
            "Batch index:    10\tLoss: 0.07975 \t train_loss: 1.20341\n",
            "Batch index:    20\tLoss: 0.12909 \t train_loss: 2.54429\n",
            "Batch index:    30\tLoss: 0.12820 \t train_loss: 3.77156\n",
            "Batch index:    40\tLoss: 0.14921 \t train_loss: 5.28054\n",
            "Batch index:    50\tLoss: 0.10519 \t train_loss: 6.46616\n",
            "Train Loss: 0.00127\n",
            "----------------------------------------------------------------------------------------------------\n",
            "Epoch: 016, Train Acc: 0.9667, Val Acc: 0.9676, Train Loss: 0.0013, Val Loss: 0.0012\n",
            "====================================================================================================\n",
            "Epoch:  17\n",
            "Batch index:     0\tLoss: 0.08708 \t train_loss: 0.08708\n",
            "Batch index:    10\tLoss: 0.11285 \t train_loss: 1.46623\n",
            "Batch index:    20\tLoss: 0.22325 \t train_loss: 2.71557\n",
            "Batch index:    30\tLoss: 0.17106 \t train_loss: 4.09288\n",
            "Batch index:    40\tLoss: 0.11875 \t train_loss: 5.25407\n",
            "Batch index:    50\tLoss: 0.18938 \t train_loss: 6.44841\n",
            "Train Loss: 0.00131\n",
            "----------------------------------------------------------------------------------------------------\n",
            "Epoch: 017, Train Acc: 0.9681, Val Acc: 0.9735, Train Loss: 0.0013, Val Loss: 0.0012\n",
            "====================================================================================================\n",
            "Epoch:  18\n",
            "Batch index:     0\tLoss: 0.08371 \t train_loss: 0.08371\n",
            "Batch index:    10\tLoss: 0.10664 \t train_loss: 1.26774\n",
            "Batch index:    20\tLoss: 0.13369 \t train_loss: 2.47751\n",
            "Batch index:    30\tLoss: 0.13798 \t train_loss: 3.84699\n",
            "Batch index:    40\tLoss: 0.07597 \t train_loss: 5.03312\n",
            "Batch index:    50\tLoss: 0.10559 \t train_loss: 6.38319\n",
            "Train Loss: 0.00130\n",
            "----------------------------------------------------------------------------------------------------\n",
            "Epoch: 018, Train Acc: 0.9683, Val Acc: 0.9720, Train Loss: 0.0013, Val Loss: 0.0012\n",
            "====================================================================================================\n",
            "Epoch:  19\n",
            "Batch index:     0\tLoss: 0.12760 \t train_loss: 0.12760\n",
            "Batch index:    10\tLoss: 0.09412 \t train_loss: 1.50541\n",
            "Batch index:    20\tLoss: 0.13027 \t train_loss: 2.60466\n",
            "Batch index:    30\tLoss: 0.13407 \t train_loss: 3.57364\n",
            "Batch index:    40\tLoss: 0.07792 \t train_loss: 5.07345\n",
            "Batch index:    50\tLoss: 0.11229 \t train_loss: 6.48617\n",
            "Train Loss: 0.00127\n",
            "----------------------------------------------------------------------------------------------------\n",
            "Epoch: 019, Train Acc: 0.9678, Val Acc: 0.9705, Train Loss: 0.0013, Val Loss: 0.0012\n"
          ]
        }
      ],
      "source": [
        "n_epoch = 20\n",
        "train_loss_all = []\n",
        "val_loss_all = []\n",
        "\n",
        "for epoch in range(1, n_epoch):\n",
        "    print(\"=\"*100 + \"\\nEpoch: \", epoch)\n",
        "\n",
        "    train()\n",
        "\n",
        "    train_acc, out_tmp, true_tmp, train_loss = test(train_loader)\n",
        "    train_loss_all.append(train_loss)\n",
        "\n",
        "    val_acc, val_pred, val_true, val_loss = test(val_loader)\n",
        "    val_loss_all.append(val_loss)\n",
        "\n",
        "    print(\"-\"*100)\n",
        "    print(f'Epoch: {epoch:03d}, Train Acc: {train_acc:.4f}, Val Acc: {val_acc:.4f}, Train Loss: {train_loss:.4f}, Val Loss: {val_loss:.4f}')\n"
      ]
    },
    {
      "cell_type": "code",
      "source": [
        "test_acc, out_all, true_all, test_loss = test(test_loader)\n",
        "print(f\"Test Accuracy: {test_acc:.5f}\")\n",
        "print(f\"Test Loss: {test_loss:.5f}\")"
      ],
      "metadata": {
        "colab": {
          "base_uri": "https://localhost:8080/"
        },
        "id": "mgQUbVcp7RDO",
        "outputId": "bafec11f-3b5c-4f24-9cba-0360b91a3745"
      },
      "execution_count": null,
      "outputs": [
        {
          "output_type": "stream",
          "name": "stdout",
          "text": [
            "Test Accuracy: 0.96618\n",
            "Test Loss: 0.00135\n"
          ]
        }
      ]
    },
    {
      "cell_type": "code",
      "source": [
        "draw_loss_change(train_loss_all, val_loss_all)"
      ],
      "metadata": {
        "colab": {
          "base_uri": "https://localhost:8080/",
          "height": 696
        },
        "id": "D4SVCAIOBkGu",
        "outputId": "d8f72da0-1047-4ba2-c7c0-479cb0183c3c"
      },
      "execution_count": null,
      "outputs": [
        {
          "output_type": "display_data",
          "data": {
            "text/plain": [
              "<Figure size 800x800 with 1 Axes>"
            ],
            "image/png": "[encoded data removed]"
          },
          "metadata": {}
        }
      ]
    },
    {
      "cell_type": "code",
      "source": [
        "import sklearn\n",
        "from sklearn.metrics import f1_score, roc_auc_score\n",
        "f1 = f1_score(true_all, [1 if x>= 0.5 else 0 for x in out_all])\n",
        "auc = roc_auc_score(true_all, out_all)\n",
        "print(f\"F1-score: {f1:.4f}\")\n",
        "print(f\"ROC_AUC: {auc:.4f}\")"
      ],
      "metadata": {
        "colab": {
          "base_uri": "https://localhost:8080/"
        },
        "id": "zouHxbMP9DBY",
        "outputId": "baf8c76d-1c4c-4552-8631-c29099e0e216"
      },
      "execution_count": null,
      "outputs": [
        {
          "output_type": "stream",
          "name": "stdout",
          "text": [
            "F1-score: 0.4103\n",
            "ROC_AUC: 0.7779\n"
          ]
        }
      ]
    },
    {
      "cell_type": "code",
      "source": [
        "out_binary = [1 if x >= 0.5 else 0 for x in out_all]\n",
        "cm = confusion_matrix(true_all, out_binary, labels=(0,1))\n",
        "disp = ConfusionMatrixDisplay(confusion_matrix=cm, display_labels=(0,1))\n",
        "disp.plot()"
      ],
      "metadata": {
        "colab": {
          "base_uri": "https://localhost:8080/",
          "height": 467
        },
        "id": "tlaQfqhd0I80",
        "outputId": "26bece96-73f4-4068-c7ce-dcbff21991b3"
      },
      "execution_count": null,
      "outputs": [
        {
          "output_type": "execute_result",
          "data": {
            "text/plain": [
              "<sklearn.metrics._plot.confusion_matrix.ConfusionMatrixDisplay at 0x7c1c4e9f6230>"
            ]
          },
          "metadata": {},
          "execution_count": 61
        },
        {
          "output_type": "display_data",
          "data": {
            "text/plain": [
              "<Figure size 640x480 with 2 Axes>"
            ],
            "image/png": "[encoded data removed]"
          },
          "metadata": {}
        }
      ]
    },
    {
      "cell_type": "code",
      "source": [
        "from sklearn.metrics import RocCurveDisplay\n",
        "\n",
        "display = RocCurveDisplay.from_predictions(\n",
        "    true_all,\n",
        "    out_all,\n",
        "    name=f\"Toxicity\",\n",
        "    color=\"darkorange\",\n",
        "    plot_chance_level=True,\n",
        ")\n",
        "_ = display.ax_.set(\n",
        "    xlabel=\"False Positive Rate\",\n",
        "    ylabel=\"True Positive Rate\",\n",
        "    title=\"One-vs-Rest ROC curves:\\n Toxic vs Non-toxic\",\n",
        ")"
      ],
      "metadata": {
        "colab": {
          "base_uri": "https://localhost:8080/",
          "height": 493
        },
        "id": "bKlVorZK8pqs",
        "outputId": "5dc4b188-53ae-492b-eb8a-f40a1625111f"
      },
      "execution_count": null,
      "outputs": [
        {
          "output_type": "display_data",
          "data": {
            "text/plain": [
              "<Figure size 640x480 with 1 Axes>"
            ],
            "image/png": "[encoded data removed]"
          },
          "metadata": {}
        }
      ]
    },
    {
      "cell_type": "code",
      "source": [
        "display = PrecisionRecallDisplay.from_predictions(\n",
        "    true_all,\n",
        "    out_all,\n",
        "    name = \"Toxicity\",\n",
        "    plot_chance_level=True,\n",
        ")\n",
        "\n",
        "_ = display.ax_.set(\n",
        "    title=\"Toxicity prediction PR-curve\",\n",
        ")"
      ],
      "metadata": {
        "colab": {
          "base_uri": "https://localhost:8080/",
          "height": 472
        },
        "id": "lLZGqMye8vKR",
        "outputId": "f2093417-c852-4b09-b974-d36f3cb3a934"
      },
      "execution_count": null,
      "outputs": [
        {
          "output_type": "display_data",
          "data": {
            "text/plain": [
              "<Figure size 640x480 with 1 Axes>"
            ],
            "image/png": "[encoded data removed]"
          },
          "metadata": {}
        }
      ]
    },
    {
      "cell_type": "markdown",
      "metadata": {
        "id": "vj8IvzAaCdrY"
      },
      "source": [
        "# Graph Attentive Network\n",
        "----\n",
        "GCNConv 말고 다른 graph convolution layer인 Graph Attentive Network의 성능을 알아봅시다.\n"
      ]
    },
    {
      "cell_type": "code",
      "execution_count": null,
      "metadata": {
        "id": "L1F9r7kHtw8p"
      },
      "outputs": [],
      "source": [
        "import torch\n",
        "from torch.nn import Linear\n",
        "import torch.nn.functional as F\n",
        "from torch_geometric.nn import GCNConv, GATConv\n",
        "from torch_geometric.nn import global_mean_pool\n",
        "\n",
        "class my_GAT_model(torch.nn.Module):\n",
        "    def __init__(self):\n",
        "        super().__init__()\n",
        "        self.conv1 = GATConv(35, 70) # 가장 기본적인 graph convolution model, https://pytorch-geometric.readthedocs.io/en/latest/modules/nn.html#torch_geometric.nn.conv.GCNConv\n",
        "        self.conv2 = GATConv(70, 70)\n",
        "        self.conv3 = GATConv(70, 70)\n",
        "        #self.conv4 = GATConv(70, 70)\n",
        "        #self.conv5 = GATConv(70, 70)\n",
        "\n",
        "        self.lin1 = Linear(70, 35)\n",
        "        self.lin2 = Linear(35, 1)\n",
        "\n",
        "    def forward(self, data):\n",
        "        x, edge_index, batch, edge_attr, edge_weight = data.x, data.edge_index, data.batch, data.edge_attr, data.edge_weight\n",
        "\n",
        "        x = self.conv1(x, edge_index) # node_attribute와 edge_index만 사용하고 있음. -> edge의 attribute는 사용하고 있지 않음.\n",
        "        x = F.gelu(x)\n",
        "        x = F.dropout(x, training=self.training)\n",
        "\n",
        "        x = self.conv2(x, edge_index)\n",
        "        x = F.gelu(x)\n",
        "\n",
        "        x = self.conv3(x, edge_index)\n",
        "        x = F.gelu(x)\n",
        "\n",
        "        x = global_mean_pool(x, batch) # 전체의 node feature의 평균 값을 취한다. # [batch_size, hidden_channels]\n",
        "        x = F.gelu(self.lin1(x))\n",
        "        x = self.lin2(x)\n",
        "\n",
        "        return x"
      ]
    },
    {
      "cell_type": "code",
      "execution_count": null,
      "metadata": {
        "id": "gRmlaSo9uK9F",
        "colab": {
          "base_uri": "https://localhost:8080/"
        },
        "outputId": "a4d0079f-bab7-4b31-e5c0-41ef9a19742f"
      },
      "outputs": [
        {
          "output_type": "execute_result",
          "data": {
            "text/plain": [
              "my_GAT_model(\n",
              "  (conv1): GATConv(35, 70, heads=1)\n",
              "  (conv2): GATConv(70, 70, heads=1)\n",
              "  (conv3): GATConv(70, 70, heads=1)\n",
              "  (lin1): Linear(in_features=70, out_features=35, bias=True)\n",
              "  (lin2): Linear(in_features=35, out_features=1, bias=True)\n",
              ")"
            ]
          },
          "metadata": {},
          "execution_count": 65
        }
      ],
      "source": [
        "model = my_GAT_model()\n",
        "model.to(device)"
      ]
    },
    {
      "cell_type": "code",
      "execution_count": null,
      "metadata": {
        "id": "ztRt9gLeuTGP",
        "colab": {
          "base_uri": "https://localhost:8080/"
        },
        "outputId": "7ac36890-6c79-408b-c4d6-9d5746009e11"
      },
      "outputs": [
        {
          "output_type": "stream",
          "name": "stdout",
          "text": [
            "+------------------+------------+\n",
            "|     Modules      | Parameters |\n",
            "+------------------+------------+\n",
            "|  conv1.att_src   |     70     |\n",
            "|  conv1.att_dst   |     70     |\n",
            "|    conv1.bias    |     70     |\n",
            "| conv1.lin.weight |    2450    |\n",
            "|  conv2.att_src   |     70     |\n",
            "|  conv2.att_dst   |     70     |\n",
            "|    conv2.bias    |     70     |\n",
            "| conv2.lin.weight |    4900    |\n",
            "|  conv3.att_src   |     70     |\n",
            "|  conv3.att_dst   |     70     |\n",
            "|    conv3.bias    |     70     |\n",
            "| conv3.lin.weight |    4900    |\n",
            "|   lin1.weight    |    2450    |\n",
            "|    lin1.bias     |     35     |\n",
            "|   lin2.weight    |     35     |\n",
            "|    lin2.bias     |     1      |\n",
            "+------------------+------------+\n",
            "Total Trainable Params: 15401\n"
          ]
        },
        {
          "output_type": "execute_result",
          "data": {
            "text/plain": [
              "15401"
            ]
          },
          "metadata": {},
          "execution_count": 66
        }
      ],
      "source": [
        "count_parameters(model)"
      ]
    },
    {
      "cell_type": "code",
      "execution_count": null,
      "metadata": {
        "id": "NeVmAD16uRef"
      },
      "outputs": [],
      "source": [
        "optimizer = torch.optim.Adam(model.parameters(), lr=0.005)\n",
        "#criterion = torch.nn.MSELoss()\n",
        "criterion = torch.nn.BCEWithLogitsLoss()"
      ]
    },
    {
      "cell_type": "code",
      "execution_count": null,
      "metadata": {
        "id": "OAM6udvfujbd",
        "colab": {
          "base_uri": "https://localhost:8080/"
        },
        "outputId": "39008944-e983-405b-a9a6-73d0beea254d"
      },
      "outputs": [
        {
          "output_type": "stream",
          "name": "stdout",
          "text": [
            "====================================================================================================\n",
            "Epoch:  1\n",
            "Batch index:     0\tLoss: 0.72948 \t train_loss: 0.72948\n",
            "Batch index:    10\tLoss: 0.05038 \t train_loss: 4.76542\n",
            "Batch index:    20\tLoss: 0.13655 \t train_loss: 7.11825\n",
            "Batch index:    30\tLoss: 0.25864 \t train_loss: 9.10257\n",
            "Batch index:    40\tLoss: 0.25814 \t train_loss: 11.02115\n",
            "Batch index:    50\tLoss: 0.12574 \t train_loss: 12.91891\n",
            "Train Loss: 0.00251\n",
            "----------------------------------------------------------------------------------------------------\n",
            "Epoch: 001, Train Acc: 0.9536, Val Acc: 0.9705, Test Acc: 0.9662\n",
            "====================================================================================================\n",
            "Epoch:  2\n",
            "Batch index:     0\tLoss: 0.13120 \t train_loss: 0.13120\n",
            "Batch index:    10\tLoss: 0.10423 \t train_loss: 1.76090\n",
            "Batch index:    20\tLoss: 0.08125 \t train_loss: 3.04933\n",
            "Batch index:    30\tLoss: 0.16548 \t train_loss: 4.48086\n",
            "Batch index:    40\tLoss: 0.03375 \t train_loss: 5.70266\n",
            "Batch index:    50\tLoss: 0.11340 \t train_loss: 7.37583\n",
            "Train Loss: 0.00150\n",
            "----------------------------------------------------------------------------------------------------\n",
            "Epoch: 002, Train Acc: 0.9657, Val Acc: 0.9705, Test Acc: 0.9662\n",
            "====================================================================================================\n",
            "Epoch:  3\n",
            "Batch index:     0\tLoss: 0.12267 \t train_loss: 0.12267\n",
            "Batch index:    10\tLoss: 0.12456 \t train_loss: 1.38811\n",
            "Batch index:    20\tLoss: 0.09953 \t train_loss: 2.66404\n",
            "Batch index:    30\tLoss: 0.18042 \t train_loss: 4.07357\n",
            "Batch index:    40\tLoss: 0.14937 \t train_loss: 5.66508\n",
            "Batch index:    50\tLoss: 0.12487 \t train_loss: 7.08881\n",
            "Train Loss: 0.00136\n",
            "----------------------------------------------------------------------------------------------------\n",
            "Epoch: 003, Train Acc: 0.9661, Val Acc: 0.9705, Test Acc: 0.9662\n",
            "====================================================================================================\n",
            "Epoch:  4\n",
            "Batch index:     0\tLoss: 0.14224 \t train_loss: 0.14224\n",
            "Batch index:    10\tLoss: 0.15113 \t train_loss: 1.32665\n",
            "Batch index:    20\tLoss: 0.07547 \t train_loss: 2.57196\n",
            "Batch index:    30\tLoss: 0.14141 \t train_loss: 4.10591\n",
            "Batch index:    40\tLoss: 0.19361 \t train_loss: 5.45563\n",
            "Batch index:    50\tLoss: 0.09721 \t train_loss: 6.58760\n",
            "Train Loss: 0.00134\n",
            "----------------------------------------------------------------------------------------------------\n",
            "Epoch: 004, Train Acc: 0.9681, Val Acc: 0.9690, Test Acc: 0.9662\n",
            "====================================================================================================\n",
            "Epoch:  5\n",
            "Batch index:     0\tLoss: 0.15167 \t train_loss: 0.15167\n",
            "Batch index:    10\tLoss: 0.16913 \t train_loss: 1.48010\n",
            "Batch index:    20\tLoss: 0.23330 \t train_loss: 2.74115\n",
            "Batch index:    30\tLoss: 0.17406 \t train_loss: 4.09050\n",
            "Batch index:    40\tLoss: 0.16809 \t train_loss: 5.25589\n",
            "Batch index:    50\tLoss: 0.07758 \t train_loss: 6.56410\n",
            "Train Loss: 0.00130\n",
            "----------------------------------------------------------------------------------------------------\n",
            "Epoch: 005, Train Acc: 0.9680, Val Acc: 0.9720, Test Acc: 0.9662\n",
            "====================================================================================================\n",
            "Epoch:  6\n",
            "Batch index:     0\tLoss: 0.07955 \t train_loss: 0.07955\n",
            "Batch index:    10\tLoss: 0.12405 \t train_loss: 1.39040\n",
            "Batch index:    20\tLoss: 0.09000 \t train_loss: 2.47044\n",
            "Batch index:    30\tLoss: 0.17091 \t train_loss: 4.08281\n",
            "Batch index:    40\tLoss: 0.10769 \t train_loss: 5.36920\n",
            "Batch index:    50\tLoss: 0.12548 \t train_loss: 6.55137\n",
            "Train Loss: 0.00128\n",
            "----------------------------------------------------------------------------------------------------\n",
            "Epoch: 006, Train Acc: 0.9669, Val Acc: 0.9735, Test Acc: 0.9662\n",
            "====================================================================================================\n",
            "Epoch:  7\n",
            "Batch index:     0\tLoss: 0.20172 \t train_loss: 0.20172\n",
            "Batch index:    10\tLoss: 0.10018 \t train_loss: 1.48256\n",
            "Batch index:    20\tLoss: 0.07938 \t train_loss: 2.77268\n",
            "Batch index:    30\tLoss: 0.16867 \t train_loss: 3.93906\n",
            "Batch index:    40\tLoss: 0.14034 \t train_loss: 5.26496\n",
            "Batch index:    50\tLoss: 0.03559 \t train_loss: 6.59694\n",
            "Train Loss: 0.00129\n",
            "----------------------------------------------------------------------------------------------------\n",
            "Epoch: 007, Train Acc: 0.9681, Val Acc: 0.9705, Test Acc: 0.9662\n",
            "====================================================================================================\n",
            "Epoch:  8\n",
            "Batch index:     0\tLoss: 0.10957 \t train_loss: 0.10957\n",
            "Batch index:    10\tLoss: 0.17428 \t train_loss: 1.36654\n",
            "Batch index:    20\tLoss: 0.07576 \t train_loss: 2.52782\n",
            "Batch index:    30\tLoss: 0.10648 \t train_loss: 3.57769\n",
            "Batch index:    40\tLoss: 0.17133 \t train_loss: 5.10830\n",
            "Batch index:    50\tLoss: 0.11739 \t train_loss: 6.51266\n",
            "Train Loss: 0.00130\n",
            "----------------------------------------------------------------------------------------------------\n",
            "Epoch: 008, Train Acc: 0.9692, Val Acc: 0.9705, Test Acc: 0.9662\n",
            "====================================================================================================\n",
            "Epoch:  9\n",
            "Batch index:     0\tLoss: 0.14315 \t train_loss: 0.14315\n",
            "Batch index:    10\tLoss: 0.20240 \t train_loss: 1.55233\n",
            "Batch index:    20\tLoss: 0.05560 \t train_loss: 2.50470\n",
            "Batch index:    30\tLoss: 0.07359 \t train_loss: 3.69097\n",
            "Batch index:    40\tLoss: 0.06731 \t train_loss: 5.01661\n",
            "Batch index:    50\tLoss: 0.23735 \t train_loss: 6.53160\n",
            "Train Loss: 0.00125\n",
            "----------------------------------------------------------------------------------------------------\n",
            "Epoch: 009, Train Acc: 0.9680, Val Acc: 0.9749, Test Acc: 0.9662\n",
            "====================================================================================================\n",
            "Epoch:  10\n",
            "Batch index:     0\tLoss: 0.10837 \t train_loss: 0.10837\n",
            "Batch index:    10\tLoss: 0.09830 \t train_loss: 1.35105\n",
            "Batch index:    20\tLoss: 0.13711 \t train_loss: 2.75143\n",
            "Batch index:    30\tLoss: 0.10862 \t train_loss: 3.93505\n",
            "Batch index:    40\tLoss: 0.24140 \t train_loss: 5.30697\n",
            "Batch index:    50\tLoss: 0.12641 \t train_loss: 6.45083\n",
            "Train Loss: 0.00127\n",
            "----------------------------------------------------------------------------------------------------\n",
            "Epoch: 010, Train Acc: 0.9630, Val Acc: 0.9735, Test Acc: 0.9662\n",
            "====================================================================================================\n",
            "Epoch:  11\n",
            "Batch index:     0\tLoss: 0.07875 \t train_loss: 0.07875\n",
            "Batch index:    10\tLoss: 0.12408 \t train_loss: 1.26856\n",
            "Batch index:    20\tLoss: 0.14227 \t train_loss: 2.56446\n",
            "Batch index:    30\tLoss: 0.09964 \t train_loss: 3.95749\n",
            "Batch index:    40\tLoss: 0.06791 \t train_loss: 5.25966\n",
            "Batch index:    50\tLoss: 0.12333 \t train_loss: 6.33036\n",
            "Train Loss: 0.00130\n",
            "----------------------------------------------------------------------------------------------------\n",
            "Epoch: 011, Train Acc: 0.9696, Val Acc: 0.9705, Test Acc: 0.9662\n",
            "====================================================================================================\n",
            "Epoch:  12\n",
            "Batch index:     0\tLoss: 0.21895 \t train_loss: 0.21895\n",
            "Batch index:    10\tLoss: 0.14558 \t train_loss: 1.43326\n",
            "Batch index:    20\tLoss: 0.19523 \t train_loss: 2.58671\n",
            "Batch index:    30\tLoss: 0.09981 \t train_loss: 3.79677\n",
            "Batch index:    40\tLoss: 0.26452 \t train_loss: 5.21711\n",
            "Batch index:    50\tLoss: 0.15206 \t train_loss: 6.32429\n",
            "Train Loss: 0.00127\n",
            "----------------------------------------------------------------------------------------------------\n",
            "Epoch: 012, Train Acc: 0.9683, Val Acc: 0.9749, Test Acc: 0.9662\n",
            "====================================================================================================\n",
            "Epoch:  13\n",
            "Batch index:     0\tLoss: 0.14995 \t train_loss: 0.14995\n",
            "Batch index:    10\tLoss: 0.16198 \t train_loss: 1.46512\n",
            "Batch index:    20\tLoss: 0.06191 \t train_loss: 2.63555\n",
            "Batch index:    30\tLoss: 0.03005 \t train_loss: 3.77221\n",
            "Batch index:    40\tLoss: 0.21996 \t train_loss: 5.29411\n",
            "Batch index:    50\tLoss: 0.03505 \t train_loss: 6.41646\n",
            "Train Loss: 0.00127\n",
            "----------------------------------------------------------------------------------------------------\n",
            "Epoch: 013, Train Acc: 0.9685, Val Acc: 0.9720, Test Acc: 0.9662\n",
            "====================================================================================================\n",
            "Epoch:  14\n",
            "Batch index:     0\tLoss: 0.18424 \t train_loss: 0.18424\n",
            "Batch index:    10\tLoss: 0.15209 \t train_loss: 1.28119\n",
            "Batch index:    20\tLoss: 0.11096 \t train_loss: 2.53430\n",
            "Batch index:    30\tLoss: 0.19586 \t train_loss: 3.69687\n",
            "Batch index:    40\tLoss: 0.17549 \t train_loss: 5.09099\n",
            "Batch index:    50\tLoss: 0.09755 \t train_loss: 6.08178\n",
            "Train Loss: 0.00130\n",
            "----------------------------------------------------------------------------------------------------\n",
            "Epoch: 014, Train Acc: 0.9694, Val Acc: 0.9749, Test Acc: 0.9662\n",
            "====================================================================================================\n",
            "Epoch:  15\n",
            "Batch index:     0\tLoss: 0.11588 \t train_loss: 0.11588\n",
            "Batch index:    10\tLoss: 0.04374 \t train_loss: 1.43256\n",
            "Batch index:    20\tLoss: 0.13855 \t train_loss: 2.88674\n",
            "Batch index:    30\tLoss: 0.11413 \t train_loss: 4.19541\n",
            "Batch index:    40\tLoss: 0.14225 \t train_loss: 5.18494\n",
            "Batch index:    50\tLoss: 0.07451 \t train_loss: 6.52413\n",
            "Train Loss: 0.00127\n",
            "----------------------------------------------------------------------------------------------------\n",
            "Epoch: 015, Train Acc: 0.9702, Val Acc: 0.9720, Test Acc: 0.9662\n",
            "====================================================================================================\n",
            "Epoch:  16\n",
            "Batch index:     0\tLoss: 0.18193 \t train_loss: 0.18193\n",
            "Batch index:    10\tLoss: 0.09588 \t train_loss: 1.58579\n",
            "Batch index:    20\tLoss: 0.06150 \t train_loss: 2.64400\n",
            "Batch index:    30\tLoss: 0.06908 \t train_loss: 3.93909\n",
            "Batch index:    40\tLoss: 0.14191 \t train_loss: 5.24815\n",
            "Batch index:    50\tLoss: 0.16582 \t train_loss: 6.40228\n",
            "Train Loss: 0.00124\n",
            "----------------------------------------------------------------------------------------------------\n",
            "Epoch: 016, Train Acc: 0.9694, Val Acc: 0.9690, Test Acc: 0.9662\n",
            "====================================================================================================\n",
            "Epoch:  17\n",
            "Batch index:     0\tLoss: 0.02347 \t train_loss: 0.02347\n",
            "Batch index:    10\tLoss: 0.25599 \t train_loss: 1.18704\n",
            "Batch index:    20\tLoss: 0.04335 \t train_loss: 2.35669\n",
            "Batch index:    30\tLoss: 0.22027 \t train_loss: 3.54071\n",
            "Batch index:    40\tLoss: 0.18917 \t train_loss: 4.69033\n",
            "Batch index:    50\tLoss: 0.17939 \t train_loss: 6.25222\n",
            "Train Loss: 0.00124\n",
            "----------------------------------------------------------------------------------------------------\n",
            "Epoch: 017, Train Acc: 0.9692, Val Acc: 0.9676, Test Acc: 0.9662\n",
            "====================================================================================================\n",
            "Epoch:  18\n",
            "Batch index:     0\tLoss: 0.10437 \t train_loss: 0.10437\n",
            "Batch index:    10\tLoss: 0.07142 \t train_loss: 1.18198\n",
            "Batch index:    20\tLoss: 0.10613 \t train_loss: 2.43188\n",
            "Batch index:    30\tLoss: 0.05015 \t train_loss: 3.49756\n",
            "Batch index:    40\tLoss: 0.09844 \t train_loss: 4.78882\n",
            "Batch index:    50\tLoss: 0.09131 \t train_loss: 6.18444\n",
            "Train Loss: 0.00123\n",
            "----------------------------------------------------------------------------------------------------\n",
            "Epoch: 018, Train Acc: 0.9700, Val Acc: 0.9720, Test Acc: 0.9662\n",
            "====================================================================================================\n",
            "Epoch:  19\n",
            "Batch index:     0\tLoss: 0.15514 \t train_loss: 0.15514\n",
            "Batch index:    10\tLoss: 0.05099 \t train_loss: 1.35077\n",
            "Batch index:    20\tLoss: 0.14072 \t train_loss: 2.60043\n",
            "Batch index:    30\tLoss: 0.11600 \t train_loss: 3.73800\n",
            "Batch index:    40\tLoss: 0.11081 \t train_loss: 4.81412\n",
            "Batch index:    50\tLoss: 0.14580 \t train_loss: 6.22603\n",
            "Train Loss: 0.00120\n",
            "----------------------------------------------------------------------------------------------------\n",
            "Epoch: 019, Train Acc: 0.9683, Val Acc: 0.9749, Test Acc: 0.9662\n"
          ]
        }
      ],
      "source": [
        "train_acc_list = []\n",
        "test_acc_list = []\n",
        "val_acc_list = []\n",
        "\n",
        "n_epoch = 20\n",
        "\n",
        "for epoch in range(1, n_epoch):\n",
        "    print(\"=\"*100)\n",
        "    print(\"Epoch: \", epoch)\n",
        "    train()\n",
        "\n",
        "    train_acc, out_tmp, true_tmp, train_loss = test(train_loader)\n",
        "    train_acc_list.append(train_acc)\n",
        "\n",
        "    val_acc, val_pred, val_true, val_loss = test(val_loader)\n",
        "    val_acc_list.append(val_acc)\n",
        "\n",
        "    print(\"-\"*100)\n",
        "    print(f'Epoch: {epoch:03d}, Train Acc: {train_acc:.4f}, Val Acc: {val_acc:.4f}, Test Acc: {test_acc:.4f}')"
      ]
    },
    {
      "cell_type": "code",
      "source": [
        "test_acc, out_all, true_all, test_loss = test(test_loader)\n",
        "print(f\"Test Accuracy: {test_acc:.5f}\")\n",
        "print(f\"Test Loss: {test_loss:.5f}\")"
      ],
      "metadata": {
        "colab": {
          "base_uri": "https://localhost:8080/"
        },
        "id": "4gQ5iZNLDsvU",
        "outputId": "9d279e32-d274-4fe7-9037-47ca71b65398"
      },
      "execution_count": null,
      "outputs": [
        {
          "output_type": "stream",
          "name": "stdout",
          "text": [
            "Test Accuracy: 0.96618\n",
            "Test Loss: 0.00144\n"
          ]
        }
      ]
    },
    {
      "cell_type": "code",
      "source": [
        "import sklearn\n",
        "from sklearn.metrics import f1_score, roc_auc_score\n",
        "f1 = f1_score(true_all, [1 if x>= 0.5 else 0 for x in out_all])\n",
        "auc = roc_auc_score(true_all, out_all)\n",
        "print(f\"F1-score: {f1:.4f}\")\n",
        "print(f\"ROC_AUC: {auc:.4f}\")"
      ],
      "metadata": {
        "colab": {
          "base_uri": "https://localhost:8080/"
        },
        "id": "-hdbYmu4DHOx",
        "outputId": "876afdf1-fe61-4157-e7c5-b7ce5aa24eaa"
      },
      "execution_count": null,
      "outputs": [
        {
          "output_type": "stream",
          "name": "stdout",
          "text": [
            "F1-score: 0.3784\n",
            "ROC_AUC: 0.7313\n"
          ]
        }
      ]
    },
    {
      "cell_type": "code",
      "source": [
        "out_binary = [1 if x >= 0.5 else 0 for x in out_all]\n",
        "cm = confusion_matrix(true_all, out_binary, labels=(0,1))\n",
        "disp = ConfusionMatrixDisplay(confusion_matrix=cm, display_labels=(0,1))\n",
        "disp.plot()"
      ],
      "metadata": {
        "colab": {
          "base_uri": "https://localhost:8080/",
          "height": 467
        },
        "id": "2Avu8M_qDL80",
        "outputId": "4fe4838f-dee2-44a9-efbb-db1833e7308d"
      },
      "execution_count": null,
      "outputs": [
        {
          "output_type": "execute_result",
          "data": {
            "text/plain": [
              "<sklearn.metrics._plot.confusion_matrix.ConfusionMatrixDisplay at 0x7c1c4e46fa60>"
            ]
          },
          "metadata": {},
          "execution_count": 71
        },
        {
          "output_type": "display_data",
          "data": {
            "text/plain": [
              "<Figure size 640x480 with 2 Axes>"
            ],
            "image/png": "[encoded data removed]"
          },
          "metadata": {}
        }
      ]
    },
    {
      "cell_type": "code",
      "source": [
        "from sklearn.metrics import RocCurveDisplay\n",
        "\n",
        "display = RocCurveDisplay.from_predictions(\n",
        "    true_all,\n",
        "    out_all,\n",
        "    name=f\"Toxicity\",\n",
        "    color=\"darkorange\",\n",
        "    plot_chance_level=True,\n",
        ")\n",
        "_ = display.ax_.set(\n",
        "    xlabel=\"False Positive Rate\",\n",
        "    ylabel=\"True Positive Rate\",\n",
        "    title=\"One-vs-Rest ROC curves:\\n Toxic vs Non-toxic\",\n",
        ")"
      ],
      "metadata": {
        "colab": {
          "base_uri": "https://localhost:8080/",
          "height": 493
        },
        "id": "oo-9qGX-DOuq",
        "outputId": "f706af96-1982-47b6-c1e0-0f6b5a528246"
      },
      "execution_count": null,
      "outputs": [
        {
          "output_type": "display_data",
          "data": {
            "text/plain": [
              "<Figure size 640x480 with 1 Axes>"
            ],
            "image/png": "[encoded data removed]"
          },
          "metadata": {}
        }
      ]
    },
    {
      "cell_type": "code",
      "source": [
        "display = PrecisionRecallDisplay.from_predictions(\n",
        "    true_all,\n",
        "    out_all,\n",
        "    name = \"Toxicity\",\n",
        "    plot_chance_level=True,\n",
        ")\n",
        "\n",
        "_ = display.ax_.set(\n",
        "    title=\"Toxicity prediction PR-curve\",\n",
        ")"
      ],
      "metadata": {
        "colab": {
          "base_uri": "https://localhost:8080/",
          "height": 472
        },
        "id": "A9-8AzzSDiur",
        "outputId": "eab616aa-11c7-4bb0-8aa3-6fd18f832c84"
      },
      "execution_count": null,
      "outputs": [
        {
          "output_type": "display_data",
          "data": {
            "text/plain": [
              "<Figure size 640x480 with 1 Axes>"
            ],
            "image/png": "[encoded data removed]"
          },
          "metadata": {}
        }
      ]
    },
    {
      "cell_type": "markdown",
      "metadata": {
        "id": "3HxvatOfMiSU"
      },
      "source": [
        "# 어떤 layer가 어떤 정보를 사용하는가?\n",
        "----\n",
        "## GNN Cheatsheet\n",
        "\n",
        "https://pytorch-geometric.readthedocs.io/en/latest/notes/cheatsheet.html#"
      ]
    },
    {
      "cell_type": "code",
      "execution_count": null,
      "metadata": {
        "id": "uvXXbCnxAnCM"
      },
      "outputs": [],
      "source": [
        "import torch\n",
        "from torch.nn import Linear\n",
        "import torch.nn.functional as F\n",
        "from torch_geometric.nn import GCNConv, GATConv, TransformerConv, GATv2Conv\n",
        "from torch_geometric.nn import global_mean_pool\n",
        "\n",
        "class myGATv2Conv_model(torch.nn.Module):\n",
        "    def __init__(self):\n",
        "        super().__init__()\n",
        "        self.conv1 = GATv2Conv(35, 70, edge_dim=12) # 가장 기본적인 graph convolution model, https://pytorch-geometric.readthedocs.io/en/latest/modules/nn.html#torch_geometric.nn.conv.GCNConv\n",
        "        self.conv2 = GATv2Conv(70, 70, edge_dim=12)\n",
        "        self.conv3 = GATv2Conv(70, 70, edge_dim=12)\n",
        "        #self.conv4 = GATv2Conv(70, 70, edge_dim=12)\n",
        "        #self.conv5 = GATv2Conv(70, 70, edge_dim=12)\n",
        "\n",
        "        self.lin1 = Linear(70, 35)\n",
        "        self.lin2 = Linear(35, 1)\n",
        "\n",
        "    def forward(self, data):\n",
        "        x, edge_index, batch, edge_attr, edge_weight = data.x, data.edge_index, data.batch, data.edge_attr, data.edge_weight\n",
        "\n",
        "        x = self.conv1(x, edge_index, edge_attr)\n",
        "        x = F.gelu(x)\n",
        "        x = F.dropout(x, training=self.training)\n",
        "\n",
        "        x = self.conv2(x, edge_index, edge_attr)\n",
        "        x = F.gelu(x)\n",
        "\n",
        "        x = self.conv3(x, edge_index, edge_attr)\n",
        "        x = F.gelu(x)\n",
        "\n",
        "        #x = self.conv4(x, edge_index, edge_attr)\n",
        "        #x = F.gelu(x)\n",
        "        #x = self.conv5(x, edge_index, edge_attr)\n",
        "        #x = F.gelu(x)\n",
        "\n",
        "        x = global_mean_pool(x, batch) # 전체의 node feature의 평균 값을 취한다. # [batch_size, hidden_channels]\n",
        "        x = F.gelu(self.lin1(x))\n",
        "        x = self.lin2(x)\n",
        "\n",
        "        return x"
      ]
    },
    {
      "cell_type": "code",
      "execution_count": null,
      "metadata": {
        "id": "yYCS_KKoRDdu",
        "colab": {
          "base_uri": "https://localhost:8080/"
        },
        "outputId": "e881c65b-f6ed-4eba-d2ba-d56f610ca0fa"
      },
      "outputs": [
        {
          "output_type": "execute_result",
          "data": {
            "text/plain": [
              "myGATv2Conv_model(\n",
              "  (conv1): GATv2Conv(35, 70, heads=1)\n",
              "  (conv2): GATv2Conv(70, 70, heads=1)\n",
              "  (conv3): GATv2Conv(70, 70, heads=1)\n",
              "  (lin1): Linear(in_features=70, out_features=35, bias=True)\n",
              "  (lin2): Linear(in_features=35, out_features=1, bias=True)\n",
              ")"
            ]
          },
          "metadata": {},
          "execution_count": 75
        }
      ],
      "source": [
        "model = myGATv2Conv_model()\n",
        "model.to(device)"
      ]
    },
    {
      "cell_type": "code",
      "execution_count": null,
      "metadata": {
        "id": "U46S_IErROVR",
        "colab": {
          "base_uri": "https://localhost:8080/"
        },
        "outputId": "2f1cde17-fffb-4d88-9462-9d46a52001e5"
      },
      "outputs": [
        {
          "output_type": "stream",
          "name": "stdout",
          "text": [
            "+-----------------------+------------+\n",
            "|        Modules        | Parameters |\n",
            "+-----------------------+------------+\n",
            "|       conv1.att       |     70     |\n",
            "|       conv1.bias      |     70     |\n",
            "|   conv1.lin_l.weight  |    2450    |\n",
            "|    conv1.lin_l.bias   |     70     |\n",
            "|   conv1.lin_r.weight  |    2450    |\n",
            "|    conv1.lin_r.bias   |     70     |\n",
            "| conv1.lin_edge.weight |    840     |\n",
            "|       conv2.att       |     70     |\n",
            "|       conv2.bias      |     70     |\n",
            "|   conv2.lin_l.weight  |    4900    |\n",
            "|    conv2.lin_l.bias   |     70     |\n",
            "|   conv2.lin_r.weight  |    4900    |\n",
            "|    conv2.lin_r.bias   |     70     |\n",
            "| conv2.lin_edge.weight |    840     |\n",
            "|       conv3.att       |     70     |\n",
            "|       conv3.bias      |     70     |\n",
            "|   conv3.lin_l.weight  |    4900    |\n",
            "|    conv3.lin_l.bias   |     70     |\n",
            "|   conv3.lin_r.weight  |    4900    |\n",
            "|    conv3.lin_r.bias   |     70     |\n",
            "| conv3.lin_edge.weight |    840     |\n",
            "|      lin1.weight      |    2450    |\n",
            "|       lin1.bias       |     35     |\n",
            "|      lin2.weight      |     35     |\n",
            "|       lin2.bias       |     1      |\n",
            "+-----------------------+------------+\n",
            "Total Trainable Params: 30381\n"
          ]
        },
        {
          "output_type": "execute_result",
          "data": {
            "text/plain": [
              "30381"
            ]
          },
          "metadata": {},
          "execution_count": 76
        }
      ],
      "source": [
        "count_parameters(model)"
      ]
    },
    {
      "cell_type": "code",
      "execution_count": null,
      "metadata": {
        "id": "0q7Rj_jeRRPv"
      },
      "outputs": [],
      "source": [
        "optimizer = torch.optim.Adam(model.parameters(), lr=0.005)\n",
        "#criterion = torch.nn.MSELoss()\n",
        "criterion = torch.nn.BCEWithLogitsLoss()"
      ]
    },
    {
      "cell_type": "code",
      "execution_count": null,
      "metadata": {
        "id": "eRPFLnPPRYyI",
        "colab": {
          "base_uri": "https://localhost:8080/"
        },
        "outputId": "d187875f-96c2-4d45-fa9b-fc029afe2e49"
      },
      "outputs": [
        {
          "output_type": "stream",
          "name": "stdout",
          "text": [
            "====================================================================================================\n",
            "Epoch:  1\n",
            "Batch index:     0\tLoss: 0.07533 \t train_loss: 0.07533\n",
            "Batch index:    10\tLoss: 0.09132 \t train_loss: 1.63765\n",
            "Batch index:    20\tLoss: 0.15959 \t train_loss: 2.98177\n",
            "Batch index:    30\tLoss: 0.17335 \t train_loss: 4.25718\n",
            "Batch index:    40\tLoss: 0.11759 \t train_loss: 5.65851\n",
            "Batch index:    50\tLoss: 0.12659 \t train_loss: 7.18402\n",
            "Train Loss: 0.00142\n",
            "----------------------------------------------------------------------------------------------------\n",
            "Epoch: 001, Train Acc: 0.9654, Val Acc: 0.9705, Test Acc: 0.9618\n",
            "====================================================================================================\n",
            "Epoch:  2\n",
            "Batch index:     0\tLoss: 0.09832 \t train_loss: 0.09832\n",
            "Batch index:    10\tLoss: 0.15428 \t train_loss: 1.64328\n",
            "Batch index:    20\tLoss: 0.14549 \t train_loss: 2.83905\n",
            "Batch index:    30\tLoss: 0.08023 \t train_loss: 4.04711\n",
            "Batch index:    40\tLoss: 0.09835 \t train_loss: 5.26593\n",
            "Batch index:    50\tLoss: 0.20532 \t train_loss: 6.55957\n",
            "Train Loss: 0.00133\n",
            "----------------------------------------------------------------------------------------------------\n",
            "Epoch: 002, Train Acc: 0.9624, Val Acc: 0.9720, Test Acc: 0.9647\n",
            "====================================================================================================\n",
            "Epoch:  3\n",
            "Batch index:     0\tLoss: 0.11376 \t train_loss: 0.11376\n",
            "Batch index:    10\tLoss: 0.18266 \t train_loss: 1.39113\n",
            "Batch index:    20\tLoss: 0.16056 \t train_loss: 2.82939\n",
            "Batch index:    30\tLoss: 0.06505 \t train_loss: 4.01511\n",
            "Batch index:    40\tLoss: 0.11403 \t train_loss: 5.37280\n",
            "Batch index:    50\tLoss: 0.07379 \t train_loss: 6.52414\n",
            "Train Loss: 0.00129\n",
            "----------------------------------------------------------------------------------------------------\n",
            "Epoch: 003, Train Acc: 0.9683, Val Acc: 0.9720, Test Acc: 0.9632\n",
            "====================================================================================================\n",
            "Epoch:  4\n",
            "Batch index:     0\tLoss: 0.13550 \t train_loss: 0.13550\n",
            "Batch index:    10\tLoss: 0.14358 \t train_loss: 1.55167\n",
            "Batch index:    20\tLoss: 0.09757 \t train_loss: 2.92406\n",
            "Batch index:    30\tLoss: 0.19300 \t train_loss: 4.15532\n",
            "Batch index:    40\tLoss: 0.09937 \t train_loss: 5.10495\n",
            "Batch index:    50\tLoss: 0.08327 \t train_loss: 6.45323\n",
            "Train Loss: 0.00129\n",
            "----------------------------------------------------------------------------------------------------\n",
            "Epoch: 004, Train Acc: 0.9683, Val Acc: 0.9779, Test Acc: 0.9676\n",
            "====================================================================================================\n",
            "Epoch:  5\n",
            "Batch index:     0\tLoss: 0.07655 \t train_loss: 0.07655\n",
            "Batch index:    10\tLoss: 0.16218 \t train_loss: 1.41409\n",
            "Batch index:    20\tLoss: 0.11066 \t train_loss: 2.71395\n",
            "Batch index:    30\tLoss: 0.09468 \t train_loss: 3.91512\n",
            "Batch index:    40\tLoss: 0.10548 \t train_loss: 5.03045\n",
            "Batch index:    50\tLoss: 0.09132 \t train_loss: 6.10320\n",
            "Train Loss: 0.00124\n",
            "----------------------------------------------------------------------------------------------------\n",
            "Epoch: 005, Train Acc: 0.9713, Val Acc: 0.9779, Test Acc: 0.9691\n",
            "====================================================================================================\n",
            "Epoch:  6\n",
            "Batch index:     0\tLoss: 0.07520 \t train_loss: 0.07520\n",
            "Batch index:    10\tLoss: 0.09170 \t train_loss: 1.14111\n",
            "Batch index:    20\tLoss: 0.07655 \t train_loss: 2.46476\n",
            "Batch index:    30\tLoss: 0.14084 \t train_loss: 3.71843\n",
            "Batch index:    40\tLoss: 0.12484 \t train_loss: 4.85031\n",
            "Batch index:    50\tLoss: 0.06373 \t train_loss: 6.22374\n",
            "Train Loss: 0.00123\n",
            "----------------------------------------------------------------------------------------------------\n",
            "Epoch: 006, Train Acc: 0.9705, Val Acc: 0.9779, Test Acc: 0.9691\n",
            "====================================================================================================\n",
            "Epoch:  7\n",
            "Batch index:     0\tLoss: 0.10077 \t train_loss: 0.10077\n",
            "Batch index:    10\tLoss: 0.13598 \t train_loss: 1.33697\n",
            "Batch index:    20\tLoss: 0.27309 \t train_loss: 2.62074\n",
            "Batch index:    30\tLoss: 0.13019 \t train_loss: 3.65191\n",
            "Batch index:    40\tLoss: 0.17999 \t train_loss: 4.75068\n",
            "Batch index:    50\tLoss: 0.06057 \t train_loss: 6.00013\n",
            "Train Loss: 0.00120\n",
            "----------------------------------------------------------------------------------------------------\n",
            "Epoch: 007, Train Acc: 0.9713, Val Acc: 0.9764, Test Acc: 0.9706\n",
            "====================================================================================================\n",
            "Epoch:  8\n",
            "Batch index:     0\tLoss: 0.13798 \t train_loss: 0.13798\n",
            "Batch index:    10\tLoss: 0.09669 \t train_loss: 1.27563\n",
            "Batch index:    20\tLoss: 0.10359 \t train_loss: 2.55263\n",
            "Batch index:    30\tLoss: 0.10259 \t train_loss: 3.76278\n",
            "Batch index:    40\tLoss: 0.18103 \t train_loss: 5.07535\n",
            "Batch index:    50\tLoss: 0.07962 \t train_loss: 6.22503\n",
            "Train Loss: 0.00122\n",
            "----------------------------------------------------------------------------------------------------\n",
            "Epoch: 008, Train Acc: 0.9694, Val Acc: 0.9749, Test Acc: 0.9662\n",
            "====================================================================================================\n",
            "Epoch:  9\n",
            "Batch index:     0\tLoss: 0.11094 \t train_loss: 0.11094\n",
            "Batch index:    10\tLoss: 0.17692 \t train_loss: 1.69058\n",
            "Batch index:    20\tLoss: 0.33092 \t train_loss: 2.87299\n",
            "Batch index:    30\tLoss: 0.25430 \t train_loss: 4.17515\n",
            "Batch index:    40\tLoss: 0.14287 \t train_loss: 5.54029\n",
            "Batch index:    50\tLoss: 0.07545 \t train_loss: 6.42779\n",
            "Train Loss: 0.00125\n",
            "----------------------------------------------------------------------------------------------------\n",
            "Epoch: 009, Train Acc: 0.9724, Val Acc: 0.9749, Test Acc: 0.9706\n",
            "====================================================================================================\n",
            "Epoch:  10\n",
            "Batch index:     0\tLoss: 0.23355 \t train_loss: 0.23355\n",
            "Batch index:    10\tLoss: 0.14889 \t train_loss: 1.56630\n",
            "Batch index:    20\tLoss: 0.04470 \t train_loss: 2.64154\n",
            "Batch index:    30\tLoss: 0.08814 \t train_loss: 3.72102\n",
            "Batch index:    40\tLoss: 0.11489 \t train_loss: 4.87829\n",
            "Batch index:    50\tLoss: 0.11791 \t train_loss: 6.10042\n",
            "Train Loss: 0.00119\n",
            "----------------------------------------------------------------------------------------------------\n",
            "Epoch: 010, Train Acc: 0.9711, Val Acc: 0.9779, Test Acc: 0.9691\n",
            "====================================================================================================\n",
            "Epoch:  11\n",
            "Batch index:     0\tLoss: 0.04326 \t train_loss: 0.04326\n",
            "Batch index:    10\tLoss: 0.13227 \t train_loss: 1.33113\n",
            "Batch index:    20\tLoss: 0.11050 \t train_loss: 2.46550\n",
            "Batch index:    30\tLoss: 0.04915 \t train_loss: 3.58047\n",
            "Batch index:    40\tLoss: 0.07868 \t train_loss: 4.85895\n",
            "Batch index:    50\tLoss: 0.14830 \t train_loss: 6.03895\n",
            "Train Loss: 0.00123\n",
            "----------------------------------------------------------------------------------------------------\n",
            "Epoch: 011, Train Acc: 0.9705, Val Acc: 0.9720, Test Acc: 0.9662\n",
            "====================================================================================================\n",
            "Epoch:  12\n",
            "Batch index:     0\tLoss: 0.14139 \t train_loss: 0.14139\n",
            "Batch index:    10\tLoss: 0.09848 \t train_loss: 1.28939\n",
            "Batch index:    20\tLoss: 0.12872 \t train_loss: 2.35419\n",
            "Batch index:    30\tLoss: 0.14415 \t train_loss: 3.52783\n",
            "Batch index:    40\tLoss: 0.06470 \t train_loss: 4.57476\n",
            "Batch index:    50\tLoss: 0.26695 \t train_loss: 6.03309\n",
            "Train Loss: 0.00121\n",
            "----------------------------------------------------------------------------------------------------\n",
            "Epoch: 012, Train Acc: 0.9713, Val Acc: 0.9794, Test Acc: 0.9691\n",
            "====================================================================================================\n",
            "Epoch:  13\n",
            "Batch index:     0\tLoss: 0.13690 \t train_loss: 0.13690\n",
            "Batch index:    10\tLoss: 0.08507 \t train_loss: 1.37360\n",
            "Batch index:    20\tLoss: 0.10258 \t train_loss: 2.02288\n",
            "Batch index:    30\tLoss: 0.14066 \t train_loss: 3.29917\n",
            "Batch index:    40\tLoss: 0.09943 \t train_loss: 4.57235\n",
            "Batch index:    50\tLoss: 0.08946 \t train_loss: 6.06431\n",
            "Train Loss: 0.00119\n",
            "----------------------------------------------------------------------------------------------------\n",
            "Epoch: 013, Train Acc: 0.9724, Val Acc: 0.9735, Test Acc: 0.9706\n",
            "====================================================================================================\n",
            "Epoch:  14\n",
            "Batch index:     0\tLoss: 0.06352 \t train_loss: 0.06352\n",
            "Batch index:    10\tLoss: 0.07355 \t train_loss: 1.02158\n",
            "Batch index:    20\tLoss: 0.12307 \t train_loss: 2.30813\n",
            "Batch index:    30\tLoss: 0.16381 \t train_loss: 3.32251\n",
            "Batch index:    40\tLoss: 0.18625 \t train_loss: 4.64808\n",
            "Batch index:    50\tLoss: 0.24491 \t train_loss: 6.00917\n",
            "Train Loss: 0.00121\n",
            "----------------------------------------------------------------------------------------------------\n",
            "Epoch: 014, Train Acc: 0.9705, Val Acc: 0.9661, Test Acc: 0.9691\n",
            "====================================================================================================\n",
            "Epoch:  15\n",
            "Batch index:     0\tLoss: 0.16941 \t train_loss: 0.16941\n",
            "Batch index:    10\tLoss: 0.12102 \t train_loss: 1.02566\n",
            "Batch index:    20\tLoss: 0.21574 \t train_loss: 2.68995\n",
            "Batch index:    30\tLoss: 0.02182 \t train_loss: 3.73230\n",
            "Batch index:    40\tLoss: 0.17893 \t train_loss: 4.63555\n",
            "Batch index:    50\tLoss: 0.18729 \t train_loss: 6.22841\n",
            "Train Loss: 0.00125\n",
            "----------------------------------------------------------------------------------------------------\n",
            "Epoch: 015, Train Acc: 0.9705, Val Acc: 0.9779, Test Acc: 0.9691\n",
            "====================================================================================================\n",
            "Epoch:  16\n",
            "Batch index:     0\tLoss: 0.14714 \t train_loss: 0.14714\n",
            "Batch index:    10\tLoss: 0.22151 \t train_loss: 1.27279\n",
            "Batch index:    20\tLoss: 0.16352 \t train_loss: 2.43087\n",
            "Batch index:    30\tLoss: 0.11934 \t train_loss: 3.51926\n",
            "Batch index:    40\tLoss: 0.16842 \t train_loss: 4.70386\n",
            "Batch index:    50\tLoss: 0.17365 \t train_loss: 5.99099\n",
            "Train Loss: 0.00115\n",
            "----------------------------------------------------------------------------------------------------\n",
            "Epoch: 016, Train Acc: 0.9703, Val Acc: 0.9794, Test Acc: 0.9706\n",
            "====================================================================================================\n",
            "Epoch:  17\n",
            "Batch index:     0\tLoss: 0.09042 \t train_loss: 0.09042\n",
            "Batch index:    10\tLoss: 0.01616 \t train_loss: 1.07169\n",
            "Batch index:    20\tLoss: 0.16155 \t train_loss: 2.13036\n",
            "Batch index:    30\tLoss: 0.09336 \t train_loss: 3.45666\n",
            "Batch index:    40\tLoss: 0.21912 \t train_loss: 4.84908\n",
            "Batch index:    50\tLoss: 0.21394 \t train_loss: 5.90063\n",
            "Train Loss: 0.00117\n",
            "----------------------------------------------------------------------------------------------------\n",
            "Epoch: 017, Train Acc: 0.9724, Val Acc: 0.9808, Test Acc: 0.9691\n",
            "====================================================================================================\n",
            "Epoch:  18\n",
            "Batch index:     0\tLoss: 0.13915 \t train_loss: 0.13915\n",
            "Batch index:    10\tLoss: 0.13635 \t train_loss: 1.23169\n",
            "Batch index:    20\tLoss: 0.11179 \t train_loss: 2.21041\n",
            "Batch index:    30\tLoss: 0.10301 \t train_loss: 3.35693\n",
            "Batch index:    40\tLoss: 0.04073 \t train_loss: 4.53910\n",
            "Batch index:    50\tLoss: 0.08026 \t train_loss: 5.82301\n",
            "Train Loss: 0.00116\n",
            "----------------------------------------------------------------------------------------------------\n",
            "Epoch: 018, Train Acc: 0.9729, Val Acc: 0.9794, Test Acc: 0.9706\n",
            "====================================================================================================\n",
            "Epoch:  19\n",
            "Batch index:     0\tLoss: 0.12316 \t train_loss: 0.12316\n",
            "Batch index:    10\tLoss: 0.25318 \t train_loss: 1.60772\n",
            "Batch index:    20\tLoss: 0.12992 \t train_loss: 2.62840\n",
            "Batch index:    30\tLoss: 0.09925 \t train_loss: 3.63741\n",
            "Batch index:    40\tLoss: 0.11671 \t train_loss: 4.75290\n",
            "Batch index:    50\tLoss: 0.14792 \t train_loss: 5.83278\n",
            "Train Loss: 0.00114\n",
            "----------------------------------------------------------------------------------------------------\n",
            "Epoch: 019, Train Acc: 0.9729, Val Acc: 0.9794, Test Acc: 0.9706\n"
          ]
        }
      ],
      "source": [
        "train_acc_list = []\n",
        "test_acc_list = []\n",
        "val_acc_list = []\n",
        "for epoch in range(1, 20):\n",
        "    print(\"=\"*100)\n",
        "    print(\"Epoch: \", epoch)\n",
        "\n",
        "    train()\n",
        "\n",
        "    train_acc, out_tmp, true_tmp, train_loss = test(train_loader)\n",
        "    train_acc_list.append(train_acc)\n",
        "\n",
        "    test_acc, out_all, true_all, test_loss = test(test_loader)\n",
        "    test_acc_list.append(test_acc)\n",
        "\n",
        "    val_acc, val_pred, val_true, val_loss = test(val_loader)\n",
        "    val_acc_list.append(val_acc)\n",
        "\n",
        "    print(\"-\"*100)\n",
        "    print(f'Epoch: {epoch:03d}, Train Acc: {train_acc:.4f}, Val Acc: {val_acc:.4f}, Test Acc: {test_acc:.4f}')"
      ]
    },
    {
      "cell_type": "code",
      "source": [
        "test_acc, out_all, true_all, test_loss = test(test_loader)\n",
        "print(f\"Test Accuracy: {test_acc:.5f}\")\n",
        "print(f\"Test Loss: {test_loss:.5f}\")"
      ],
      "metadata": {
        "id": "GwdOasu-EfjD",
        "colab": {
          "base_uri": "https://localhost:8080/"
        },
        "outputId": "aec89114-58b7-474c-d6d8-6adea1f440d3"
      },
      "execution_count": null,
      "outputs": [
        {
          "output_type": "stream",
          "name": "stdout",
          "text": [
            "Test Accuracy: 0.97059\n",
            "Test Loss: 0.00131\n"
          ]
        }
      ]
    },
    {
      "cell_type": "code",
      "source": [
        "import sklearn\n",
        "from sklearn.metrics import f1_score, roc_auc_score\n",
        "f1 = f1_score(true_all, [1 if x>= 0.5 else 0 for x in out_all])\n",
        "auc = roc_auc_score(true_all, out_all)\n",
        "print(f\"F1-score: {f1:.4f}\")\n",
        "print(f\"ROC_AUC: {auc:.4f}\")"
      ],
      "metadata": {
        "id": "ghoc2mNWEixm",
        "colab": {
          "base_uri": "https://localhost:8080/"
        },
        "outputId": "a3f784e8-2577-4937-a16d-52de2e365d58"
      },
      "execution_count": null,
      "outputs": [
        {
          "output_type": "stream",
          "name": "stdout",
          "text": [
            "F1-score: 0.4737\n",
            "ROC_AUC: 0.7948\n"
          ]
        }
      ]
    },
    {
      "cell_type": "markdown",
      "metadata": {
        "id": "e_VX7Yqucyb2"
      },
      "source": [
        "# (Exercise) Build you own network using other layer, GraphConv layer"
      ]
    },
    {
      "cell_type": "markdown",
      "metadata": {
        "id": "NjKC9AB8szc1"
      },
      "source": [
        "또 다른 모델인 GraphConv layer를 이용해서 모델을 만들어 보라~\n",
        "\n",
        "https://pytorch-geometric.readthedocs.io/en/latest/modules/nn.html#torch_geometric.nn.conv.GraphConv"
      ]
    },
    {
      "cell_type": "code",
      "execution_count": null,
      "metadata": {
        "id": "g7KgkR4cdCh6"
      },
      "outputs": [],
      "source": [
        "import torch\n",
        "from torch.nn import Linear\n",
        "import torch.nn.functional as F\n",
        "from torch_geometric.nn import GCNConv, GATConv, TransformerConv, GATv2Conv, GraphConv\n",
        "from torch_geometric.nn import global_mean_pool\n",
        "\n",
        "class my_GraphConv_model(torch.nn.Module):\n",
        "    def __init__(self):\n",
        "        super().__init__()\n",
        "        self.conv1 = GraphConv(...) # 가장 기본적인 graph convolution model, https://pytorch-geometric.readthedocs.io/en/latest/modules/nn.html#torch_geometric.nn.conv.GCNConv\n",
        "        self.conv2 = GraphConv(...)\n",
        "        self.conv3 = GraphConv(...)\n",
        "        self.conv4 = GraphConv(...)\n",
        "        self.conv5 = GraphConv(...)\n",
        "\n",
        "        self.lin1 = Linear(...)\n",
        "        self.lin2 = Linear(...)\n",
        "\n",
        "    def forward(self, data):\n",
        "        x, edge_index, batch, edge_attr, edge_weight = data.x, data.edge_index, data.batch, data.edge_attr, data.edge_weight\n",
        "\n",
        "        x = self.conv1(x, edge_index, edge_attr)\n",
        "        x = F.gelu(x)\n",
        "        x = F.dropout(x, training=self.training)\n",
        "        x = self.conv2(x, edge_index, edge_attr)\n",
        "        x = F.gelu(x)\n",
        "        x = self.conv3(x, edge_index, edge_attr)\n",
        "        x = F.gelu(x)\n",
        "        #x = self.conv4(x, edge_index, edge_attr)\n",
        "        #x = F.gelu(x)\n",
        "        #x = self.conv5(x, edge_index, edge_attr)\n",
        "        #x = F.gelu(x)\n",
        "\n",
        "        x = global_mean_pool(x, batch) # 전체의 node feature의 평균 값을 취한다. # [batch_size, hidden_channels]\n",
        "        x = F.gelu(self.lin1(x))\n",
        "        x = self.lin2(x)\n",
        "\n",
        "        return x"
      ]
    },
    {
      "cell_type": "code",
      "execution_count": null,
      "metadata": {
        "id": "llfIgm_wdMGM"
      },
      "outputs": [],
      "source": [
        "model = my_GraphConv_model()\n",
        "print(model)\n",
        "count_parameters(model)"
      ]
    },
    {
      "cell_type": "code",
      "execution_count": null,
      "metadata": {
        "id": "vGYN-TPuBcvT"
      },
      "outputs": [],
      "source": [
        "optimizer = torch.optim.Adam(model.parameters(), lr=0.005)\n",
        "#criterion = torch.nn.MSELoss()\n",
        "criterion = torch.nn.BCEWithLogitsLoss()"
      ]
    },
    {
      "cell_type": "code",
      "execution_count": null,
      "metadata": {
        "id": "3nnj4bgSBgnK"
      },
      "outputs": [],
      "source": [
        "for epoch in range(1, 20):\n",
        "    print(\"=\"*100)\n",
        "    print(\"Epoch: \", epoch)\n",
        "    train()\n",
        "    train_acc, out_tmp, true_tmp, train_loss = test(train_loader)\n",
        "    test_acc, out_all, true_all, test_loss = test(test_loader)\n",
        "    val_acc, val_pred, val_true, val_loss = test(val_loader)\n",
        "    print(\"-\"*100)\n",
        "    print(f'Epoch: {epoch:03d}, Train Acc: {train_acc:.4f}, Val Acc: {val_acc:.4f}, Test Acc: {test_acc:.4f}')"
      ]
    },
    {
      "cell_type": "markdown",
      "metadata": {
        "id": "Q__zRo3CQhZ_"
      },
      "source": []
    }
  ],
  "metadata": {
    "accelerator": "GPU",
    "colab": {
      "machine_shape": "hm",
      "provenance": []
    },
    "kernelspec": {
      "display_name": "Python 3",
      "name": "python3"
    },
    "language_info": {
      "name": "python"
    }
  },
  "nbformat": 4,
  "nbformat_minor": 0
}